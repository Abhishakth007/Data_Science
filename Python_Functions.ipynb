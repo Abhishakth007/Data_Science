{
  "nbformat": 4,
  "nbformat_minor": 0,
  "metadata": {
    "colab": {
      "provenance": []
    },
    "kernelspec": {
      "name": "python3",
      "display_name": "Python 3"
    },
    "language_info": {
      "name": "python"
    }
  },
  "cells": [
    {
      "cell_type": "markdown",
      "source": [
        "# **Python Functions Assigment - Theoretical Questions**"
      ],
      "metadata": {
        "id": "da3XeiEsHeNX"
      }
    },
    {
      "cell_type": "markdown",
      "source": [
        "**1. What is the difference between a function and a method in Python?**\n",
        "- Function is something that is not associated with any Class or Object.\n",
        "- Where as methods are functions that are associated with an object and specifically written inside a class.\n"
      ],
      "metadata": {
        "id": "inLRWufIHmTu"
      }
    },
    {
      "cell_type": "code",
      "source": [
        "def greet():\n",
        "  return \"Hello Guys\"\n",
        "\n",
        "print(greet())   # Function\n",
        "\n",
        "list_a = [1,2,3,4]\n",
        "list_a.append(5)  # Method\n",
        "print(list_a)"
      ],
      "metadata": {
        "colab": {
          "base_uri": "https://localhost:8080/"
        },
        "id": "Mxjshyf1Jt2d",
        "outputId": "4a3af6ff-a534-4d31-c242-3da652c26f78"
      },
      "execution_count": 3,
      "outputs": [
        {
          "output_type": "stream",
          "name": "stdout",
          "text": [
            "Hello Guys\n",
            "[1, 2, 3, 4, 5]\n"
          ]
        }
      ]
    },
    {
      "cell_type": "markdown",
      "source": [
        "**2. Explain the concept of function arguments and parameters in Python.**\n",
        "- **Parameters** : Variables or Placeholders we pass to a function while defining a funtion.\n",
        "- **Arguments** : Variables or Placeholders we pass to a function when we call a function."
      ],
      "metadata": {
        "id": "BezzbZhAJDGW"
      }
    },
    {
      "cell_type": "code",
      "source": [
        "def square_number(n):   # n here is called parameter\n",
        "  return n*n\n",
        "\n",
        "n = 9\n",
        "print(square_number(n)) # n here is called an argument"
      ],
      "metadata": {
        "colab": {
          "base_uri": "https://localhost:8080/"
        },
        "id": "yyn_Zr1TKJCn",
        "outputId": "e85f835d-9405-4711-a901-66aef077ace9"
      },
      "execution_count": 4,
      "outputs": [
        {
          "output_type": "stream",
          "name": "stdout",
          "text": [
            "81\n"
          ]
        }
      ]
    },
    {
      "cell_type": "markdown",
      "source": [
        "**3. What are the different ways to define and call a function in Python?**\n",
        "\n",
        "- Few ways of **defining a function** :\n",
        "  - Regular Funtion using def and parameter\n",
        "  - Funtion with Default Parameter\n",
        "  - Functions with **args\n",
        "  - Functions with **kwars\n",
        "  - Lambda Function\n",
        "  - Nested Functions\n",
        "\n",
        "- Few ways of **Calling a Function** :\n",
        "  - Function called with Positional Arguments\n",
        "  - Function called with Keyword Arguments\n",
        "  - Calling a Lambda Function\n",
        "  - Calling Function with Keyword Arguments (Arguments in Dictionary Format)\n",
        "  - Calling Function with Variable Length Arguments"
      ],
      "metadata": {
        "id": "HCCcwEXfKe11"
      }
    },
    {
      "cell_type": "markdown",
      "source": [
        "**4. What is the purpose of the return statement in a Python function?**\n",
        "- **return** keyword is to tell what a function should return as an output.\n",
        "- **Return** is not same as **print**.\n",
        "- **return** is basically used inside a function to give something which is valid and in the scope of the function as an ouput to the user input and function call"
      ],
      "metadata": {
        "id": "uAQEy6ODNBfF"
      }
    },
    {
      "cell_type": "code",
      "source": [
        "def num_plus_2(n):\n",
        "  n = n+2\n",
        "  return n   # Decide what a function will return\n",
        "\n",
        "n=20\n",
        "print(num_plus_2(n))  # Print something in the console"
      ],
      "metadata": {
        "colab": {
          "base_uri": "https://localhost:8080/"
        },
        "id": "pr3YVZ5tNwa1",
        "outputId": "f567d3c7-5961-45ab-ecf8-2f45ca6ed35b"
      },
      "execution_count": 10,
      "outputs": [
        {
          "output_type": "stream",
          "name": "stdout",
          "text": [
            "22\n"
          ]
        }
      ]
    },
    {
      "cell_type": "markdown",
      "source": [
        "**5. What are iterators in Python and how do they differ from iterables?**\n",
        "\n",
        "- The major difference between iterables and iterators is the **Memory** **Allocation**\n",
        "- **Iterables** : Memory is alocated when **declared** / created.\n",
        "- **Iterators** : A pointer is just pointed to the memory when iter() is called.\n",
        "- Iterables can return all in one go.\n",
        "- They return one item at a time using next( )"
      ],
      "metadata": {
        "id": "45DBj3hhOZOH"
      }
    },
    {
      "cell_type": "code",
      "source": [
        "from typing import Iterator\n",
        "list_a = [1,2,3,4,5] # Memory is allocated\n",
        "print(list_a)\n",
        "\n",
        "iter_var = iter(list_a)  # A pointer is pointed to towards the list_a when next is called its moved just like a Linked List\n",
        "print(iter_var)\n",
        "print(next(iter_var))\n",
        "print(next(iter_var))"
      ],
      "metadata": {
        "colab": {
          "base_uri": "https://localhost:8080/"
        },
        "id": "r-TupBL8PLbW",
        "outputId": "2a729fa0-8cde-4834-e220-924ed197afd2"
      },
      "execution_count": 34,
      "outputs": [
        {
          "output_type": "stream",
          "name": "stdout",
          "text": [
            "[1, 2, 3, 4, 5]\n",
            "<list_iterator object at 0x780a6e01e6b0>\n",
            "1\n",
            "2\n"
          ]
        }
      ]
    },
    {
      "cell_type": "markdown",
      "source": [
        "**6. Explain the concept of generators in Python and how they are defined**\n",
        "- **Generator** is also a type of **Iterator**.\n",
        "- It lets you generate values one at a time without storing all of them.\n",
        "- It creates (**yields**) which pauses the function execution until next is called again."
      ],
      "metadata": {
        "id": "U4XM3gEFQNQ2"
      }
    },
    {
      "cell_type": "code",
      "source": [
        "def squares_gen():\n",
        "  for x in range(5):\n",
        "      yield x * x\n",
        "\n",
        "result = squares_gen()\n",
        "print(result)\n",
        "print(next(result))\n",
        "print(next(result))  # This paused the execution for x = 2 and waiting for the next(result) call"
      ],
      "metadata": {
        "colab": {
          "base_uri": "https://localhost:8080/"
        },
        "id": "W-40fXQAQsrT",
        "outputId": "7546708c-48dd-4b42-920d-06452c885351"
      },
      "execution_count": 39,
      "outputs": [
        {
          "output_type": "stream",
          "name": "stdout",
          "text": [
            "<generator object squares_gen at 0x780a6d877030>\n",
            "0\n",
            "1\n"
          ]
        }
      ]
    },
    {
      "cell_type": "markdown",
      "source": [
        "**7. What are the advantages of using generators over regular functions?**\n",
        "- **Memory Efficiency**: Generators do not store the entire result in memory.\n",
        "\n",
        "- They **yield** one item at at a time, so they are ideal for large datasets.\n",
        "\n",
        "- We can generate infinites sequence using a **Generator**"
      ],
      "metadata": {
        "id": "UoCnXuR5UD3l"
      }
    },
    {
      "cell_type": "markdown",
      "source": [
        "**8. What is a lambda function in Python and when is it typically used?**\n",
        " - Lambda Functions are also called Anonymous Functions.\n",
        " - They are **one line fucntions** which are mostly created for one time purpose.\n",
        " - **Simple and easy** to write as well as read.\n",
        " - **lambda** keyword is used to define them."
      ],
      "metadata": {
        "id": "SBWA-y2QWBEc"
      }
    },
    {
      "cell_type": "code",
      "source": [
        "list_of_squares = list(map(lambda x : x*x, range(5)))\n",
        "print(list_of_squares)"
      ],
      "metadata": {
        "colab": {
          "base_uri": "https://localhost:8080/"
        },
        "id": "97Ky_R0aWxnE",
        "outputId": "902e460e-ecf6-4cef-940b-17340d2f009d"
      },
      "execution_count": 45,
      "outputs": [
        {
          "output_type": "stream",
          "name": "stdout",
          "text": [
            "[0, 1, 4, 9, 16]\n"
          ]
        }
      ]
    },
    {
      "cell_type": "markdown",
      "source": [
        "**9. Explain the purpose and usage of the map() function in Python**\n",
        "- When iterating through any iterable(list, tuple etc..) and if we want to simulatenously apply any function to those values in the iterables then map( ) becomes very handy.\n",
        "- map(function, iterable)\n"
      ],
      "metadata": {
        "id": "v_gY-jDbX9Td"
      }
    },
    {
      "cell_type": "code",
      "source": [
        "list_of_chars = ['1','2','3','4']\n",
        "\n",
        "list_of_nums = list(map(lambda x : int(x),list_of_chars))\n",
        "\n",
        "print(list_of_nums)\n"
      ],
      "metadata": {
        "colab": {
          "base_uri": "https://localhost:8080/"
        },
        "id": "iEWK7zKEgQFt",
        "outputId": "2cc30cd9-4945-4356-9d47-31a907ea041d"
      },
      "execution_count": 52,
      "outputs": [
        {
          "output_type": "stream",
          "name": "stdout",
          "text": [
            "[1, 2, 3, 4]\n"
          ]
        }
      ]
    },
    {
      "cell_type": "markdown",
      "source": [
        "**10. What is the difference between map(), reduce(), and filter() functions in Python?**\n",
        "- map( ) applies a function to each item in an iterable.\n",
        "\n",
        "- filter( )\tkeeps items where the function returns True for a given condition.\n",
        "- reduce( )\tapplies a function which  reduce all items to a single value by using operation like sum , multiplication etc.."
      ],
      "metadata": {
        "id": "rMrETwFEhHeB"
      }
    },
    {
      "cell_type": "code",
      "source": [
        "from functools import reduce\n",
        "\n",
        "nums = [1, 2, 3,4,5]\n",
        "\n",
        "squares = list(map(lambda x: x*x, nums))\n",
        "\n",
        "evens = list(filter(lambda x: x % 2 == 0, nums))\n",
        "\n",
        "total = reduce(lambda x, y : x + y, nums)\n",
        "\n",
        "print(squares)\n",
        "print(evens)\n",
        "print(total)\n"
      ],
      "metadata": {
        "colab": {
          "base_uri": "https://localhost:8080/"
        },
        "id": "bCQlj3weilUe",
        "outputId": "a46c0fe9-4195-4676-8131-8e1da7b38b52"
      },
      "execution_count": 58,
      "outputs": [
        {
          "output_type": "stream",
          "name": "stdout",
          "text": [
            "[1, 4, 9, 16, 25]\n",
            "[2, 4]\n",
            "15\n"
          ]
        }
      ]
    },
    {
      "cell_type": "markdown",
      "source": [
        "**11. Using pen & Paper write the internal mechanism for sum operation using  reduce function on this given list:[47,11,42,13].**"
      ],
      "metadata": {
        "id": "JXe9gtvlvUsi"
      }
    },
    {
      "cell_type": "markdown",
      "source": [
        "![Screenshot 2025-05-22 030154.png](data:image/png;base64,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)"
      ],
      "metadata": {
        "id": "fS7MoC45wrPL"
      }
    },
    {
      "cell_type": "markdown",
      "source": [
        "# **Practical Questions**"
      ],
      "metadata": {
        "id": "IHyLvnHrjhr7"
      }
    },
    {
      "cell_type": "markdown",
      "source": [
        "**1. Write a Python function that takes a list of numbers as input and returns the sum of all even numbers in the list.**"
      ],
      "metadata": {
        "id": "wYfeJB94jekd"
      }
    },
    {
      "cell_type": "code",
      "source": [
        "def sum_of_evens(arr):\n",
        "  evens = filter(lambda x : x%2==0 , arr)\n",
        "  return sum(evens)\n",
        "\n",
        "nums = [1,2,3,4,6,8]\n",
        "result = sum_of_evens(nums)\n",
        "print(result)"
      ],
      "metadata": {
        "colab": {
          "base_uri": "https://localhost:8080/"
        },
        "id": "JzL8BSuHjncU",
        "outputId": "a6fbba91-090f-4fe0-a9a5-324e34ee9e2d"
      },
      "execution_count": 59,
      "outputs": [
        {
          "output_type": "stream",
          "name": "stdout",
          "text": [
            "20\n"
          ]
        }
      ]
    },
    {
      "cell_type": "markdown",
      "source": [
        "**2. Create a Python function that accepts a string and returns the reverse of that string.**"
      ],
      "metadata": {
        "id": "CEPm17fdkFmt"
      }
    },
    {
      "cell_type": "code",
      "source": [
        "def string_reverser(txt):\n",
        "  if type(txt) == 'str':\n",
        "    return txt[::-1]\n",
        "  else:\n",
        "    return txt\n",
        "\n",
        "name = 'Donald'\n",
        "print(string_reverser(name))"
      ],
      "metadata": {
        "colab": {
          "base_uri": "https://localhost:8080/"
        },
        "id": "nH5i2N3tkJh_",
        "outputId": "8ef82d8a-17b3-49a3-b98f-a51bfcd481ba"
      },
      "execution_count": 61,
      "outputs": [
        {
          "output_type": "stream",
          "name": "stdout",
          "text": [
            "Donald\n"
          ]
        }
      ]
    },
    {
      "cell_type": "markdown",
      "source": [
        "**3. Implement a Python function that takes a list of integers and returns a new list containing the squares of each number.**"
      ],
      "metadata": {
        "id": "fhjVCvJmk9cy"
      }
    },
    {
      "cell_type": "code",
      "source": [
        "def number_squarer(nums):\n",
        "\n",
        "  squared_nums = list(map(lambda x : x*x,nums))\n",
        "\n",
        "  return squared_nums\n",
        "\n",
        "arr = [1,12,32,4,12,76]\n",
        "\n",
        "print(number_squarer(arr))"
      ],
      "metadata": {
        "colab": {
          "base_uri": "https://localhost:8080/"
        },
        "id": "QwDaAFwAlDzd",
        "outputId": "e958483a-6574-46d4-aa21-b44fc3d37290"
      },
      "execution_count": 63,
      "outputs": [
        {
          "output_type": "stream",
          "name": "stdout",
          "text": [
            "[1, 144, 1024, 16, 144, 5776]\n"
          ]
        }
      ]
    },
    {
      "cell_type": "markdown",
      "source": [
        "**4. Write a Python function that checks if a given number is prime or not from 1 to 200.**"
      ],
      "metadata": {
        "id": "mE5cMEZUlrf2"
      }
    },
    {
      "cell_type": "code",
      "source": [
        "import math\n",
        "\n",
        "def check_prime(x):\n",
        "\n",
        "  if x <= 1:\n",
        "\n",
        "    return False\n",
        "\n",
        "  if x == 2 :\n",
        "\n",
        "    return True\n",
        "\n",
        "\n",
        "  for i in range(2 , int(math.sqrt(x))+1):\n",
        "\n",
        "    if  x % i == 0:\n",
        "\n",
        "      return False\n",
        "\n",
        "  return True\n",
        "\n",
        "\n",
        "\n",
        "for num in range(1, 201):\n",
        "  if check_prime(num):\n",
        "      print(f\"{num} is a prime number.\")\n",
        "  else:\n",
        "      print(f\"{num} is not a prime number.\")\n"
      ],
      "metadata": {
        "colab": {
          "base_uri": "https://localhost:8080/"
        },
        "collapsed": true,
        "id": "blxWnO0NlxXo",
        "outputId": "f9fe0f4e-c930-43fa-db72-ce9606e5b4ef"
      },
      "execution_count": 66,
      "outputs": [
        {
          "output_type": "stream",
          "name": "stdout",
          "text": [
            "1 is not a prime number.\n",
            "2 is a prime number.\n",
            "3 is a prime number.\n",
            "4 is not a prime number.\n",
            "5 is a prime number.\n",
            "6 is not a prime number.\n",
            "7 is a prime number.\n",
            "8 is not a prime number.\n",
            "9 is not a prime number.\n",
            "10 is not a prime number.\n",
            "11 is a prime number.\n",
            "12 is not a prime number.\n",
            "13 is a prime number.\n",
            "14 is not a prime number.\n",
            "15 is not a prime number.\n",
            "16 is not a prime number.\n",
            "17 is a prime number.\n",
            "18 is not a prime number.\n",
            "19 is a prime number.\n",
            "20 is not a prime number.\n",
            "21 is not a prime number.\n",
            "22 is not a prime number.\n",
            "23 is a prime number.\n",
            "24 is not a prime number.\n",
            "25 is not a prime number.\n",
            "26 is not a prime number.\n",
            "27 is not a prime number.\n",
            "28 is not a prime number.\n",
            "29 is a prime number.\n",
            "30 is not a prime number.\n",
            "31 is a prime number.\n",
            "32 is not a prime number.\n",
            "33 is not a prime number.\n",
            "34 is not a prime number.\n",
            "35 is not a prime number.\n",
            "36 is not a prime number.\n",
            "37 is a prime number.\n",
            "38 is not a prime number.\n",
            "39 is not a prime number.\n",
            "40 is not a prime number.\n",
            "41 is a prime number.\n",
            "42 is not a prime number.\n",
            "43 is a prime number.\n",
            "44 is not a prime number.\n",
            "45 is not a prime number.\n",
            "46 is not a prime number.\n",
            "47 is a prime number.\n",
            "48 is not a prime number.\n",
            "49 is not a prime number.\n",
            "50 is not a prime number.\n",
            "51 is not a prime number.\n",
            "52 is not a prime number.\n",
            "53 is a prime number.\n",
            "54 is not a prime number.\n",
            "55 is not a prime number.\n",
            "56 is not a prime number.\n",
            "57 is not a prime number.\n",
            "58 is not a prime number.\n",
            "59 is a prime number.\n",
            "60 is not a prime number.\n",
            "61 is a prime number.\n",
            "62 is not a prime number.\n",
            "63 is not a prime number.\n",
            "64 is not a prime number.\n",
            "65 is not a prime number.\n",
            "66 is not a prime number.\n",
            "67 is a prime number.\n",
            "68 is not a prime number.\n",
            "69 is not a prime number.\n",
            "70 is not a prime number.\n",
            "71 is a prime number.\n",
            "72 is not a prime number.\n",
            "73 is a prime number.\n",
            "74 is not a prime number.\n",
            "75 is not a prime number.\n",
            "76 is not a prime number.\n",
            "77 is not a prime number.\n",
            "78 is not a prime number.\n",
            "79 is a prime number.\n",
            "80 is not a prime number.\n",
            "81 is not a prime number.\n",
            "82 is not a prime number.\n",
            "83 is a prime number.\n",
            "84 is not a prime number.\n",
            "85 is not a prime number.\n",
            "86 is not a prime number.\n",
            "87 is not a prime number.\n",
            "88 is not a prime number.\n",
            "89 is a prime number.\n",
            "90 is not a prime number.\n",
            "91 is not a prime number.\n",
            "92 is not a prime number.\n",
            "93 is not a prime number.\n",
            "94 is not a prime number.\n",
            "95 is not a prime number.\n",
            "96 is not a prime number.\n",
            "97 is a prime number.\n",
            "98 is not a prime number.\n",
            "99 is not a prime number.\n",
            "100 is not a prime number.\n",
            "101 is a prime number.\n",
            "102 is not a prime number.\n",
            "103 is a prime number.\n",
            "104 is not a prime number.\n",
            "105 is not a prime number.\n",
            "106 is not a prime number.\n",
            "107 is a prime number.\n",
            "108 is not a prime number.\n",
            "109 is a prime number.\n",
            "110 is not a prime number.\n",
            "111 is not a prime number.\n",
            "112 is not a prime number.\n",
            "113 is a prime number.\n",
            "114 is not a prime number.\n",
            "115 is not a prime number.\n",
            "116 is not a prime number.\n",
            "117 is not a prime number.\n",
            "118 is not a prime number.\n",
            "119 is not a prime number.\n",
            "120 is not a prime number.\n",
            "121 is not a prime number.\n",
            "122 is not a prime number.\n",
            "123 is not a prime number.\n",
            "124 is not a prime number.\n",
            "125 is not a prime number.\n",
            "126 is not a prime number.\n",
            "127 is a prime number.\n",
            "128 is not a prime number.\n",
            "129 is not a prime number.\n",
            "130 is not a prime number.\n",
            "131 is a prime number.\n",
            "132 is not a prime number.\n",
            "133 is not a prime number.\n",
            "134 is not a prime number.\n",
            "135 is not a prime number.\n",
            "136 is not a prime number.\n",
            "137 is a prime number.\n",
            "138 is not a prime number.\n",
            "139 is a prime number.\n",
            "140 is not a prime number.\n",
            "141 is not a prime number.\n",
            "142 is not a prime number.\n",
            "143 is not a prime number.\n",
            "144 is not a prime number.\n",
            "145 is not a prime number.\n",
            "146 is not a prime number.\n",
            "147 is not a prime number.\n",
            "148 is not a prime number.\n",
            "149 is a prime number.\n",
            "150 is not a prime number.\n",
            "151 is a prime number.\n",
            "152 is not a prime number.\n",
            "153 is not a prime number.\n",
            "154 is not a prime number.\n",
            "155 is not a prime number.\n",
            "156 is not a prime number.\n",
            "157 is a prime number.\n",
            "158 is not a prime number.\n",
            "159 is not a prime number.\n",
            "160 is not a prime number.\n",
            "161 is not a prime number.\n",
            "162 is not a prime number.\n",
            "163 is a prime number.\n",
            "164 is not a prime number.\n",
            "165 is not a prime number.\n",
            "166 is not a prime number.\n",
            "167 is a prime number.\n",
            "168 is not a prime number.\n",
            "169 is not a prime number.\n",
            "170 is not a prime number.\n",
            "171 is not a prime number.\n",
            "172 is not a prime number.\n",
            "173 is a prime number.\n",
            "174 is not a prime number.\n",
            "175 is not a prime number.\n",
            "176 is not a prime number.\n",
            "177 is not a prime number.\n",
            "178 is not a prime number.\n",
            "179 is a prime number.\n",
            "180 is not a prime number.\n",
            "181 is a prime number.\n",
            "182 is not a prime number.\n",
            "183 is not a prime number.\n",
            "184 is not a prime number.\n",
            "185 is not a prime number.\n",
            "186 is not a prime number.\n",
            "187 is not a prime number.\n",
            "188 is not a prime number.\n",
            "189 is not a prime number.\n",
            "190 is not a prime number.\n",
            "191 is a prime number.\n",
            "192 is not a prime number.\n",
            "193 is a prime number.\n",
            "194 is not a prime number.\n",
            "195 is not a prime number.\n",
            "196 is not a prime number.\n",
            "197 is a prime number.\n",
            "198 is not a prime number.\n",
            "199 is a prime number.\n",
            "200 is not a prime number.\n"
          ]
        }
      ]
    },
    {
      "cell_type": "markdown",
      "source": [
        "**5. Create an iterator class in Python that generates the Fibonacci sequence up to a specified number of terms.**"
      ],
      "metadata": {
        "id": "jHy5IlJ1oJEs"
      }
    },
    {
      "cell_type": "code",
      "source": [
        "def fibonacci(n):\n",
        "  a = 0\n",
        "  b =  1\n",
        "  for i in range(n):\n",
        "      yield a\n",
        "      a = b\n",
        "      b = a + b\n",
        "\n",
        "\n",
        "result_gen = fibonacci(10)\n",
        "\n",
        "type(result_gen)\n",
        "\n",
        "next(result_gen)\n",
        "next(result_gen)\n",
        "next(result_gen)\n",
        "next(result_gen)"
      ],
      "metadata": {
        "colab": {
          "base_uri": "https://localhost:8080/"
        },
        "id": "oKRMIj-xoQ9S",
        "outputId": "0491a362-58b8-4a37-a605-b7cdafce10ed"
      },
      "execution_count": 74,
      "outputs": [
        {
          "output_type": "execute_result",
          "data": {
            "text/plain": [
              "4"
            ]
          },
          "metadata": {},
          "execution_count": 74
        }
      ]
    },
    {
      "cell_type": "markdown",
      "source": [
        "**6. Write a generator function in Python that yields the powers of 2 up to a given exponent.**"
      ],
      "metadata": {
        "id": "F86g9lXipJY9"
      }
    },
    {
      "cell_type": "code",
      "source": [
        "def powers_of_two(max_exp):\n",
        "  for exp in range(max_exp + 1):\n",
        "      yield 2 ** exp\n",
        "\n",
        "\n",
        "result_gen = powers_of_two(10)\n",
        "\n",
        "type(result_gen)\n",
        "\n",
        "next(result_gen)\n",
        "next(result_gen)\n",
        "next(result_gen)\n",
        "next(result_gen)"
      ],
      "metadata": {
        "colab": {
          "base_uri": "https://localhost:8080/"
        },
        "id": "sdqnhITvpWMV",
        "outputId": "6a5c14ec-9ebb-4cf6-d481-f15fad10266e"
      },
      "execution_count": 75,
      "outputs": [
        {
          "output_type": "execute_result",
          "data": {
            "text/plain": [
              "8"
            ]
          },
          "metadata": {},
          "execution_count": 75
        }
      ]
    },
    {
      "cell_type": "markdown",
      "source": [
        "**7. Implement a generator function that reads a file line by line and yields each line as a string**"
      ],
      "metadata": {
        "id": "jonzY7VTpx0t"
      }
    },
    {
      "cell_type": "code",
      "source": [
        "def read_file_line_by_line(file_path):\n",
        "  with open(file_path, 'r') as file:\n",
        "      for line in file:\n",
        "          yield line.rstrip('\\n')"
      ],
      "metadata": {
        "id": "P4lHfobapza7"
      },
      "execution_count": 76,
      "outputs": []
    },
    {
      "cell_type": "code",
      "source": [
        "with open(\"random.txt\",'w') as f:\n",
        "  f.write(\"Hello this some random text'\\n'written just to text the output of question number 7\")"
      ],
      "metadata": {
        "id": "okEuAAhRqDQG"
      },
      "execution_count": 80,
      "outputs": []
    },
    {
      "cell_type": "code",
      "source": [
        "result = read_file_line_by_line('random.txt')\n",
        "\n",
        "next(result)\n",
        "next(result)"
      ],
      "metadata": {
        "colab": {
          "base_uri": "https://localhost:8080/",
          "height": 35
        },
        "id": "7gBViy1cqeCb",
        "outputId": "c39d2e6a-3c96-487b-fb61-6b51da27ce09"
      },
      "execution_count": 82,
      "outputs": [
        {
          "output_type": "execute_result",
          "data": {
            "text/plain": [
              "\"'written just to text the output of question number 7\""
            ],
            "application/vnd.google.colaboratory.intrinsic+json": {
              "type": "string"
            }
          },
          "metadata": {},
          "execution_count": 82
        }
      ]
    },
    {
      "cell_type": "markdown",
      "source": [
        "**8. Use a lambda function in Python to sort a list of tuples based on the second element of each tuple**"
      ],
      "metadata": {
        "id": "idSz_AOcqu7r"
      }
    },
    {
      "cell_type": "code",
      "source": [
        "data = [(1, 3), (4, 1), (2, 2), (5, 0)]\n",
        "data.sort(key=lambda x: x[1])\n",
        "print(data)"
      ],
      "metadata": {
        "colab": {
          "base_uri": "https://localhost:8080/"
        },
        "id": "szVH7NSQqyqi",
        "outputId": "e6b60b8b-4cf7-4224-c330-36dd744d596b"
      },
      "execution_count": 83,
      "outputs": [
        {
          "output_type": "stream",
          "name": "stdout",
          "text": [
            "[(5, 0), (4, 1), (2, 2), (1, 3)]\n"
          ]
        }
      ]
    },
    {
      "cell_type": "markdown",
      "source": [
        "**9. Write a Python program that uses `map()` to convert a list of temperatures from Celsius to Fahrenheit.**"
      ],
      "metadata": {
        "id": "zbQPFS7lrLe8"
      }
    },
    {
      "cell_type": "code",
      "source": [
        "def celcuius_to_fahrenheit(c):\n",
        "\n",
        "    return (c * 9/5) + 32\n",
        "\n",
        "celsius_values = [0, 20, 37, 100]\n",
        "\n",
        "fahrenheit_values = list(map(celcuius_to_fahrenheit, celsius_values))\n",
        "\n",
        "print(fahrenheit_values)"
      ],
      "metadata": {
        "colab": {
          "base_uri": "https://localhost:8080/"
        },
        "id": "IZmXX4UXrRG0",
        "outputId": "2b7b4d21-8994-481c-c9b0-287406877a40"
      },
      "execution_count": 84,
      "outputs": [
        {
          "output_type": "stream",
          "name": "stdout",
          "text": [
            "[32.0, 68.0, 98.6, 212.0]\n"
          ]
        }
      ]
    },
    {
      "cell_type": "markdown",
      "source": [
        "**10. Create a Python program that uses `filter()` to remove all the vowels from a given string.**"
      ],
      "metadata": {
        "id": "ycWkEGMVruHs"
      }
    },
    {
      "cell_type": "code",
      "source": [
        "def remove_vowels(s):\n",
        "    vowels = 'aeiouAEIOU'\n",
        "    return ''.join(filter(lambda x: x not in vowels, s))\n",
        "\n",
        "\n",
        "text = \"Hello, World!\"\n",
        "result = remove_vowels(text)\n",
        "print(result)"
      ],
      "metadata": {
        "colab": {
          "base_uri": "https://localhost:8080/"
        },
        "id": "cscDTPCYr1Bz",
        "outputId": "488f9e0b-edef-4a14-8e40-ac82c42de4c3"
      },
      "execution_count": 85,
      "outputs": [
        {
          "output_type": "stream",
          "name": "stdout",
          "text": [
            "Hll, Wrld!\n"
          ]
        }
      ]
    },
    {
      "cell_type": "markdown",
      "source": [
        "**11. Imagine an accounting routine used in a book shop. It works on a list with sublists, which look like this:**\n",
        "\n",
        "**Write a Python program, which returns a list with 2-tuples. Each tuple consists of the order number and the product of the price per item and the quantity. The product should be increased by 10,- € if the value of the order is smaller than 100,00 € .**\n",
        "\n",
        "**Write a Python program using lambda and map.**"
      ],
      "metadata": {
        "id": "i9ZKSpL-sUYT"
      }
    },
    {
      "cell_type": "code",
      "source": [
        "orders = [\n",
        "    [34587, \"Learning Python, Mark Lutz\", 4, 40.95],\n",
        "    [98762, \"Programming Python, Mark Lutz\", 5, 56.80],\n",
        "    [77226, \"Head First Python, Paul Barry\", 3, 32.95],\n",
        "    [88112, \"Einführung in Python3, Bernd Klein\", 3, 24.99]\n",
        "]"
      ],
      "metadata": {
        "id": "oyJKOIg1sUvM"
      },
      "execution_count": 87,
      "outputs": []
    },
    {
      "cell_type": "code",
      "source": [
        "result = list(map(lambda order: (\n",
        "    order[0], round(order[2] * order[3] + (10 if order[2] * order[3] < 100 else 0), 2)\n",
        "), orders))\n",
        "\n",
        "print(result)"
      ],
      "metadata": {
        "colab": {
          "base_uri": "https://localhost:8080/"
        },
        "id": "ket8J3B-tQx7",
        "outputId": "8dfb743b-3215-4d8f-ac81-ffdce198ea79"
      },
      "execution_count": 88,
      "outputs": [
        {
          "output_type": "stream",
          "name": "stdout",
          "text": [
            "[(34587, 163.8), (98762, 284.0), (77226, 108.85), (88112, 84.97)]\n"
          ]
        }
      ]
    }
  ]
}