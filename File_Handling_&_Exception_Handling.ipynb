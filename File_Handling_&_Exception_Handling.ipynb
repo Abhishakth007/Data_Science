{
  "nbformat": 4,
  "nbformat_minor": 0,
  "metadata": {
    "colab": {
      "provenance": []
    },
    "kernelspec": {
      "name": "python3",
      "display_name": "Python 3"
    },
    "language_info": {
      "name": "python"
    }
  },
  "cells": [
    {
      "cell_type": "markdown",
      "source": [
        "#**File & Exception Handling** - **Theoretical Questions**"
      ],
      "metadata": {
        "id": "a6_BHwkSuA2W"
      }
    },
    {
      "cell_type": "markdown",
      "source": [
        "1. **What is the difference between interpreted and compiled languages**\n",
        "- Interpreted languages run line-by-line via an interpreter , making debugging easier.\n",
        "- Python is an example of interpreted language.\n",
        "- Compiled languages convert code into machine language before executing, usually faster to run.\n",
        "- C , C++ are example of compile languages."
      ],
      "metadata": {
        "id": "CQtXVNkIuToY"
      }
    },
    {
      "cell_type": "markdown",
      "source": [
        "2. **What is exception handling in Python**\n",
        "- It’s a way to catch and manage runtime errors so your program doesn’t crash.\n",
        "- Handled using try, except, finally, and optionally else."
      ],
      "metadata": {
        "id": "2FvwG4GAu681"
      }
    },
    {
      "cell_type": "markdown",
      "source": [
        "3. **What is the purpose of the finally block in exception handling**\n",
        "- Finally runs no matter what,whether an exception occurred or not.\n",
        "- Useful for cleanup actions like closing files or releasing resources."
      ],
      "metadata": {
        "id": "grtSBGGxvG30"
      }
    },
    {
      "cell_type": "markdown",
      "source": [
        "4. **What is logging in Python**\n",
        "- Logging records messages about your program’s execution for debugging or tracking.\n",
        "- Unlike print, it can write to files and has levels like INFO, ERROR, DEBUG."
      ],
      "metadata": {
        "id": "gO4zfOEHvXFa"
      }
    },
    {
      "cell_type": "markdown",
      "source": [
        "5.  **What is the significance of the \\_\\_del__ method in Python**\n",
        "- It’s a destructor that runs when an object is about to be destroyed.\n",
        "- Useful for cleanup, but not always reliable due to garbage collection timing."
      ],
      "metadata": {
        "id": "cmk4XCaGvjM4"
      }
    },
    {
      "cell_type": "markdown",
      "source": [
        "6. **What is the difference between import and from ... import in Python**\n",
        "- import module brings in the whole module, use as module.function().\n",
        "- from module import func brings in just what you need, used as func()."
      ],
      "metadata": {
        "id": "fbSZEpR7vtcu"
      }
    },
    {
      "cell_type": "markdown",
      "source": [
        "7. **How can you handle multiple exceptions in Python**\n",
        "- Use multiple except blocks for each error or a tuple to catch many at once.\n",
        "- Example: except (ValueError, TypeError)"
      ],
      "metadata": {
        "id": "OdHrwK3Gv66m"
      }
    },
    {
      "cell_type": "markdown",
      "source": [
        "8. **What is the purpose of the with statement when handling files in Python**\n",
        "- It handles opening and closing files automatically, even if errors occur.\n",
        "- Cleaner and safer than manually using open() and close()."
      ],
      "metadata": {
        "id": "syMnQ0GTwIuu"
      }
    },
    {
      "cell_type": "markdown",
      "source": [
        "9. **What is the difference between multithreading and multiprocessing**\n",
        "- Multithreading runs multiple threads in one process.\n",
        "- Multiprocessing runs separate processes so its better for CPU-heavy tasks."
      ],
      "metadata": {
        "id": "CA_uvZ-MwR2W"
      }
    },
    {
      "cell_type": "markdown",
      "source": [
        "10. **What are the advantages of using logging in a program**\n",
        "- Keeps a record of events for debugging, error tracking, or audits.\n",
        "- Configurable and more robust than print statements."
      ],
      "metadata": {
        "id": "tg5IYGWOwjyY"
      }
    },
    {
      "cell_type": "markdown",
      "source": [
        "11. **What is memory management in Python**\n",
        "- Python uses automatic memory management and garbage collection.\n",
        "- It allocates and frees memory as needed to keep things efficient."
      ],
      "metadata": {
        "id": "CFAn-TCnwvVI"
      }
    },
    {
      "cell_type": "markdown",
      "source": [
        "12. **What are the basic steps involved in exception handling in Python**\n",
        "- Write risky code in try block , catch errors in except block , clean up in finally.\n",
        "- Optionally, use else for code that runs if no exception occurs."
      ],
      "metadata": {
        "id": "Xszp3ahkw7dl"
      }
    },
    {
      "cell_type": "markdown",
      "source": [
        "13. **Why is memory management important in Python**\n",
        "\n",
        "- Efficient memory use keeps your program fast and avoids crashes.\n",
        "- Poor memory handling can lead to leaks and slowdowns."
      ],
      "metadata": {
        "id": "79mMGuY_xSIB"
      }
    },
    {
      "cell_type": "markdown",
      "source": [
        "14. **What is the role of try and except in exception handling**\n",
        "- try lets you run code that might break, except catches errors if they do.\n",
        "- It keeps your program from crashing unexpectedly."
      ],
      "metadata": {
        "id": "WRb3nEDKxh0U"
      }
    },
    {
      "cell_type": "markdown",
      "source": [
        "15. **How does Python's garbage collection system work**\n",
        "- It automatically frees up memory by deleting objects with zero references.\n",
        "- Python uses reference counting and a cyclic garbage collector to clean up unused objects.\n"
      ],
      "metadata": {
        "id": "2xt8BIqDx01R"
      }
    },
    {
      "cell_type": "markdown",
      "source": [
        "16.**Purpose of the else block in exception handlin**g\n",
        "- The else block runs if no exceptions occur in the try.\n",
        "- Good for code that should only run when everything goes smoothly."
      ],
      "metadata": {
        "id": "ueMFLEGix9aI"
      }
    },
    {
      "cell_type": "markdown",
      "source": [
        "17. **What are the common logging levels in Python**\n",
        "- From lowest to highest: DEBUG, INFO, WARNING, ERROR, CRITICAL.\n",
        "- Each level indicates the severity or importance of the log message."
      ],
      "metadata": {
        "id": "bjgaCQhlyI3e"
      }
    },
    {
      "cell_type": "markdown",
      "source": [
        "18.  **What is the difference between os.fork() and multiprocessing in Python**\n",
        "- os.fork() is Unix-only and lower-level—it clones the current process.\n",
        "- multiprocessing is cross-platform, easier to use, and safer with built-in process control."
      ],
      "metadata": {
        "id": "BnSGWzyzyWab"
      }
    },
    {
      "cell_type": "markdown",
      "source": [
        "19. **What is the importance of closing a file in Python**\n",
        "- Closing a file releases system resources and ensures data is saved properly.\n",
        "- It prevents file corruption and too many open file errors."
      ],
      "metadata": {
        "id": "eVxZ2WAFyl-Z"
      }
    },
    {
      "cell_type": "markdown",
      "source": [
        "20. **What is the difference between file.read() and file.readline() in Python**\n",
        "- file.read() reads the entire file or a specified number of bytes.\n",
        "- file.readline() reads just one line at a time."
      ],
      "metadata": {
        "id": "700sgOkxyy5d"
      }
    },
    {
      "cell_type": "markdown",
      "source": [
        "21. **What is the logging module in Python used for**\n",
        "- It’s used to record messages from your code for tracking and debugging.\n",
        "- Helps keep logs in files, control formatting, and set severity levels."
      ],
      "metadata": {
        "id": "zP54FHady7w-"
      }
    },
    {
      "cell_type": "markdown",
      "source": [
        "22.  **What is the os module in Python used for in file handling**\n",
        "- os helps with file system tasks like creating, deleting, and navigating directories.\n",
        "- It also provides tools for working with file paths and environment variables."
      ],
      "metadata": {
        "id": "dbgpXR4AzJT8"
      }
    },
    {
      "cell_type": "markdown",
      "source": [
        "23. **What are the challenges associated with memory management in Python**\n",
        "- Circular references and memory leaks can be tricky.\n",
        "- Large objects and improper object handling may cause memory bloat."
      ],
      "metadata": {
        "id": "nJ7FcjDQzUk_"
      }
    },
    {
      "cell_type": "markdown",
      "source": [
        "24.   **How do you raise an exception manually in Python**\n",
        "- Use the raise keyword with an exception type.\n",
        "- By Inherting using Exception class.\n",
        "- Example: raise ValueError(\"Invalid input\")"
      ],
      "metadata": {
        "id": "huZ2EwGYzgrL"
      }
    },
    {
      "cell_type": "markdown",
      "source": [
        "25. Why is it important to use multithreading in certain applications?\n",
        "- It improves performance in I/O-bound tasks like network requests or file operations.\n",
        "- Lets you do multiple things at once without freezing your program.\n",
        "\n"
      ],
      "metadata": {
        "id": "nb4tuaIpzw0c"
      }
    },
    {
      "cell_type": "markdown",
      "source": [
        "# **Practical Questions**"
      ],
      "metadata": {
        "id": "xwU9gB7Jb4l1"
      }
    },
    {
      "cell_type": "code",
      "execution_count": 1,
      "metadata": {
        "id": "rEz2CpEtbKk1"
      },
      "outputs": [],
      "source": [
        "#1.How can you open a file for writing in Python and write a string to it\n",
        "\n",
        "with open(\"Example.txt\",'w') as f:\n",
        "  f.writelines(\"This is Question 1\")"
      ]
    },
    {
      "cell_type": "code",
      "source": [
        "#2.  Write a Python program to read the contents of a file and print each line\n",
        "with  open(\"Example.txt\",'r') as f:\n",
        "  text = f.readlines()\n",
        "\n",
        "print(text)"
      ],
      "metadata": {
        "colab": {
          "base_uri": "https://localhost:8080/"
        },
        "id": "O2HS2mHTcZY7",
        "outputId": "83970318-aebd-4154-c318-1892d0e55d59"
      },
      "execution_count": 2,
      "outputs": [
        {
          "output_type": "stream",
          "name": "stdout",
          "text": [
            "['This is Question 1']\n"
          ]
        }
      ]
    },
    {
      "cell_type": "code",
      "source": [
        "#3.  Write a Python program to read the contents of a file and print each line\n",
        "try:\n",
        "  with open(\"Example1.txt\",'r') as f:\n",
        "    text = f.realines()\n",
        "    print(text)\n",
        "except FileNotFoundError as e:\n",
        "  print(\"No Such File , Recheck File Name Again\")"
      ],
      "metadata": {
        "colab": {
          "base_uri": "https://localhost:8080/"
        },
        "id": "qq6IqUKgc_q3",
        "outputId": "121066d3-941f-42bb-d5e1-f6e31b3d90f6"
      },
      "execution_count": 3,
      "outputs": [
        {
          "output_type": "stream",
          "name": "stdout",
          "text": [
            "No Such File , Recheck File Name Again\n"
          ]
        }
      ]
    },
    {
      "cell_type": "code",
      "source": [
        "#4. Write a Python script that reads from one file and writes its content to another file\n",
        "\n",
        "with open(\"Example.txt\",\"r\") as f:\n",
        "\n",
        "  text = f.read()\n",
        "\n",
        "with open(\"Example2.txt\",\"w\") as f1:\n",
        "\n",
        "    f1.write(text)"
      ],
      "metadata": {
        "id": "XU7jRMondmtR"
      },
      "execution_count": 4,
      "outputs": []
    },
    {
      "cell_type": "code",
      "source": [
        "#5.How would you catch and handle division by zero error in Python\n",
        "\n",
        "try:\n",
        "  10/0\n",
        "except ZeroDivisionError as e:\n",
        "  print(\"There is an issue with the arithmetic operation,\",e)"
      ],
      "metadata": {
        "colab": {
          "base_uri": "https://localhost:8080/"
        },
        "id": "sSvb8SZsfXAW",
        "outputId": "6d5d0d1d-94e9-4bb5-e12d-58bdc37b2124"
      },
      "execution_count": 5,
      "outputs": [
        {
          "output_type": "stream",
          "name": "stdout",
          "text": [
            "There is an issue with the arithmetic operation, division by zero\n"
          ]
        }
      ]
    },
    {
      "cell_type": "code",
      "source": [
        "#6. Write a Python program that logs an error message to a log file when a division by zero exception occurs\n",
        "import logging\n",
        "logging.basicConfig(filename='error_log.log',level=logging.ERROR,format='%(message)s')\n",
        "\n",
        "try:\n",
        "    a = 10\n",
        "    b = 0\n",
        "    result = a / b\n",
        "except ZeroDivisionError:\n",
        "    logging.error(\"Division by zero error occurred.\")"
      ],
      "metadata": {
        "colab": {
          "base_uri": "https://localhost:8080/"
        },
        "id": "dL36wkkZ0G_i",
        "outputId": "ecf1eab6-f190-4ebc-d179-d25c53b99e79"
      },
      "execution_count": 16,
      "outputs": [
        {
          "output_type": "stream",
          "name": "stderr",
          "text": [
            "ERROR:root:Division by zero error occurred.\n"
          ]
        }
      ]
    },
    {
      "cell_type": "code",
      "source": [
        "#7. How do you log information at different levels (INFO, ERROR, WARNING) in Python using the logging module\n",
        "import logging\n",
        "\n",
        "logging.basicConfig(filename='multi_level_log.log',level=logging.DEBUG,format='%(asctime)s - %(levelname)s - %(message)s'\n",
        ")\n",
        "\n",
        "logging.info(\"This is an INFO message.\")\n",
        "logging.warning(\"This is a WARNING message.\")\n",
        "logging.error(\"This is an ERROR message.\")"
      ],
      "metadata": {
        "colab": {
          "base_uri": "https://localhost:8080/"
        },
        "id": "pNEQ9b5a0lvK",
        "outputId": "d856df87-0d40-4727-cd8a-8e92f9d972ff"
      },
      "execution_count": 19,
      "outputs": [
        {
          "output_type": "stream",
          "name": "stderr",
          "text": [
            "WARNING:root:This is a WARNING message.\n",
            "ERROR:root:This is an ERROR message.\n"
          ]
        },
        {
          "output_type": "stream",
          "name": "stdout",
          "text": [
            "Log file created: False\n"
          ]
        }
      ]
    },
    {
      "cell_type": "code",
      "source": [
        "#8. Write a program to handle a file opening error using exception handling\n",
        "\n",
        "try:\n",
        "  f= open(\"Example.txt1\" , 'r')\n",
        "except FileNotFoundError as e:\n",
        "  print(e)"
      ],
      "metadata": {
        "colab": {
          "base_uri": "https://localhost:8080/"
        },
        "id": "MH417yI6f-o_",
        "outputId": "d9066f8e-d2f1-475a-8ac6-3616ae0c73df"
      },
      "execution_count": 7,
      "outputs": [
        {
          "output_type": "stream",
          "name": "stdout",
          "text": [
            "[Errno 2] No such file or directory: 'Example.txt1'\n"
          ]
        }
      ]
    },
    {
      "cell_type": "code",
      "source": [
        "#9. How can you read a file line by line and store its content in a list in Python\n",
        "with open(\"Example.txt\",'r') as f:\n",
        "  data = f.readlines()\n",
        "\n",
        "print(data)"
      ],
      "metadata": {
        "colab": {
          "base_uri": "https://localhost:8080/"
        },
        "id": "S-hQmeJtgxoW",
        "outputId": "9accebea-5a6e-4da3-c313-9710ab5cd8cf"
      },
      "execution_count": 8,
      "outputs": [
        {
          "output_type": "stream",
          "name": "stdout",
          "text": [
            "['This is Question 1']\n"
          ]
        }
      ]
    },
    {
      "cell_type": "code",
      "source": [
        "# 10. How can you append data to an existing file in Python\n",
        "\n",
        "with open(\"Example.txt\",'a') as f:\n",
        "\n",
        "  f.write(\"This is Appended\")\n",
        "\n",
        "\n",
        "with open(\"Example.txt\",'r') as f1:\n",
        "\n",
        "  data = f1.read()\n",
        "  print(data)"
      ],
      "metadata": {
        "colab": {
          "base_uri": "https://localhost:8080/"
        },
        "id": "md1dFabAh9me",
        "outputId": "6cfeed87-956e-40f6-9236-a069b0620dce"
      },
      "execution_count": 9,
      "outputs": [
        {
          "output_type": "stream",
          "name": "stdout",
          "text": [
            "This is Question 1This is Appended\n"
          ]
        }
      ]
    },
    {
      "cell_type": "code",
      "source": [
        "# 11. Write a Python program that uses a try-except block to handle an error when attempting to access a\n",
        "#dictionary key that doesn't exist\n",
        "dict_a = {'a':'apple',\n",
        "          'b':'banana',\n",
        "          'c':'carrot'}\n",
        "\n",
        "try:\n",
        "  print(dict_a['d'])\n",
        "except KeyError as e:\n",
        "  print(\"The Key Error is Due To Accessing\", e)"
      ],
      "metadata": {
        "colab": {
          "base_uri": "https://localhost:8080/"
        },
        "id": "bDj8gGNminpb",
        "outputId": "fa922f30-0cfd-4fc2-8b63-16349cf77044"
      },
      "execution_count": 10,
      "outputs": [
        {
          "output_type": "stream",
          "name": "stdout",
          "text": [
            "The Key Error is Due To Accessing 'd'\n"
          ]
        }
      ]
    },
    {
      "cell_type": "code",
      "source": [
        "#12. Write a program that demonstrates using multiple except blocks to handle different types of exceptions\n",
        "try:\n",
        "  10/0\n",
        "  10/\"Abc\"\n",
        "except ZeroDivisionError :\n",
        "  print(\"Cannot Divide By Zero\")\n",
        "except TypeError:\n",
        "  print(\"Invalid Division Operation\")\n"
      ],
      "metadata": {
        "id": "k3099kowjdV4",
        "colab": {
          "base_uri": "https://localhost:8080/"
        },
        "outputId": "eeb8c731-3a08-433a-a618-2ae61e859d97"
      },
      "execution_count": 11,
      "outputs": [
        {
          "output_type": "stream",
          "name": "stdout",
          "text": [
            "Cannot Divide By Zero\n"
          ]
        }
      ]
    },
    {
      "cell_type": "code",
      "source": [
        "# 13. How would you check if a file exists before attempting to read it in Python\n",
        "\n",
        "import os\n",
        "\n",
        "file_path = \"Example.txt\"\n",
        "\n",
        "if os.path.exists(file_path):\n",
        "\n",
        "  with open(file_path,\"r\") as f:\n",
        "\n",
        "    data = f.read()\n",
        "\n",
        "    print(data)\n",
        "\n",
        "else:\n",
        "  print(\"No Such File\",file_path)"
      ],
      "metadata": {
        "colab": {
          "base_uri": "https://localhost:8080/"
        },
        "id": "GFJbVYyo3ZN5",
        "outputId": "7b09456d-781d-4707-d5fa-c29631c24a86"
      },
      "execution_count": 12,
      "outputs": [
        {
          "output_type": "stream",
          "name": "stdout",
          "text": [
            "This is Question 1This is Appended\n"
          ]
        }
      ]
    },
    {
      "cell_type": "code",
      "source": [
        "# 14. Write a program that uses the logging module to log both informational and error messages\n",
        "import logging\n",
        "\n",
        "logging.basicConfig(filename='example_log.log',level=logging.INFO,  format='%(levelname)s - %(message)s'\n",
        ")\n",
        "\n",
        "def divide(a, b):\n",
        "    logging.info(f\"Trying to divide {a} by {b}\")\n",
        "    try:\n",
        "        result = a / b\n",
        "        logging.info(f\"Division successful: {result}\")\n",
        "    except ZeroDivisionError:\n",
        "        logging.error(\"Error: Cannot divide by zero.\")\n",
        "\n",
        "divide(10, 2)\n",
        "divide(10, 0)"
      ],
      "metadata": {
        "colab": {
          "base_uri": "https://localhost:8080/"
        },
        "id": "fz4wqNP72_EW",
        "outputId": "a190918d-1119-4a94-9915-998f6d239c23"
      },
      "execution_count": 23,
      "outputs": [
        {
          "output_type": "stream",
          "name": "stderr",
          "text": [
            "ERROR:root:Error: Cannot divide by zero.\n"
          ]
        }
      ]
    },
    {
      "cell_type": "code",
      "source": [
        "#15. Write a Python program that prints the content of a file and handles the case when the file is empty\n",
        "\n",
        "file_path = 'Example.txt'\n",
        "with open(file_path, 'r') as file:\n",
        "  content = file.read()\n",
        "  if content.strip() == \"\":\n",
        "      print(f\"The file is empty.\")\n",
        "  else:\n",
        "      print(content)"
      ],
      "metadata": {
        "colab": {
          "base_uri": "https://localhost:8080/"
        },
        "id": "3cfCHgUw4tRy",
        "outputId": "46aea05c-aee4-48fa-cb5c-b0d37ab12f21"
      },
      "execution_count": 13,
      "outputs": [
        {
          "output_type": "stream",
          "name": "stdout",
          "text": [
            "This is Question 1This is Appended\n"
          ]
        }
      ]
    },
    {
      "cell_type": "code",
      "source": [
        "# 16. Demonstrate how to use memory profiling to check the memory usage of a small program\n",
        "!pip install -q memory_profiler\n",
        "from memory_profiler import profile\n",
        "@profile\n",
        "def create_list():\n",
        "    a = [i for i in range(10)]\n",
        "    return a\n",
        "\n",
        "create_list()"
      ],
      "metadata": {
        "colab": {
          "base_uri": "https://localhost:8080/"
        },
        "id": "5EG3z2z24ada",
        "outputId": "e08de267-b844-450d-886e-3bf9ec6fd0d7"
      },
      "execution_count": 26,
      "outputs": [
        {
          "output_type": "stream",
          "name": "stdout",
          "text": [
            "ERROR: Could not find file <ipython-input-26-8979da550962>\n",
            "NOTE: %mprun can only be used on functions defined in physical files, and not in the IPython environment.\n"
          ]
        },
        {
          "output_type": "execute_result",
          "data": {
            "text/plain": [
              "[0, 1, 2, 3, 4, 5, 6, 7, 8, 9]"
            ]
          },
          "metadata": {},
          "execution_count": 26
        }
      ]
    },
    {
      "cell_type": "code",
      "source": [
        "#17. Write a Python program to create and write a list of numbers to a file, one number per line\n",
        "\n",
        "list_of_nums = [1,2,3,4,5,6]\n",
        "\n",
        "with open(\"Nums.txt\",'w') as f:\n",
        "  for i in list_of_nums:\n",
        "    f.write(str(i) + '\\n')\n",
        "\n",
        "with open(\"Nums.txt\",'r') as f:\n",
        "  data = f.readlines()\n",
        "  for i in data:\n",
        "    print(i)"
      ],
      "metadata": {
        "colab": {
          "base_uri": "https://localhost:8080/"
        },
        "collapsed": true,
        "id": "MqIRfGbl5Q3v",
        "outputId": "8e9363f5-5e72-4d0d-884b-b7caffa19a8d"
      },
      "execution_count": 14,
      "outputs": [
        {
          "output_type": "stream",
          "name": "stdout",
          "text": [
            "1\n",
            "\n",
            "2\n",
            "\n",
            "3\n",
            "\n",
            "4\n",
            "\n",
            "5\n",
            "\n",
            "6\n",
            "\n"
          ]
        }
      ]
    },
    {
      "cell_type": "code",
      "source": [
        "# 18. How would you implement a basic logging setup that logs to a file with rotation after 1MB\n",
        "import logging\n",
        "from logging.handlers import RotatingFileHandler\n",
        "\n",
        "\n",
        "logger = logging.getLogger(\"my_logger\")\n",
        "logger.setLevel(logging.INFO)\n",
        "\n",
        "handler = RotatingFileHandler(\"rotating_log.log\", maxBytes=1_000_000, backupCount=3)\n",
        "\n",
        "formatter = logging.Formatter('%(levelname)s - %(message)s')\n",
        "handler.setFormatter(formatter)\n",
        "\n",
        "logger.addHandler(handler)\n",
        "\n",
        "for i in range(10):\n",
        "  logger.info(f\"This is log message number {i}\")"
      ],
      "metadata": {
        "colab": {
          "base_uri": "https://localhost:8080/"
        },
        "id": "QseRFauf423E",
        "outputId": "26fb7941-5d91-4283-8c9d-04ef30aa3b0f"
      },
      "execution_count": 29,
      "outputs": [
        {
          "output_type": "stream",
          "name": "stderr",
          "text": [
            "INFO:my_logger:This is log message number 0\n",
            "INFO:my_logger:This is log message number 1\n",
            "INFO:my_logger:This is log message number 2\n",
            "INFO:my_logger:This is log message number 3\n",
            "INFO:my_logger:This is log message number 4\n",
            "INFO:my_logger:This is log message number 5\n",
            "INFO:my_logger:This is log message number 6\n",
            "INFO:my_logger:This is log message number 7\n",
            "INFO:my_logger:This is log message number 8\n",
            "INFO:my_logger:This is log message number 9\n"
          ]
        }
      ]
    },
    {
      "cell_type": "code",
      "source": [
        "#19. Write a program that handles both IndexError and KeyError using a try-except block\n",
        "\n",
        "dict_a = {\"A\":\"Apple\",\n",
        "          \"B\":\"Banana\",\n",
        "          \"C\":\"Carrot\"}\n",
        "fruits_list = [\"Apple\", \"Banana\",\"Carrot\"]\n",
        "try:\n",
        "  dict_a[\"D\"]\n",
        "  print(fruits_list[10])\n",
        "except IndexError:\n",
        "  print(\"Index Out Of Bound\")\n",
        "except KeyError as e:\n",
        "  print(\"No Such Key\",e)"
      ],
      "metadata": {
        "colab": {
          "base_uri": "https://localhost:8080/"
        },
        "id": "yYkPKNXi53uj",
        "outputId": "1b2832cb-3ee2-46ae-c94b-a8bac583bac8"
      },
      "execution_count": 15,
      "outputs": [
        {
          "output_type": "stream",
          "name": "stdout",
          "text": [
            "No Such Key 'D'\n"
          ]
        }
      ]
    },
    {
      "cell_type": "code",
      "source": [
        "#20. How would you open a file and read its contents using a context manager in Python\n",
        "with open('Example.txt', 'r') as file:\n",
        "    contents = file.read()\n",
        "print(contents)"
      ],
      "metadata": {
        "colab": {
          "base_uri": "https://localhost:8080/"
        },
        "id": "xyzV7iGM5UNn",
        "outputId": "bce25b96-0b64-4d84-d4e0-5d51a6ed7fbb"
      },
      "execution_count": 31,
      "outputs": [
        {
          "output_type": "stream",
          "name": "stdout",
          "text": [
            "This is Question 1This is Appended\n"
          ]
        }
      ]
    },
    {
      "cell_type": "code",
      "source": [
        "#21.  Write a Python program that reads a file and prints the number of occurrences of a specific word\n",
        "word = 'python'\n",
        "with open('Example.txt', 'r') as file:\n",
        "    text = file.read().lower()\n",
        "count = text.count(word.lower())\n",
        "print(f\" {word} : {count} \")"
      ],
      "metadata": {
        "colab": {
          "base_uri": "https://localhost:8080/"
        },
        "id": "8Z2cECf-5wbp",
        "outputId": "77838cb8-11cc-47e2-c084-25c56640b917"
      },
      "execution_count": 32,
      "outputs": [
        {
          "output_type": "stream",
          "name": "stdout",
          "text": [
            " python : 0 \n"
          ]
        }
      ]
    },
    {
      "cell_type": "code",
      "source": [
        "#22. How can you check if a file is empty before attempting to read its contents\n",
        "import os\n",
        "\n",
        "if os.path.getsize('Example.txt') > 0:\n",
        "  with open('Example.txt', 'r') as file:\n",
        "    print(file.read())\n",
        "else:\n",
        "  print(\"File is empty.\")"
      ],
      "metadata": {
        "colab": {
          "base_uri": "https://localhost:8080/"
        },
        "id": "I_eYA8dU6GAH",
        "outputId": "02bb66e3-0244-4b3f-d4ad-34a0081fdc16"
      },
      "execution_count": 35,
      "outputs": [
        {
          "output_type": "stream",
          "name": "stdout",
          "text": [
            "This is Question 1This is Appended\n"
          ]
        }
      ]
    },
    {
      "cell_type": "code",
      "source": [
        "#23.  Write a Python program that writes to a log file when an error occurs during file handling.\n",
        "import logging\n",
        "\n",
        "logging.basicConfig(filename='file_errors.log', level=logging.ERROR)\n",
        "\n",
        "try:\n",
        "  with open('nonexistent.txt', 'r') as f:\n",
        "    data = f.read()\n",
        "except Exception as e:\n",
        "  logging.error(f\"Error while handling file: {e}\")"
      ],
      "metadata": {
        "colab": {
          "base_uri": "https://localhost:8080/"
        },
        "id": "8NPyRLxa6WyW",
        "outputId": "7ded8033-5a01-43a4-ebe3-963dd1de768d"
      },
      "execution_count": 36,
      "outputs": [
        {
          "output_type": "stream",
          "name": "stderr",
          "text": [
            "ERROR:root:Error while handling file: [Errno 2] No such file or directory: 'nonexistent.txt'\n"
          ]
        }
      ]
    }
  ]
}