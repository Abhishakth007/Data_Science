{
  "nbformat": 4,
  "nbformat_minor": 0,
  "metadata": {
    "colab": {
      "provenance": []
    },
    "kernelspec": {
      "name": "python3",
      "display_name": "Python 3"
    },
    "language_info": {
      "name": "python"
    }
  },
  "cells": [
    {
      "cell_type": "markdown",
      "source": [
        "# **Python Data Types and Structures Questions - Theoretical Questions**"
      ],
      "metadata": {
        "id": "vYIciu118KD8"
      }
    },
    {
      "cell_type": "markdown",
      "source": [
        "**1.What are data structures, and why are they important?**\n",
        "- Data Structures are used to store individual elements inside a block.\n",
        "- Accessing data efficiently can solve many real world problems like handling huge amount of data , retrieving , updating etc..\n",
        "- Data Structures also help in managing memory efficiently.\n",
        "-There different types of Data Structures in Python(Ex: List , Tuple , String , Set etc..)"
      ],
      "metadata": {
        "id": "IDDrfbr39TTz"
      }
    },
    {
      "cell_type": "markdown",
      "source": [
        "**2.Explain the difference between mutable and immutable data types with examples**\n",
        "- **Mutable**: Mutable objects can be modified after creation.\n",
        "- Elements can be inserted , deleted , modified in these data types.\n",
        "- **Immutable**: Mutable objects cannot be modified after creation.\n",
        "- Any operation that tries to change its content will create a new object instead.\n",
        "- **Mutable Data Types** : List , Dictionary(Values) , Sets.\n",
        "-**Immutable Data Types**: Dictionary(Keys) , Tuples , Strings.\n",
        "\n"
      ],
      "metadata": {
        "id": "-VXxahcq-KRT"
      }
    },
    {
      "cell_type": "markdown",
      "source": [
        "**3** **What are the main differences between lists and tuples in Python3**\n",
        "- Lists are Mutable Data Structures\n",
        "-Tuples are immutable Data Structures\n",
        "-Lists are defined with squared brackets [ ]\n",
        "- Tuples are defined using regular brackets ()\n",
        "- Lists are slower due to mutability and Tuples are faster due to immutability.\n",
        "- Dynamic memory allocation for lists because elements can be added in future . This leads of inefficient memory management.\n",
        "- Fixed size memory allocation as they cannot be modified in the future. This leads to efficient memory management.\n",
        "- Lists stores the references to the objects inside them which takes additional layer of storage.\n",
        "-Tuples directly stores objects since no future modification will be there."
      ],
      "metadata": {
        "id": "f7oMBUAgAR38"
      }
    },
    {
      "cell_type": "markdown",
      "source": [
        "**4.Describe how dictionaries store data ?**\n",
        "- Dictionaries store data in key-value pair format\n",
        "- Each element has it's corresponding key and value.\n",
        "- Keys has to be unique.\n",
        "- dict.keys will return the keys in the dictionary\n",
        "- dict.values will return the values for each key value.\n",
        "- Both can be accessed simultaneously using dict.items()\n",
        "- Example : dict = { 1 : 'A', 2 : 'B', 3 : 'C'}\n",
        "- Here 1,2,3 are described as keys and A , B , C are described as values"
      ],
      "metadata": {
        "id": "D2oPYj12DB60"
      }
    },
    {
      "cell_type": "markdown",
      "source": [
        "**5.Why might you use a set instead of a list in Python3 ?**\n",
        "- Sets are preferred over Lists when we need to store unique elements.\n",
        "- Sets provide Built-In operations like Union , Intersection , Difference.\n",
        "- Example :\n",
        "- set1 = {1, 2, 3, 4}\n",
        "- set2 = {3, 4, 5, 6}\n",
        "- union(set1 , set2) ----> {1,2,3,4,5,6}\n",
        "-intersection(set1 , set2) ---> {3,4}\n",
        "-set1 - set2 ----> {1,2} .. All the elements that are in set1 but not in set2\n",
        "- If order of elements is required then using set reduces the use of overhead space.\n",
        "- Fast lookup (O(1)) as a set can be stored as hashable type.Where list take (O(n)) and cannot be hashed ."
      ],
      "metadata": {
        "id": "5g7HC9meEdbr"
      }
    },
    {
      "cell_type": "markdown",
      "source": [
        "**6. What is a string in Python, and how is it different from a list3**\n",
        "- A string in python is a sequence of characters.\n",
        "- Strings are enclosed within quotes. (\" \" , ' ' , \"\"\" \"\"\", ''' ''')\n",
        "\n",
        "- String is immutable meaning if tried to modify then a new instance or copy will be created.\n",
        "- Strings store only character data types.\n",
        "- List in python stores different types of individual elements seperated by a comma as a block.\n",
        "- List is mutable meaning can be modified.\n",
        "- Lists are enclosed using  square brackets [ ].\n"
      ],
      "metadata": {
        "id": "GKghUQiJTOQa"
      }
    },
    {
      "cell_type": "markdown",
      "source": [
        "**7.How do tuples ensure data integrity in Python3**\n",
        "- Since tuples are immutables they cannot be modified.\n",
        "- Once it is created, its elements cannot be modified, added, or removed.\n",
        "- Trying to modify a tuple will cause an error.\n",
        "- Because tuples are immutable, they are hashable , this allows them to be used as keys in dictionaries.\n",
        "\n"
      ],
      "metadata": {
        "id": "C_7oq7e-U7nQ"
      }
    },
    {
      "cell_type": "markdown",
      "source": [
        "**8.What is a hash table, and how does it relate to dictionaries in Python3**\n",
        "- A hash table is a data structure that stores data in the form of  key-value pairs.\n",
        "- It allows for faster data retrieval by using hashing.\n",
        "- In Python, the built-in dict type is implemented as a hash table.\n",
        "- Dict aslo stores elements in the form of key-value pairs.\n",
        "- Fast Lookups --> O(1) time complexity for getting or setting values.\n",
        "- Efficient Insertion and Deletion ---> O(1).\n"
      ],
      "metadata": {
        "id": "m-_pbdszV8LY"
      }
    },
    {
      "cell_type": "markdown",
      "source": [
        "**9.Can lists contain different data types in Python3**\n",
        "- Lists are well known to store different data types.\n",
        "- Lists are similar to arrays but lists can store all types of data types where an array can only one data type.\n",
        "- Lists can also be nested , meaning you can store other data structures like lists inside a list.\n",
        "\n",
        "- Example :  sample_list = [1 , 'abc' , [1, 2, 'j'] , 3+6j ]"
      ],
      "metadata": {
        "id": "ASpLK5dRXO5T"
      }
    },
    {
      "cell_type": "markdown",
      "source": [
        "**10.Explain why strings are immutable in Python?**\n",
        "- Strings are by default Immutable, meaning once defined cannot be modified.\n",
        "- If you try to change it, a new string is created instead.\n",
        "- Memory Efficiency (Interning Mechanism) : Python interns some strings, meaning it reuses objects for strings with the same content to save memory.\n",
        "- Example : a = \"Hello\"  \n",
        "- b = \"Hello\"  \n",
        "-a is b --->  a & b both point to the same object in memory\n",
        "- Since immutable no over head memory is needed.\n",
        "- Also can be stored as a hashable which tends to work faster and efficient."
      ],
      "metadata": {
        "id": "_fj7uv70YODT"
      }
    },
    {
      "cell_type": "markdown",
      "source": [
        "**11.What advantages do dictionaries offer over lists for certain tasks?**\n",
        "- Dictionaries provide constant time complexity (O(1)) for lookups, insertions, and deletions.\n",
        "- Where as Lists require O(n) time for searching an element, as they need to iterate through each item.\n",
        "- Dictionaries are hashable as their keys are immutable."
      ],
      "metadata": {
        "id": "w5bRsK7Xadxh"
      }
    },
    {
      "cell_type": "markdown",
      "source": [
        "**12.Describe a scenario where using a tuple would be preferable over a list?**\n",
        "- Storing Geographic Coordinates (Latitude, Longitude)\n",
        "- We can use tuples to store ID values (Which should be immutable)"
      ],
      "metadata": {
        "id": "ulvU6EP8lb4c"
      }
    },
    {
      "cell_type": "markdown",
      "source": [
        "**13.How do sets handle duplicate values in Python?**\n",
        "- Sets does not store duplicates.\n",
        "- It stores only unique values.\n",
        "- Example : set_example = set {1,2,3,4,4,4,2,3}\n",
        "- print(set_example) --> Output : {1,2,3,4}\n"
      ],
      "metadata": {
        "id": "xdoeJ6_amwgi"
      }
    },
    {
      "cell_type": "markdown",
      "source": [
        "**14.How does the “in” keyword work differently for lists and dictionaries?**\n",
        "- When you use the in keyword with a list, it checks if the value (element) is present anywhere in the list.\n",
        "- Example : fruits = [\"apple\", \"banana\", \"orange\"]\n",
        "- print(\"apple\" in fruits)  -->  Output : True (Take O(n)) Time.\n",
        "- When you use the in keyword with a dictionary, it only checks for keys—not values.\n",
        "-This operation is very fast (O(1)) because dictionaries are implemented as hash tables.\n"
      ],
      "metadata": {
        "id": "LWznVzH6nX8K"
      }
    },
    {
      "cell_type": "markdown",
      "source": [
        "**15.Can you modify the elements of a tuple? Explain why or why not?**\n",
        "- No tuples cannot be modified.\n",
        "- Cannot be modified because they are immutable data types.\n",
        "- Trying to do will raise a type error.\n"
      ],
      "metadata": {
        "id": "uJyg4klLpLSL"
      }
    },
    {
      "cell_type": "markdown",
      "source": [
        "**16.What is a nested dictionary, and give an example of its use case?**\n",
        "\n",
        "- A nested dictionary is a dictionary that contains one or more dictionaries as its values.\n",
        "-A nested dictionary can be used to store each student's details in a structured format.\n",
        "-students =\n",
        "{  \"101\": {\n",
        "        \"name\": \"Alice\",\n",
        "        \"age\": 21,\n",
        "        \"courses\": {\n",
        "            \"Math\": \"A\",\n",
        "            \"Physics\": \"B+\",\n",
        "            \"Chemistry\": \"A-\"\n",
        "        }}"
      ],
      "metadata": {
        "id": "F-_esgEgqFDD"
      }
    },
    {
      "cell_type": "markdown",
      "source": [
        "**17.Describe the time complexity of accessing elements in a dictionary?**\n",
        "- Time complexity for accessing an element from a dictionary take O(1) time.\n",
        "-Since dictionary keys are unique they are hashable , meaning they are stored using in the memory using the hash value.\n",
        "-Therefore retrieving the hash value just takes O(1) time."
      ],
      "metadata": {
        "id": "OYTyn32npNvJ"
      }
    },
    {
      "cell_type": "markdown",
      "source": [
        "**18.In what situations are lists preferred over dictionaries?**\n",
        "- When we want to access elements by their indices.\n",
        "- When we want to perform slicing.\n",
        "- Lists are more efficient for operations like:\n",
        "   - Sorting\n",
        "   - Reversing\n",
        "   - Appending and Extending"
      ],
      "metadata": {
        "id": "WVAWvA--rs1T"
      }
    },
    {
      "cell_type": "markdown",
      "source": [
        "**19.Why are dictionaries considered unordered, and how does that affect data retrieval?**\n",
        "- Before Python 3.7, dictionaries were considered unordered.\n",
        "- This means the order in which you inserted key-value pairs was not guaranteed to be the same when you retrieved them.\n",
        "-Starting from Python 3.7, dictionaries maintain insertion order.\n",
        "- After 3.7 we can expect the insertion order to be preserved.\n",
        "- Internally, Python also maintains a linked list of the keys in insertion order.\n",
        "- When we iterate over the dictionary, it simply follows the linked list instead of the hash table directly."
      ],
      "metadata": {
        "id": "QJi8i0XHspuS"
      }
    },
    {
      "cell_type": "markdown",
      "source": [
        "**20.Explain the difference between a list and a dictionary in terms of data retrieval?**\n",
        "- List : Data is retrieved using indexes\n",
        "  - O(1) for direct access by index.\n",
        "  - O(n) for searching if the value is unknown.\n",
        "  - Slower for lookups unless the index is known.\n",
        "- Dictionary : Data is retrieved using keys\n",
        "  - O(1) for key-based access\n",
        "  - Access by key mapping, independent of order.\n",
        "  - Faster because of hashing.\n",
        "\n"
      ],
      "metadata": {
        "id": "TMnGNuNgujdO"
      }
    },
    {
      "cell_type": "markdown",
      "source": [
        "# **Practical Questions**"
      ],
      "metadata": {
        "id": "fAmiKzUxva5h"
      }
    },
    {
      "cell_type": "code",
      "source": [
        "# 1. Write a code to create a string with your name and print it.\n",
        "\n",
        "name = \"Abhishakth\"\n",
        "\n",
        "print(name)"
      ],
      "metadata": {
        "colab": {
          "base_uri": "https://localhost:8080/"
        },
        "id": "K4CntnNPvXJU",
        "outputId": "f8cfd4b3-9ca5-450a-c51c-6a591f3fb442"
      },
      "execution_count": 2,
      "outputs": [
        {
          "output_type": "stream",
          "name": "stdout",
          "text": [
            "Abhishakth\n"
          ]
        }
      ]
    },
    {
      "cell_type": "code",
      "source": [
        "#2.Write a code to find the length of the string \"Hello World\"?\n",
        "length = len(\"Hello World\")\n",
        "\n",
        "print(length)"
      ],
      "metadata": {
        "colab": {
          "base_uri": "https://localhost:8080/"
        },
        "id": "P88ffGccxZGM",
        "outputId": "8d3a0f82-6eba-4499-ef09-0bb31efeb679"
      },
      "execution_count": 3,
      "outputs": [
        {
          "output_type": "stream",
          "name": "stdout",
          "text": [
            "11\n"
          ]
        }
      ]
    },
    {
      "cell_type": "code",
      "source": [
        "#3 .Write a code to slice the first 3 characters from the string \"Python Programming\"?\n",
        "\n",
        "string_given = \"Python Programming\"\n",
        "\n",
        "print(string_given[0:3])"
      ],
      "metadata": {
        "colab": {
          "base_uri": "https://localhost:8080/"
        },
        "id": "7bX49qsZx00K",
        "outputId": "0fa96bed-4da8-40bf-c094-6bec77030d74"
      },
      "execution_count": 4,
      "outputs": [
        {
          "output_type": "stream",
          "name": "stdout",
          "text": [
            "Pyt\n"
          ]
        }
      ]
    },
    {
      "cell_type": "code",
      "source": [
        "#4.Write a code to convert the string \"hello\" to uppercase?\n",
        "\n",
        "string_given = \"hello\"\n",
        "\n",
        "print(string_given.upper())"
      ],
      "metadata": {
        "colab": {
          "base_uri": "https://localhost:8080/"
        },
        "id": "XFVG9BIayH9a",
        "outputId": "574648e3-7227-41bf-e9a0-26cd86201a20"
      },
      "execution_count": 5,
      "outputs": [
        {
          "output_type": "stream",
          "name": "stdout",
          "text": [
            "HELLO\n"
          ]
        }
      ]
    },
    {
      "cell_type": "code",
      "source": [
        "# 5. Write a code to replace the word \"apple\" with \"orange\" in the string \"I like apple\"?\n",
        "\n",
        "string_given = \"I like apple\"\n",
        "\n",
        "print(string_given.replace(\"apple\" , \"orange\"))\n"
      ],
      "metadata": {
        "colab": {
          "base_uri": "https://localhost:8080/"
        },
        "id": "zqGZapTpyV9_",
        "outputId": "df0a3543-9013-4793-82e9-e564d398e1bc"
      },
      "execution_count": 6,
      "outputs": [
        {
          "output_type": "stream",
          "name": "stdout",
          "text": [
            "I like orange\n"
          ]
        }
      ]
    },
    {
      "cell_type": "code",
      "source": [
        "# 6. Write a code to create a list with numbers 1 to 5 and print it?\n",
        "\n",
        "new_list = list(range(1,6))\n",
        "\n",
        "print(new_list)"
      ],
      "metadata": {
        "colab": {
          "base_uri": "https://localhost:8080/"
        },
        "id": "PJDaG8KSyp_N",
        "outputId": "cebea4d1-05c5-47cb-e0de-635924f617e2"
      },
      "execution_count": 7,
      "outputs": [
        {
          "output_type": "stream",
          "name": "stdout",
          "text": [
            "[1, 2, 3, 4, 5]\n"
          ]
        }
      ]
    },
    {
      "cell_type": "code",
      "source": [
        "#7.Write a code to append the number 10 to the list [1, 2, 3, 4]?\n",
        "new_list = [1,2,3,4]\n",
        "\n",
        "new_list.append(10)\n",
        "\n",
        "print(new_list)"
      ],
      "metadata": {
        "colab": {
          "base_uri": "https://localhost:8080/"
        },
        "id": "iTExTl2Wy8O-",
        "outputId": "75d3a8d9-1a73-4df0-8bde-38c98ea58212"
      },
      "execution_count": 10,
      "outputs": [
        {
          "output_type": "stream",
          "name": "stdout",
          "text": [
            "[1, 2, 3, 4, 10]\n"
          ]
        }
      ]
    },
    {
      "cell_type": "code",
      "source": [
        "#8.Write a code to remove the number 3 from the list [1, 2, 3, 4, 5]?\n",
        "new_list = [1,2,3,4,5]\n",
        "\n",
        "new_list.remove(3)\n",
        "\n",
        "print(new_list)"
      ],
      "metadata": {
        "colab": {
          "base_uri": "https://localhost:8080/"
        },
        "id": "UByCDKm1zSKt",
        "outputId": "4a08d68f-b514-4e78-cd65-a870aaafd912"
      },
      "execution_count": 11,
      "outputs": [
        {
          "output_type": "stream",
          "name": "stdout",
          "text": [
            "[1, 2, 4, 5]\n"
          ]
        }
      ]
    },
    {
      "cell_type": "code",
      "source": [
        "#9.Write a code to access the second element in the list ['a', 'b', 'c', 'd']?\n",
        "\n",
        "new_list = ['a', 'b', 'c', 'd']\n",
        "\n",
        "accessed_element = new_list[1]\n",
        "\n",
        "print(accessed_element)"
      ],
      "metadata": {
        "colab": {
          "base_uri": "https://localhost:8080/"
        },
        "id": "88ljRS-QzhIs",
        "outputId": "54c2009b-a6e8-49ac-92be-f66c6c84486c"
      },
      "execution_count": 12,
      "outputs": [
        {
          "output_type": "stream",
          "name": "stdout",
          "text": [
            "b\n"
          ]
        }
      ]
    },
    {
      "cell_type": "code",
      "source": [
        "#10.Write a code to reverse the list [10, 20, 30, 40, 50]?\n",
        "\n",
        "new_list =  [10, 20, 30, 40, 50]\n",
        "\n",
        "reversed_list = new_list[::-1]\n",
        "\n",
        "print(reversed_list)"
      ],
      "metadata": {
        "colab": {
          "base_uri": "https://localhost:8080/"
        },
        "id": "CPDExKY3zyhF",
        "outputId": "b462da20-837b-470b-c76b-9fb2751270cd"
      },
      "execution_count": 13,
      "outputs": [
        {
          "output_type": "stream",
          "name": "stdout",
          "text": [
            "[50, 40, 30, 20, 10]\n"
          ]
        }
      ]
    },
    {
      "cell_type": "code",
      "source": [
        "# 11. Write a code to create a tuple with the elements 100, 200, 300 and print it.?\n",
        "tuple_given = (100 , 200 , 300)\n",
        "\n",
        "print(tuple_given)"
      ],
      "metadata": {
        "colab": {
          "base_uri": "https://localhost:8080/"
        },
        "id": "x9xBemb30C7F",
        "outputId": "814a5257-c8dc-4eca-e5c1-9a3500f257e7"
      },
      "execution_count": 21,
      "outputs": [
        {
          "output_type": "stream",
          "name": "stdout",
          "text": [
            "(100, 200, 300)\n"
          ]
        }
      ]
    },
    {
      "cell_type": "code",
      "source": [
        "#  12.Write a code to access the second-to-last element of the tuple ('red', 'green', 'blue', 'yellow').\n",
        "\n",
        "tuple_given = ('red', 'green', 'blue', 'yellow')\n",
        "\n",
        "print(tuple_given[-2])"
      ],
      "metadata": {
        "colab": {
          "base_uri": "https://localhost:8080/"
        },
        "id": "zC5rz93a0iTm",
        "outputId": "50944e9a-4cbb-4278-d09b-1df77ebc7e5d"
      },
      "execution_count": 22,
      "outputs": [
        {
          "output_type": "stream",
          "name": "stdout",
          "text": [
            "blue\n"
          ]
        }
      ]
    },
    {
      "cell_type": "code",
      "source": [
        "# 13.Write a code to find the minimum number in the tuple (10, 20, 5, 15).\n",
        "\n",
        "tuple_given = (10, 20, 5, 15)\n",
        "\n",
        "print(min(tuple_given))"
      ],
      "metadata": {
        "colab": {
          "base_uri": "https://localhost:8080/"
        },
        "id": "HQZZZ81e0vI9",
        "outputId": "f4d4ae54-94cf-4e3b-b9af-5147b08c61d1"
      },
      "execution_count": 23,
      "outputs": [
        {
          "output_type": "stream",
          "name": "stdout",
          "text": [
            "5\n"
          ]
        }
      ]
    },
    {
      "cell_type": "code",
      "source": [
        "# 14.Write a code to find the index of the element \"cat\" in the tuple ('dog', 'cat', 'rabbit')\n",
        "\n",
        "tuple_given = ('dog', 'cat', 'rabbit')\n",
        "\n",
        "print(tuple_given.index('cat'))"
      ],
      "metadata": {
        "colab": {
          "base_uri": "https://localhost:8080/"
        },
        "id": "v1wvcWn306YU",
        "outputId": "05ed2a77-2ae8-4a5d-e984-42dd74de7f4d"
      },
      "execution_count": 24,
      "outputs": [
        {
          "output_type": "stream",
          "name": "stdout",
          "text": [
            "1\n"
          ]
        }
      ]
    },
    {
      "cell_type": "code",
      "source": [
        "# 15.Write a code to create a tuple containing three different fruits and check if \"kiwi\" is in it.\n",
        "\n",
        "tuple_given = ('strawberry' , 'kiwi' , 'apple')\n",
        "\n",
        "print('kiwi' in tuple_given)\n",
        "\n"
      ],
      "metadata": {
        "colab": {
          "base_uri": "https://localhost:8080/"
        },
        "id": "nI-pE3Y71HIu",
        "outputId": "3a4571c8-90cd-495d-95e7-ad270dde1690"
      },
      "execution_count": 25,
      "outputs": [
        {
          "output_type": "stream",
          "name": "stdout",
          "text": [
            "True\n"
          ]
        }
      ]
    },
    {
      "cell_type": "code",
      "source": [
        "# 16. Write a code to create a set with the elements 'a', 'b', 'c' and print it.\n",
        "set_given = {'a', 'b', 'c'}\n",
        "\n",
        "print(set_given)"
      ],
      "metadata": {
        "colab": {
          "base_uri": "https://localhost:8080/"
        },
        "id": "2bErdVaq1jND",
        "outputId": "927aaceb-c8b8-4a00-f1d7-c5f3ce9d5b6f"
      },
      "execution_count": 27,
      "outputs": [
        {
          "output_type": "stream",
          "name": "stdout",
          "text": [
            "{'a', 'b', 'c'}\n"
          ]
        }
      ]
    },
    {
      "cell_type": "code",
      "source": [
        "#17. Write a code to clear all elements from the set {1, 2, 3, 4, 5}.\n",
        "\n",
        "set_given = {1, 2, 3, 4, 5}\n",
        "\n",
        "set_given.clear()\n",
        "\n",
        "print(set_given)"
      ],
      "metadata": {
        "colab": {
          "base_uri": "https://localhost:8080/"
        },
        "id": "JPcRTC2d1zel",
        "outputId": "f8ce9fda-1477-4987-ce91-1bac10020ac0"
      },
      "execution_count": 28,
      "outputs": [
        {
          "output_type": "stream",
          "name": "stdout",
          "text": [
            "set()\n"
          ]
        }
      ]
    },
    {
      "cell_type": "code",
      "source": [
        "#18.  Write a code to remove the element 4 from the set {1, 2, 3, 4}.\n",
        "\n",
        "set_given = {1, 2, 3, 4}\n",
        "\n",
        "set_given.remove(4)\n",
        "\n",
        "print(set_given)"
      ],
      "metadata": {
        "colab": {
          "base_uri": "https://localhost:8080/"
        },
        "id": "R3BuVoX92CJK",
        "outputId": "26024ab8-fc6e-402c-e2d1-1375c5debcfd"
      },
      "execution_count": 29,
      "outputs": [
        {
          "output_type": "stream",
          "name": "stdout",
          "text": [
            "{1, 2, 3}\n"
          ]
        }
      ]
    },
    {
      "cell_type": "code",
      "source": [
        "#  19. Write a code to find the union of two sets {1, 2, 3} and {3, 4, 5}.\n",
        "\n",
        "set1 = {1, 2, 3}\n",
        "\n",
        "set2 = {3, 4, 5}\n",
        "\n",
        "print(set1 | set2)"
      ],
      "metadata": {
        "colab": {
          "base_uri": "https://localhost:8080/"
        },
        "id": "erLKRCEF2ZlL",
        "outputId": "b5dd8647-f7df-44da-ee4e-a4e96779b9ac"
      },
      "execution_count": 30,
      "outputs": [
        {
          "output_type": "stream",
          "name": "stdout",
          "text": [
            "{1, 2, 3, 4, 5}\n"
          ]
        }
      ]
    },
    {
      "cell_type": "code",
      "source": [
        "# 20.Write a code to find the intersection of two sets {1, 2, 3} and {2, 3, 4}\n",
        "set1 =  {1, 2, 3}\n",
        "\n",
        "set2 = {2, 3, 4}\n",
        "\n",
        "print(set1 & set2)"
      ],
      "metadata": {
        "colab": {
          "base_uri": "https://localhost:8080/"
        },
        "id": "zMdgT8dE2qJD",
        "outputId": "a9f66a2c-5b7e-497f-c9cf-956b74c7c99a"
      },
      "execution_count": 31,
      "outputs": [
        {
          "output_type": "stream",
          "name": "stdout",
          "text": [
            "{2, 3}\n"
          ]
        }
      ]
    },
    {
      "cell_type": "code",
      "source": [
        "# 21. Write a code to create a dictionary with the keys \"name\", \"age\", and \"city\", and print it.\n",
        "\n",
        "dict_given = {'name': 'Abhi', 'age' : 23 , 'city':'Guntur'}\n",
        "\n",
        "print(dict_given)"
      ],
      "metadata": {
        "colab": {
          "base_uri": "https://localhost:8080/"
        },
        "id": "uDEAJOo32-oi",
        "outputId": "cb9594c2-b465-4c03-9707-2bf995fa723e"
      },
      "execution_count": 35,
      "outputs": [
        {
          "output_type": "stream",
          "name": "stdout",
          "text": [
            "{'name': 'Abhi', 'age': 23, 'city': 'Guntur'}\n"
          ]
        }
      ]
    },
    {
      "cell_type": "code",
      "source": [
        "# 22. Write a code to add a new key-value pair \"country\": \"USA\" to the dictionary {'name': 'John', 'age': 25}.\n",
        "\n",
        "dict_given = {'name': 'John', 'age': 25}\n",
        "\n",
        "dict_given['country'] = \"USA\"\n",
        "\n",
        "print(dict_given)"
      ],
      "metadata": {
        "colab": {
          "base_uri": "https://localhost:8080/"
        },
        "id": "JOssfZur3ccM",
        "outputId": "e322438a-97be-4695-ace7-658b8cdc6094"
      },
      "execution_count": 36,
      "outputs": [
        {
          "output_type": "stream",
          "name": "stdout",
          "text": [
            "{'name': 'John', 'age': 25, 'country': 'USA'}\n"
          ]
        }
      ]
    },
    {
      "cell_type": "code",
      "source": [
        "# 23. Write a code to access the value associated with the key \"name\" in the dictionary {'name': 'Alice', 'age': 30}\n",
        "\n",
        "dict_given =  {'name': 'Alice', 'age': 30}\n",
        "\n",
        "name_accessed = dict_given['name']\n",
        "\n",
        "print(name_accessed)"
      ],
      "metadata": {
        "colab": {
          "base_uri": "https://localhost:8080/"
        },
        "id": "tVGkZHmU3wB7",
        "outputId": "683b01ad-7638-4a1a-d85a-ab1c157db64e"
      },
      "execution_count": 37,
      "outputs": [
        {
          "output_type": "stream",
          "name": "stdout",
          "text": [
            "Alice\n"
          ]
        }
      ]
    },
    {
      "cell_type": "code",
      "source": [
        "# 24. Write a code to remove the key \"age\" from the dictionary {'name': 'Bob', 'age': 22, 'city': 'New York'}.\n",
        "\n",
        "dict_given = {'name': 'Bob', 'age': 22, 'city': 'New York'}\n",
        "\n",
        "dict_given.pop('age')\n",
        "\n",
        "dict_given"
      ],
      "metadata": {
        "colab": {
          "base_uri": "https://localhost:8080/"
        },
        "id": "NB0XledL4Cjb",
        "outputId": "285a8fdb-6067-4de9-d749-a6182df5f7c6"
      },
      "execution_count": 39,
      "outputs": [
        {
          "output_type": "execute_result",
          "data": {
            "text/plain": [
              "{'name': 'Bob', 'city': 'New York'}"
            ]
          },
          "metadata": {},
          "execution_count": 39
        }
      ]
    },
    {
      "cell_type": "code",
      "source": [
        "# 25. Write a code to check if the key \"city\" exists in the dictionary {'name': 'Alice', 'city': 'Paris'}.\n",
        "\n",
        "dict_given = {'name': 'Alice', 'city': 'Paris'}\n",
        "\n",
        "print('city' in dict_given)"
      ],
      "metadata": {
        "colab": {
          "base_uri": "https://localhost:8080/"
        },
        "id": "5J95s1VS4T3b",
        "outputId": "ad7c402b-06d9-4144-e0b2-72621ab5d8d5"
      },
      "execution_count": 40,
      "outputs": [
        {
          "output_type": "stream",
          "name": "stdout",
          "text": [
            "True\n"
          ]
        }
      ]
    },
    {
      "cell_type": "code",
      "source": [
        "# 26.Write a code to create a list, a tuple, and a dictionary, and print them all.\n",
        "\n",
        "list_given = [1,2,3]\n",
        "\n",
        "tuple_given = (1,2,3)\n",
        "\n",
        "dict_given = {1:'A', 2: 'B' , 3:'C'}\n",
        "\n",
        "print(list_given)\n",
        "print(tuple_given)\n",
        "print(dict_given)"
      ],
      "metadata": {
        "colab": {
          "base_uri": "https://localhost:8080/"
        },
        "id": "eY0TYhZE4lqV",
        "outputId": "cd6a272d-39d1-432b-fd2c-060c576a986e"
      },
      "execution_count": 42,
      "outputs": [
        {
          "output_type": "stream",
          "name": "stdout",
          "text": [
            "[1, 2, 3]\n",
            "(1, 2, 3)\n",
            "{1: 'A', 2: 'B', 3: 'C'}\n"
          ]
        }
      ]
    },
    {
      "cell_type": "code",
      "source": [
        "# 27. Write a code to create a list of 5 random numbers between 1 and 100, sort it in ascending order, and print the result.(replaced)\n",
        "import random\n",
        "\n",
        "list_given = []\n",
        "\n",
        "for i in range(5):\n",
        "\n",
        "  list_given.append(random.randint(1,100))\n",
        "\n",
        "\n",
        "print(sorted(list_given))"
      ],
      "metadata": {
        "colab": {
          "base_uri": "https://localhost:8080/"
        },
        "id": "-LjPeifl5BKM",
        "outputId": "cd1a06d1-9e1f-4b19-a853-e85f4cfdf277"
      },
      "execution_count": 46,
      "outputs": [
        {
          "output_type": "stream",
          "name": "stdout",
          "text": [
            "[20, 72, 75, 75, 94]\n"
          ]
        }
      ]
    },
    {
      "cell_type": "code",
      "source": [
        "#28. Write a code to create a list with strings and print the element at the third index.\n",
        "\n",
        "list_given = ['a' , 'b' , 'c' , 'd']\n",
        "\n",
        "third_element = list_given[3]\n",
        "\n",
        "print(third_element)"
      ],
      "metadata": {
        "colab": {
          "base_uri": "https://localhost:8080/"
        },
        "id": "_Zt26QAs5oar",
        "outputId": "73dea9fa-819c-421c-df7c-4f65ba9aa235"
      },
      "execution_count": 47,
      "outputs": [
        {
          "output_type": "stream",
          "name": "stdout",
          "text": [
            "d\n"
          ]
        }
      ]
    },
    {
      "cell_type": "code",
      "source": [
        "# 29. Write a code to combine two dictionaries into one and print the result.\n",
        "\n",
        "dict1 = {'name': 'Abhi' , 'age' : 23 , 'city' : 'Guntur'}\n",
        "\n",
        "dict2 = {'gender' : 'male'}\n",
        "\n",
        "print(dict1 | dict2)"
      ],
      "metadata": {
        "colab": {
          "base_uri": "https://localhost:8080/"
        },
        "id": "RFtKtn-56Io7",
        "outputId": "0c8a2360-0657-4191-baef-56bba4552027"
      },
      "execution_count": 52,
      "outputs": [
        {
          "output_type": "stream",
          "name": "stdout",
          "text": [
            "{'name': 'Abhi', 'age': 23, 'city': 'Guntur', 'gender': 'male'}\n"
          ]
        }
      ]
    },
    {
      "cell_type": "code",
      "source": [
        "# 30. Write a code to convert a list of strings into a set.\n",
        "\n",
        "list_given = ['a' , 'b' , 'c' , 'c']\n",
        "\n",
        "set_given = set(list_given)\n",
        "\n",
        "print(set_given)"
      ],
      "metadata": {
        "colab": {
          "base_uri": "https://localhost:8080/"
        },
        "id": "LyT433ym6v6r",
        "outputId": "0cbf0cef-db25-4ce9-eeb4-db546beb9c0a"
      },
      "execution_count": 53,
      "outputs": [
        {
          "output_type": "stream",
          "name": "stdout",
          "text": [
            "{'a', 'b', 'c'}\n"
          ]
        }
      ]
    }
  ]
}