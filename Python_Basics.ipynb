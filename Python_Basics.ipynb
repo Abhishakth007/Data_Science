{
  "nbformat": 4,
  "nbformat_minor": 0,
  "metadata": {
    "colab": {
      "provenance": []
    },
    "kernelspec": {
      "name": "python3",
      "display_name": "Python 3"
    },
    "language_info": {
      "name": "python"
    }
  },
  "cells": [
    {
      "cell_type": "markdown",
      "source": [
        "## **Python Basics Assigment** - Theoretical Questions\n"
      ],
      "metadata": {
        "id": "u7-IHwXlYSiC"
      }
    },
    {
      "cell_type": "markdown",
      "source": [
        "1. What is Python, and why is it popular\n",
        " - Python is a **Programming Language** which is used to communicate with the Machine.\n",
        " - Python is an **Intrepreted** programming language unlike c , c++ which are compiled languages.\n",
        " -**Cross Platform Compatibility** : Can be used on multiple types of devices like windows , linux , mac etc..\n",
        " - **Dynamically Typed Language** : No need to declare data types for varibles explicitly.\n",
        " - Its is popular beacuse it's easy to learn and understand.\n",
        " - Python has a huge community whole around the world.\n",
        " - Very vast libraries and ready to use frameworks.\n",
        " - Helps solving complex problems using pythons Machine Learning , Deep Learning , NLP libraries."
      ],
      "metadata": {
        "id": "9sVV-Su4Ytwb"
      }
    },
    {
      "cell_type": "markdown",
      "source": [
        "2. What is an interpreter in Python\n",
        " - Interpreter helps in running python code which is written.\n",
        " -Unlike compiler which wont get executed if there are any errors in the code , interpreter will run the code up until the error is found.\n",
        " - The interpreter executes the code from top to bottom.\n",
        " - Unlike compiler which generates .exe file after compilation , python directly runs the code/script without additional file creation by default.\n",
        " - However python generates a .pyc as a part of byte code generation."
      ],
      "metadata": {
        "id": "YbQQBxiQZZqj"
      }
    },
    {
      "cell_type": "markdown",
      "source": [
        "3.  What are pre-defined keywords in Python\n",
        "- Keywords have pre-defined meanings in the language and are reserved by the Python interpreter to define the syntax and structure of the code.\n",
        "- There are a total of 35 keywords in python.\n",
        "- Keywords are built-in / pre-defined and can be used in while writing code.\n",
        "- Keywords should not be used as variable names as it may raise exceptions and cause confusion to the interpreter.\n",
        "- Few keywords are : for , while , in , def , if , else , elif , return etc...\n",
        "-Keywords are case sensitive and are lowercase."
      ],
      "metadata": {
        "id": "sgG58TQodLGb"
      }
    },
    {
      "cell_type": "markdown",
      "source": [
        "4. Can keywords be used as variable names\n",
        "- No, Keywords cannot be used as variable names.\n",
        "- Using a keyword as a variable name confuses the interpreter.\n",
        "- Interpreter will not understand what you are doing whether you are declaring a variable or trying to use the functionality of keyword.\n",
        "- The parser which convetrs the code into small chuncks will raise syntax errors.\n"
      ],
      "metadata": {
        "id": "x6JXRnqXgH7s"
      }
    },
    {
      "cell_type": "markdown",
      "source": [
        "5. What is mutability in Python?\n",
        "- The ability to modify the elements/content even after declaring in a data strcture is called as Mutability.\n",
        "- Lists / Arrays , Dictionaries , Sets are the popular examples of mutable data structures.\n",
        "- One can access the elements using indexing and then modify them.\n",
        "- Mutability affects how data inside memory is managed."
      ],
      "metadata": {
        "id": "zZp85m5_ha8D"
      }
    },
    {
      "cell_type": "markdown",
      "source": [
        "6.  Why are lists mutable, but tuples are immutable\n",
        "- Lists are mutable beacuse the content inside lists can be modified even after declaring them.\n",
        "- However Tuples are immutable meaning they cannot be modified after declaring them.\n",
        "- One can modify the elements in the List using indexing which is not possible when using tuples.\n",
        "- Common methods that shows mutability are append , remove, extend , push , pop etc..\n",
        "- There advantages for every data structure like tuples dont have the risk of modifying its elements."
      ],
      "metadata": {
        "id": "ocAWAXCCjARj"
      }
    },
    {
      "cell_type": "markdown",
      "source": [
        "7. What is the difference between “==” and “is” operators in Python\n",
        "- '==' is the equality comparison operator.\n",
        "- 'is' is an identity operator.\n",
        "- '==' is used to compare values. Ex : a==2 , a==b , etc...\n",
        "- 'is' is used to compare memory addresses of 2 variables. Ex : a is b ..checks whether both a and b share same address space in the memory."
      ],
      "metadata": {
        "id": "wmyoQTZIlDI8"
      }
    },
    {
      "cell_type": "markdown",
      "source": [
        "8. What are logical operators in Python?\n",
        "- Logical operators are used to compare 2 or more conditonal statements.\n",
        "- AND returns True if all the conditions are True else returns False\n",
        "- OR returns True if atleast one of the given conditions are True else returns False.\n",
        "-They are typicllay used in if , while condtional statements."
      ],
      "metadata": {
        "id": "ba9aW2WVmUmc"
      }
    },
    {
      "cell_type": "markdown",
      "source": [
        "9. What is type casting in Python\n",
        "- Type casting the way to change the data type of a variable.\n",
        "- Python is Dynamically Typed Language where python understands the data type itself.\n",
        "- However sometimes we need to change the data type of a variable , input etc...\n",
        "-Therefore we explicit type casting.We force the variable to change its dtype.\n",
        "- This can raise TypeError if not handled properly.\n",
        "- Some common casting functions are int() , float() , str() , list() etc.."
      ],
      "metadata": {
        "id": "7OMzoLD3nNde"
      }
    },
    {
      "cell_type": "markdown",
      "source": [
        "10. What is the difference between implicit and explicit type casting?\n",
        "- Implicit Type casting means that python inerpreter automatically identifes the data type of the variable , input etc.. and assigns them the dtype.\n",
        "- In Explicit type casting  we need to change the data type of a variable , input etc... as per our requirement.\n",
        "- Ex : Input function by default given the inpput to us as a string where sometimes we  need to collect integer input from the terminal , So we explicitly call the int() fnction of the input where it will the converted into an Integer.\n",
        "- Explicit type casting require careful oberservations as they often lead to errors."
      ],
      "metadata": {
        "id": "Jj3jT5XaoZWF"
      }
    },
    {
      "cell_type": "markdown",
      "source": [
        "11. What is the purpose of conditional statements in Python?\n",
        "- Conditional statements are used to control the flow of the entire code.\n",
        "- The primary use case of conditional statemetns is to execute a block of code if and only if a particular condition is True.\n",
        "- if , elif , else are the keywords used in conditional statements.\n",
        "- Decides when a code block should get executed and when should not."
      ],
      "metadata": {
        "id": "c3a6ztPCpoU3"
      }
    },
    {
      "cell_type": "markdown",
      "source": [
        "12. How does the elif statement work?\n",
        "- Elif is the combination of If , else -- \"Else If\" which is shortened as elif.\n",
        "- Elif will get the chnace to get executed when the IF condition turns out to be False.\n",
        "- Elif does have its condition to check , If the condition is true then then code block of elif gets executed if not else block will automatically gets executed.\n",
        "- Elif is just like a secondary condition where the IF hold the primary condition.\n",
        "- One can write as many elif conditions as needed within the IF , Else blocks."
      ],
      "metadata": {
        "id": "Q3hJQtumq_uW"
      }
    },
    {
      "cell_type": "markdown",
      "source": [
        "13. What is the difference between for and while loops?\n",
        "- Both for and while loops are used to execute a block of code multiple times.\n",
        "- For loops are used when the no.of iterations are pre-defined.\n",
        "- While loops are used when the loop range or the exiting condition or no.of iterations are not pre-defined.\n",
        "- Loop Termination condition is written inside the while loop code block , while the condition is true the block repeatedly gets executed.\n",
        "- For loops are safer to use as their termination condition is pre-defined , where as while loops should be carefully monitored beacause of high risk of loop run infinite times."
      ],
      "metadata": {
        "id": "dLDyAVLFzJ-_"
      }
    },
    {
      "cell_type": "markdown",
      "source": [
        "14. Describe a scenario where a while loop is more suitable than a for loop?\n",
        "- A while loop is ideal when the number of iterations is not known in advance.\n",
        "- Imagine you have a Data Structure Linked List where the last node or length of the Linked List cannot be known.\n",
        "- So using a for loop without knowing the end is irrelevant.\n",
        "-Therefore while loop can be very handy to iterate throught the entire Linked List from start of end node.\n",
        "- Ex : cuurent_node = self.head\n",
        "- while current_node.next == None:  # Goes all the way to the end of Linked List.\n",
        "- current_node = current_node.next"
      ],
      "metadata": {
        "id": "6Qm_Nubj0k8G"
      }
    },
    {
      "cell_type": "code",
      "source": [
        "# 1 Write a Python program to print \"Hello, World!\"\n",
        "\n",
        "print(\"Hello , World!\")"
      ],
      "metadata": {
        "colab": {
          "base_uri": "https://localhost:8080/"
        },
        "id": "yihgE-W41-Af",
        "outputId": "249ed588-2898-4498-fc86-3b61ee8f62c0"
      },
      "execution_count": 1,
      "outputs": [
        {
          "output_type": "stream",
          "name": "stdout",
          "text": [
            "Hello , World!\n"
          ]
        }
      ]
    },
    {
      "cell_type": "code",
      "source": [
        "# 2 Write a Python program that displays your name and age\n",
        "name = \"Abhishakth\"\n",
        "age = 23\n",
        "\n",
        "print(f\"Name : {name} , Age : {age}\")"
      ],
      "metadata": {
        "colab": {
          "base_uri": "https://localhost:8080/"
        },
        "id": "nTH1Upyu3GOI",
        "outputId": "ec9d4d18-4c48-4399-cebb-29b45b5d0054"
      },
      "execution_count": 4,
      "outputs": [
        {
          "output_type": "stream",
          "name": "stdout",
          "text": [
            "Name : Abhishakth , Age : 23\n"
          ]
        }
      ]
    },
    {
      "cell_type": "code",
      "source": [
        "# 3 Write code to print all the pre-defined keywords in Python using the keyword library\n",
        "import keyword\n",
        "\n",
        "print(keyword.kwlist)"
      ],
      "metadata": {
        "colab": {
          "base_uri": "https://localhost:8080/"
        },
        "id": "B_G83te_3H34",
        "outputId": "a0f8647e-f982-4628-b8d9-6691a85b23e8"
      },
      "execution_count": 6,
      "outputs": [
        {
          "output_type": "stream",
          "name": "stdout",
          "text": [
            "['False', 'None', 'True', 'and', 'as', 'assert', 'async', 'await', 'break', 'class', 'continue', 'def', 'del', 'elif', 'else', 'except', 'finally', 'for', 'from', 'global', 'if', 'import', 'in', 'is', 'lambda', 'nonlocal', 'not', 'or', 'pass', 'raise', 'return', 'try', 'while', 'with', 'yield']\n"
          ]
        }
      ]
    },
    {
      "cell_type": "code",
      "source": [
        "#4 Write a program that checks if a given word is a Python keyword\n",
        "import keyword\n",
        "\n",
        "keywords_list = keyword.kwlist\n",
        "\n",
        "user_input = input(\"Enter word :\" )\n",
        "\n",
        "if user_input in keywords_list:\n",
        "  print(\"True\")\n",
        "else:\n",
        "  print(\"False\")"
      ],
      "metadata": {
        "colab": {
          "base_uri": "https://localhost:8080/"
        },
        "id": "cKPWRmBc4TF_",
        "outputId": "42f028b8-3687-4ce2-c1d1-6eca5547ac22"
      },
      "execution_count": 8,
      "outputs": [
        {
          "output_type": "stream",
          "name": "stdout",
          "text": [
            "Enter word :in\n",
            "True\n"
          ]
        }
      ]
    },
    {
      "cell_type": "code",
      "source": [
        "#5 Create a list and tuple in Python, and demonstrate how attempting to change an element works differently for each.\n",
        "\n",
        "list_a = [1,2,3,4,5]\n",
        "\n",
        "tuple_b = ('a', 'c', 2)\n",
        "\n",
        "list_a[0] = 'abc'\n",
        "\n",
        "print(list_a)\n",
        "\n",
        "tuple_b[1] = 'abc'\n",
        "\n",
        "print(tuple_b)"
      ],
      "metadata": {
        "colab": {
          "base_uri": "https://localhost:8080/",
          "height": 228
        },
        "id": "P9HpA5fC4w2I",
        "outputId": "3ae7db48-e27e-454a-b564-c5c80cf29036"
      },
      "execution_count": 11,
      "outputs": [
        {
          "output_type": "stream",
          "name": "stdout",
          "text": [
            "['abc', 2, 3, 4, 5]\n"
          ]
        },
        {
          "output_type": "error",
          "ename": "TypeError",
          "evalue": "'tuple' object does not support item assignment",
          "traceback": [
            "\u001b[0;31m---------------------------------------------------------------------------\u001b[0m",
            "\u001b[0;31mTypeError\u001b[0m                                 Traceback (most recent call last)",
            "\u001b[0;32m<ipython-input-11-5c04b352fb01>\u001b[0m in \u001b[0;36m<cell line: 0>\u001b[0;34m()\u001b[0m\n\u001b[1;32m      9\u001b[0m \u001b[0mprint\u001b[0m\u001b[0;34m(\u001b[0m\u001b[0mlist_a\u001b[0m\u001b[0;34m)\u001b[0m\u001b[0;34m\u001b[0m\u001b[0;34m\u001b[0m\u001b[0m\n\u001b[1;32m     10\u001b[0m \u001b[0;34m\u001b[0m\u001b[0m\n\u001b[0;32m---> 11\u001b[0;31m \u001b[0mtuple_b\u001b[0m\u001b[0;34m[\u001b[0m\u001b[0;36m1\u001b[0m\u001b[0;34m]\u001b[0m \u001b[0;34m=\u001b[0m \u001b[0;34m'abc'\u001b[0m\u001b[0;34m\u001b[0m\u001b[0;34m\u001b[0m\u001b[0m\n\u001b[0m\u001b[1;32m     12\u001b[0m \u001b[0;34m\u001b[0m\u001b[0m\n\u001b[1;32m     13\u001b[0m \u001b[0mprint\u001b[0m\u001b[0;34m(\u001b[0m\u001b[0mtuple_b\u001b[0m\u001b[0;34m)\u001b[0m\u001b[0;34m\u001b[0m\u001b[0;34m\u001b[0m\u001b[0m\n",
            "\u001b[0;31mTypeError\u001b[0m: 'tuple' object does not support item assignment"
          ]
        }
      ]
    },
    {
      "cell_type": "code",
      "source": [
        "# 6 Write a function to demonstrate the behavior of mutable and immutable arguments\n",
        "\n",
        "def modify_arguments(immutable_arg, mutable_arg):\n",
        "\n",
        "    immutable_arg += 10\n",
        "\n",
        "    print(\"Inside function (immutable):\", immutable_arg)\n",
        "\n",
        "    mutable_arg.append(100)\n",
        "    print(\"Inside function (mutable):\", mutable_arg)\n",
        "\n",
        "num = 5\n",
        "numbers = [1, 2, 3]\n",
        "modify_arguments(num, numbers)\n",
        "\n",
        "print(\"Outside function (immutable):\", num)\n",
        "print(\"Outside function (mutable):\", numbers)"
      ],
      "metadata": {
        "colab": {
          "base_uri": "https://localhost:8080/"
        },
        "id": "3Z8ic0P45OCf",
        "outputId": "669b1eba-692c-4196-8f0a-40ec0ac77327"
      },
      "execution_count": 12,
      "outputs": [
        {
          "output_type": "stream",
          "name": "stdout",
          "text": [
            "Inside function (immutable): 15\n",
            "Inside function (mutable): [1, 2, 3, 100]\n",
            "Outside function (immutable): 5\n",
            "Outside function (mutable): [1, 2, 3, 100]\n"
          ]
        }
      ]
    },
    {
      "cell_type": "code",
      "source": [
        "# 7 Write a program that performs basic arithmetic operations on two user-input numbers.\n",
        "\n",
        "def calculator(a, b, operator):\n",
        "\n",
        "    if operator == '+':\n",
        "\n",
        "           return a + b\n",
        "\n",
        "    elif operator == '-':\n",
        "\n",
        "          return a - b\n",
        "\n",
        "    elif operator == '*':\n",
        "\n",
        "        return a * b\n",
        "\n",
        "    elif operator == '/':\n",
        "\n",
        "        if b != 0:\n",
        "\n",
        "             return a / b\n",
        "\n",
        "        else:\n",
        "\n",
        "            return \"Division by zero error\"\n",
        "\n",
        "    elif operator == '%':\n",
        "\n",
        "        if b != 0:\n",
        "\n",
        "            return a % b\n",
        "\n",
        "        else:\n",
        "\n",
        "            return \"Modulo by zero Error\"\n",
        "\n",
        "    else:\n",
        "\n",
        "      return \"invali operator\"\n",
        "\n",
        "a = int(input('Enter a number: '))\n",
        "\n",
        "b = int(input(\"Enter another number: \"))\n",
        "\n",
        "c = input(\"Enter operator (+, -, *, /, %): \")\n",
        "\n",
        "print(calculator(a, b, c))\n"
      ],
      "metadata": {
        "colab": {
          "base_uri": "https://localhost:8080/"
        },
        "id": "oZbjTrX951X6",
        "outputId": "b1364f18-0c2c-4561-9cc4-5d0f0cadb907"
      },
      "execution_count": 17,
      "outputs": [
        {
          "output_type": "stream",
          "name": "stdout",
          "text": [
            "Enter a number: 5\n",
            "Enter another number: 7\n",
            "Enter operator (+, -, *, /, %): +\n",
            "12\n"
          ]
        }
      ]
    },
    {
      "cell_type": "code",
      "source": [
        "# 8 Write a program to demonstrate the use of logical operators.\n",
        "a = 10\n",
        "b = 20\n",
        "c = 30\n",
        "\n",
        "if a == None or b == None or c == None:\n",
        "  print(\"None Type exists\")\n",
        "\n",
        "else:\n",
        "  if a > b and a >c :\n",
        "\n",
        "    print(\"A is greatest\")\n",
        "\n",
        "  elif b > c and b > a:\n",
        "\n",
        "    print(\"B is greatest\")\n",
        "\n",
        "  else:\n",
        "\n",
        "    print(\"C is greatest\")\n",
        "\n",
        "\n",
        "\n"
      ],
      "metadata": {
        "colab": {
          "base_uri": "https://localhost:8080/"
        },
        "id": "XCdr3DWv7a84",
        "outputId": "33ce52d3-dad1-41f8-afe0-f6d247a7ab88"
      },
      "execution_count": 20,
      "outputs": [
        {
          "output_type": "stream",
          "name": "stdout",
          "text": [
            "C is greatest\n"
          ]
        }
      ]
    },
    {
      "cell_type": "code",
      "source": [
        "# 9 Write a Python program to convert user input from string to integer, float, and boolean types\n",
        "\n",
        "user_input = input(\"Enter a number: \")\n",
        "\n",
        "int_value = int(user_input)\n",
        "\n",
        "print(\"As  Integer:\", int_value)\n",
        "\n",
        "float_value = float(user_input)\n",
        "\n",
        "print(\"As Flot:\", float_value)\n",
        "\n",
        "bool_value = bool(int_value)\n",
        "\n",
        "print(\"As Boolean:\", bool_value)\n"
      ],
      "metadata": {
        "colab": {
          "base_uri": "https://localhost:8080/"
        },
        "id": "p5o-2zOe8YoP",
        "outputId": "26a5923d-67c6-4234-c656-80117a7aeec7"
      },
      "execution_count": 22,
      "outputs": [
        {
          "output_type": "stream",
          "name": "stdout",
          "text": [
            "Enter a number: 0\n",
            "As Integer: 0\n",
            "As Float: 0.0\n",
            "As Boolean: False\n"
          ]
        }
      ]
    },
    {
      "cell_type": "code",
      "source": [
        "# 10 Write code to demonstrate type casting with list elements.\n",
        "\n",
        "strings_list = [\"1\", \"2\", \"3\", \"4\"]\n",
        "\n",
        "int_list = [int(i) for i in strings_list]\n",
        "\n",
        "print(\"As Integers:\", int_list)\n",
        "\n",
        "float_list = [float(j) for j in strings_list]\n",
        "\n",
        "print(\"As Floats:\", float_list)"
      ],
      "metadata": {
        "colab": {
          "base_uri": "https://localhost:8080/"
        },
        "id": "MH_yzwAZ85tQ",
        "outputId": "6a164735-f00c-4f77-b579-6aab784060aa"
      },
      "execution_count": 25,
      "outputs": [
        {
          "output_type": "stream",
          "name": "stdout",
          "text": [
            "As Integers: [1, 2, 3, 4]\n",
            "As Floats: [1.0, 2.0, 3.0, 4.0]\n"
          ]
        }
      ]
    },
    {
      "cell_type": "code",
      "source": [
        "# 11. Write a program that checks if a number is positive, negative, or zero.\n",
        "\n",
        "num = int(input(\"Enter number : \"))\n",
        "\n",
        "if num > 0:\n",
        "    print(\"Positive Number\")\n",
        "elif num < 0:\n",
        "    print(\"Negative Numbe\")\n",
        "else:\n",
        "    print(\"Zero\")\n"
      ],
      "metadata": {
        "colab": {
          "base_uri": "https://localhost:8080/"
        },
        "id": "gS-hJeae9dXW",
        "outputId": "fbcd401c-7f3d-464d-c646-e97692bec63c"
      },
      "execution_count": 27,
      "outputs": [
        {
          "output_type": "stream",
          "name": "stdout",
          "text": [
            "Enter number : 0\n",
            "Zero\n"
          ]
        }
      ]
    },
    {
      "cell_type": "code",
      "source": [
        "#12. Write a for loop to print numbers from 1 to 10.\n",
        "\n",
        "for i in range(1 , 11):\n",
        "  print(i)"
      ],
      "metadata": {
        "colab": {
          "base_uri": "https://localhost:8080/"
        },
        "id": "v2ySzOqb94h4",
        "outputId": "cdc75308-e239-44e3-91fe-48b52be6b173"
      },
      "execution_count": 28,
      "outputs": [
        {
          "output_type": "stream",
          "name": "stdout",
          "text": [
            "1\n",
            "2\n",
            "3\n",
            "4\n",
            "5\n",
            "6\n",
            "7\n",
            "8\n",
            "9\n",
            "10\n"
          ]
        }
      ]
    },
    {
      "cell_type": "code",
      "source": [
        "#13. Write a Python program to find the sum of all even numbers between 1 and 50.\n",
        "\n",
        "total_sum = 0\n",
        "\n",
        "for i in range(1, 50):\n",
        "  if i %2 ==0:\n",
        "\n",
        "    total_sum+=i\n",
        "\n",
        "print(total_sum)"
      ],
      "metadata": {
        "colab": {
          "base_uri": "https://localhost:8080/"
        },
        "id": "aYsmxYUB-Ra9",
        "outputId": "e2d2d1b6-8bab-42ff-f441-c3e488a8a333"
      },
      "execution_count": 30,
      "outputs": [
        {
          "output_type": "stream",
          "name": "stdout",
          "text": [
            "600\n"
          ]
        }
      ]
    },
    {
      "cell_type": "code",
      "source": [
        "#14. Write a program to reverse a string using a while loop.\n",
        "\n",
        "text = input(\"Enter string: \")\n",
        "\n",
        "reversed_text = \"\"\n",
        "\n",
        "i = len(text) - 1\n",
        "\n",
        "while i >= 0:\n",
        "\n",
        "  reversed_text += text[i]\n",
        "  i -= 1\n",
        "\n",
        "print(reversed_text)"
      ],
      "metadata": {
        "colab": {
          "base_uri": "https://localhost:8080/"
        },
        "id": "Syg4fDEo-iKf",
        "outputId": "e4e3d84a-7d95-4edb-9e65-a313f3c3ae54"
      },
      "execution_count": 31,
      "outputs": [
        {
          "output_type": "stream",
          "name": "stdout",
          "text": [
            "Enter string: abcegddjd\n",
            "djddgecba\n"
          ]
        }
      ]
    },
    {
      "cell_type": "code",
      "source": [
        "#15. Write a Python program to calculate the factorial of a number provided by the user using a while loop.\n",
        "\n",
        "user_input = int(input(\"Enter a number: \"))\n",
        "\n",
        "factorial_value = 1\n",
        "\n",
        "while user_input >0:\n",
        "\n",
        "  factorial_value*= user_input\n",
        "\n",
        "  user_input-=1\n",
        "\n",
        "print(factorial_value)"
      ],
      "metadata": {
        "colab": {
          "base_uri": "https://localhost:8080/"
        },
        "id": "sQalDnLz-6RH",
        "outputId": "571343b2-329f-41b5-ab8d-50860752cc5d"
      },
      "execution_count": 32,
      "outputs": [
        {
          "output_type": "stream",
          "name": "stdout",
          "text": [
            "Enter a number: 5\n",
            "120\n"
          ]
        }
      ]
    }
  ]
}