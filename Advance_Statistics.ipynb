{
  "nbformat": 4,
  "nbformat_minor": 0,
  "metadata": {
    "colab": {
      "provenance": []
    },
    "kernelspec": {
      "name": "python3",
      "display_name": "Python 3"
    },
    "language_info": {
      "name": "python"
    }
  },
  "cells": [
    {
      "cell_type": "markdown",
      "source": [
        "# **Advance Statistics - Part 1**"
      ],
      "metadata": {
        "id": "cfgDihKzypbg"
      }
    },
    {
      "cell_type": "markdown",
      "source": [
        "1.  What is a random variable in probability theory\n",
        "- A random variable is a way to assign numerical values to the outcomes of a random experiment.\n",
        "- 2 Types Of Random Variables\n",
        "  - Discrete Random Variable\n",
        "  - Continuous Random Variable"
      ],
      "metadata": {
        "id": "JkLKv7mNyxW0"
      }
    },
    {
      "cell_type": "markdown",
      "source": [
        "2. What are the types of random variables?\n",
        "- Discrete Random Variable:\n",
        "  - Takes on countable values (like integers).\n",
        "  - Example: Number of heads in 3 coin tosses.\n",
        "- Continuous Random Variable:\n",
        "  - Takes on uncountably infinite values within an interval.\n",
        "  - Example: The time it takes for a website to load (e.g., 2.37 seconds)."
      ],
      "metadata": {
        "id": "ogsyxv0MzctN"
      }
    },
    {
      "cell_type": "markdown",
      "source": [
        "3. What is the difference between discrete and continuous distributions?\n",
        "- A discrete distribution deals with countable outcomes.\n",
        "  - The values can be listed (finite or countably infinite), like 0, 1, 2, 3...\n",
        "- A continuous distribution deals with uncountable outcomes (like all real numbers in an interval).\n",
        "  - Height, weight, time, temperature"
      ],
      "metadata": {
        "id": "sG-XZ4-3zsdl"
      }
    },
    {
      "cell_type": "markdown",
      "source": [
        "4.  What are probability distribution functions (PDF)?\n",
        "- Probability Distribution Function (PDF) describes how probabilities are distributed over the values of a random variable.\n",
        "- The area under the curve between two values gives the probability of falling in that interval."
      ],
      "metadata": {
        "id": "-qY_ehIC0FWj"
      }
    },
    {
      "cell_type": "markdown",
      "source": [
        "5. How do cumulative distribution functions (CDF) differ from probability distribution functions (PDF)?\n",
        "- PDF (Probability Density Function)\n",
        "  - Describes how dense the probability is around a particular value.\n",
        "\n",
        "  - Not the actual probability at a point (for continuous variables, that's always 0).\n",
        "- CDF (Cumulative Distribution Function)\n",
        "  - Describes the probability that the variable is less than or equal to a certain value.\n",
        "\n",
        "  - Always increases from 0 to 1"
      ],
      "metadata": {
        "id": "DlCwvPRn0chn"
      }
    },
    {
      "cell_type": "markdown",
      "source": [
        "6.  What is a discrete uniform distribution?\n",
        "- A discrete uniform distribution is a distribution where all possible outcomes are equally likely.\n",
        "- Rolling a fair 6-sided die:\n",
        "\n",
        "- Sample space: {1,2,3,4,5,6}\n",
        "\n",
        "- Each outcome has equal mean and variance"
      ],
      "metadata": {
        "id": "WQMI1ro71Gpq"
      }
    },
    {
      "cell_type": "markdown",
      "source": [
        "7. What are the key properties of a Bernoulli distribution?\n",
        "- A Bernoulli distribution models a random experiment that has exactly two outcomes:\n",
        "\n",
        "  - Success (often coded as 1)\n",
        "\n",
        "  - Failure (coded as 0)\n",
        "- Yes/No, Success/Failure outcomes , Coin tosses"
      ],
      "metadata": {
        "id": "blqvJeSh1gaM"
      }
    },
    {
      "cell_type": "markdown",
      "source": [
        "8. What is the binomial distribution, and how is it used in probability?\n",
        "- A random variable X follows a binomial distribution if:\n",
        "\n",
        "  - X∼Bin(n,p)\n",
        "- Where: n: number of trials\n",
        "\n",
        "- p: probability of success in a single trial\n",
        "- X: number of successes in\n"
      ],
      "metadata": {
        "id": "yZa0Ac7P15f2"
      }
    },
    {
      "cell_type": "markdown",
      "source": [
        "9. What is the Poisson distribution and where is it applied?\n",
        "- The Poisson distribution is a discrete probability distribution that models the number of times an event occurs in a fixed interval of time or space, when those events occur independently and at a constant average rate.\n",
        "\n",
        "- If a random variable X follows a Poisson distribution with rate λ, we write: X∼Poisson(λ)"
      ],
      "metadata": {
        "id": "I-DwOBFN2gX3"
      }
    },
    {
      "cell_type": "markdown",
      "source": [
        "10. What is a continuous uniform distribution?\n",
        "- The continuous uniform distribution is the simplest type of continuous probability distribution , it describes a situation where all values in a continuous range are equally likely.\n",
        "\n",
        "- Picking a random number in a range , Simulating randomness in games"
      ],
      "metadata": {
        "id": "3RFNZtmn21E2"
      }
    },
    {
      "cell_type": "markdown",
      "source": [
        "11.  What are the characteristics of a normal distribution?\n",
        "- It’s a way to describe how values are spread out when most values are close to the average, and fewer values appear as you go further away.\n",
        "- It creates a bell-shaped curve."
      ],
      "metadata": {
        "id": "bM_FLwQn3GKq"
      }
    },
    {
      "cell_type": "markdown",
      "source": [
        "12. What is the standard normal distribution, and why is it important?\n",
        "- The standard normal distribution is just a special version of the normal distribution that’s been scaled and centered to make calculations easier.\n",
        "  - It’s a bell-shaped curve, like any normal distribution.\n",
        "\n",
        "  - But the average (mean) is set to 0, and the spread (standard deviation) is 1."
      ],
      "metadata": {
        "id": "AgG0m9eV3cYc"
      }
    },
    {
      "cell_type": "markdown",
      "source": [
        "13. What is the Central Limit Theorem (CLT), and why is it critical in statistics?\n",
        "- The CLT says that if you take a large number of random samples from any population , no matter how that population looks (weird, skewed, bumpy) , and you calculate the average of each sample, then:\n",
        "\n",
        "  - The distribution of those sample averages will start to look like a normal distribution, as the number of samples gets large enough."
      ],
      "metadata": {
        "id": "KghydLla3vXB"
      }
    },
    {
      "cell_type": "markdown",
      "source": [
        "14.  How does the Central Limit Theorem relate to the normal distribution?\n",
        "- The Central Limit Theorem explains why the normal distribution appears so often ,even when the original data isn’t normal.\n",
        "- It acts like a bridge , turning unpredictable raw data into predictable averages that follow the normal curve."
      ],
      "metadata": {
        "id": "sephMyuZ3_4S"
      }
    },
    {
      "cell_type": "markdown",
      "source": [
        "15. What is the application of Z statistics in hypothesis testing?\n",
        "- It measures how far your sample result is from the assumed population value, in terms of standard deviations. It helps you answer:\n",
        "\n",
        "  - “Is my result significantly different, or just due to random chance?”"
      ],
      "metadata": {
        "id": "wsrXzD754Su9"
      }
    },
    {
      "cell_type": "markdown",
      "source": [
        "16. How do you calculate a Z-score, and what does it represent?\n",
        "- A Z-score tells you how far a particular value is from the mean, in terms of standard deviations.\n",
        "- Z = (Your value - Mean) / Standard deviation\n",
        "  - A Z-score of 0 means the value is exactly average.\n",
        "  - A positive Z-score means the value is above the average.\n",
        "  - A negative Z-score means the value is below the average."
      ],
      "metadata": {
        "id": "-G6E2mV94du-"
      }
    },
    {
      "cell_type": "markdown",
      "source": [
        "17.  What are point estimates and interval estimates in statistics?\n",
        "- A point estimate is a single value used to guess something about a population.\n",
        "\n",
        "- It's your best guess based on the sample.\n",
        "   \n",
        "  - You survey 100 people and find the average height is 5.7 feet.\n",
        "\n",
        "  - That 5.7 is your point estimate of the population’s average height."
      ],
      "metadata": {
        "id": "PIBA0FWX4xp2"
      }
    },
    {
      "cell_type": "markdown",
      "source": [
        "18. What is the significance of confidence intervals in statistical analysis?\n",
        "- Confidence intervals are super important in statistical analysis because they give you a range of values that likely includes the true population value , with a stated level of certainty.\n",
        "- Instead of giving just a single guess (like a point estimate), a confidence interval says:\n",
        "\n",
        "  - “We’re not 100% sure, but we’re X% confident that the true answer lies somewhere in this range.”"
      ],
      "metadata": {
        "id": "K3dz_9H75Il4"
      }
    },
    {
      "cell_type": "markdown",
      "source": [
        "19. What is the relationship between a Z-score and a confidence interval?\n",
        "- The Z-score sets the \"margin of error\" for the confidence interval.\n",
        "- A higher confidence level means a bigger Z-score, which makes the interval wider (more cautious)."
      ],
      "metadata": {
        "id": "dkIsEKa75YrP"
      }
    },
    {
      "cell_type": "markdown",
      "source": [
        "20. How are Z-scores used to compare different distributions?\n",
        "- Z-scores answer:“How many standard deviations away is this score from the mean?”\n",
        "\n",
        "- So once you calculate the Z-scores for each value, you can compare which score is further above (or below) average , no matter the original units."
      ],
      "metadata": {
        "id": "rqMhdrB35m50"
      }
    },
    {
      "cell_type": "markdown",
      "source": [
        "21. What are the assumptions for applying the Central Limit Theorem?\n",
        "- Random Sampling\n",
        "\n",
        "  - The data should come from a process where samples are randomly selected.\n",
        "- Independence\n",
        "  - Observations in the sample must be independent of each other.\n",
        "- Sample Size Is Sufficiently Large\n",
        "  - A larger sample size makes the CLT kick in more reliably."
      ],
      "metadata": {
        "id": "uY96yE6451NW"
      }
    },
    {
      "cell_type": "markdown",
      "source": [
        "22. What is the concept of expected value in a probability distribution?\n",
        "- The expected value (EV) is the average outcome you'd expect if you repeated a random experiment many times.\n",
        "\n",
        "- It doesn’t predict a single result , instead, it tells you what outcome you'd expect on average."
      ],
      "metadata": {
        "id": "9vERmZbg6Pwd"
      }
    },
    {
      "cell_type": "markdown",
      "source": [
        "23.  How does a probability distribution relate to the expected outcome of a random variable?\n",
        "\n",
        "- A random variable represents possible outcomes of a random process (e.g., number rolled on a die).\n",
        "\n",
        "- A probability distribution tells you how likely each outcome is.\n",
        "\n",
        "- The expected value is the average outcome you’d expect over many repetitions of the random process , and it’s calculated using the probability distribution."
      ],
      "metadata": {
        "id": "-O5vnw5t6eB4"
      }
    }
  ]
}