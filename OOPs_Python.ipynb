{
  "nbformat": 4,
  "nbformat_minor": 0,
  "metadata": {
    "colab": {
      "provenance": []
    },
    "kernelspec": {
      "name": "python3",
      "display_name": "Python 3"
    },
    "language_info": {
      "name": "python"
    }
  },
  "cells": [
    {
      "cell_type": "markdown",
      "source": [
        "# **OOPs Assigment** - Theoretical Questions"
      ],
      "metadata": {
        "id": "hUHPpnbyrt1J"
      }
    },
    {
      "cell_type": "markdown",
      "source": [
        "1. **What is Object-Oriented Programming (OOP) ?**\n",
        "\n",
        "- **Object Oriented Programming** is a style of programming which helps incraseing **Modularity** of our code/program.\n",
        "- It mainly helps in keeping code bases **Organised and Well Maintained**.\n",
        "- OOP extends or elevates the functionality of regular **Python POP (Procedural Oriented Programming)** with the help of **Classes** & **Objects**."
      ],
      "metadata": {
        "id": "qIMwN2Rer-f4"
      }
    },
    {
      "cell_type": "markdown",
      "source": [
        "2. **What is a class in OOP ?**\n",
        "- In Object-Oriented Programming (OOP), a **class** is like a **blueprint** or template for creating **objects**.\n",
        "- A class is the general idea f what an object should have (**attributes** ) and what it does (**methods**).\n",
        "- You can create many **objects** from the same class, each with its attributes.\n"
      ],
      "metadata": {
        "id": "LFmZBrqHtRj5"
      }
    },
    {
      "cell_type": "markdown",
      "source": [
        "3.  **What is an object in OOP ?**\n",
        "- An object is an **instance** of a class.\n",
        "- If **class** is a blueprint then **Object** is the  actual thing you build from that blueprint.\n",
        "- **Example :** Each Car is a blueprint of a class but every car object has its own attributes (Colour , Model etc..)."
      ],
      "metadata": {
        "id": "lqCX40CquDLB"
      }
    },
    {
      "cell_type": "markdown",
      "source": [
        "4. **What is the difference between abstraction and encapsulation ?**\n",
        "- **Abstraction** is nothing but  **Hiding complex detai**ls, showing only essential features.\n",
        "- Example : How websites show the UI without the complex backend that's going behind.\n",
        "- **Encapsulation** means  **bundling data , methods together, restricting direct access** to some parts.\n",
        "- Example : Your Bank balance can only be accessed by you as it's private for you , Nobody else can access your private variable (Bank Balance)."
      ],
      "metadata": {
        "id": "P2m3yYQ2uxOZ"
      }
    },
    {
      "cell_type": "markdown",
      "source": [
        "5. **What are dunder methods in Python ?**\n",
        "\n",
        "- **Dunder** is a short form for **Double Under Score**.\n",
        "- **Special methods** with double underscores (eg...\\_\\_init_\\_, \\_\\_str__).\n",
        "- They are the methods for builtin functionalities of Python.\n",
        "- Example : \\_\\_len__ is a built-in method written by  python developers which we simply call as len( )."
      ],
      "metadata": {
        "id": "9QGbEwy7v_q5"
      }
    },
    {
      "cell_type": "markdown",
      "source": [
        "6. **Explain the concept of inheritance in OOP ?**\n",
        "\n",
        "- **One class (child)** inherits properties and methods from **another (parent)**.\n",
        "\n",
        "- Helps in **Reusing** code and **Maintaining Relationships** between classes.\n",
        "\n",
        "- There are mutiple types of Inheritence supported by Python :\n",
        "  - Single Inheritence\n",
        "  - Multiple\n",
        "  - Multilevel\n",
        "  - Hybrid\n",
        "  - Heriarchial"
      ],
      "metadata": {
        "id": "k3Um1V3IwId5"
      }
    },
    {
      "cell_type": "markdown",
      "source": [
        "7.  **What is polymorphism in OOP ?**\n",
        "\n",
        "- Poly --> Many , Morphism --> Forms\n",
        "- Objects of different classes can be treated as if they were od same type.\n",
        "- Example : A **FLY method inside pigeon** class can be have same name as a **FLY method inside parrot** class.\n",
        "- But both can have different fuctionality(Same Name But Different Forms)."
      ],
      "metadata": {
        "id": "TH_hkBwxyfVB"
      }
    },
    {
      "cell_type": "markdown",
      "source": [
        "8. **How is encapsulation achieved in Python ?**\n",
        "- Encapsulation is achieved in Python using **Private Variables & Private Methods.**\n",
        "- **Protected Variables** and **Protected Methods** can also be acheived but not used quite often.\n",
        "- Private Variables and Methods are declared using an '_' infront of them.\n"
      ],
      "metadata": {
        "id": "3sIhb3f30JW6"
      }
    },
    {
      "cell_type": "markdown",
      "source": [
        "9. **What is a constructor in Python ?**\n",
        "- **\\_\\_init__** is called as **Contructor in Python**.\n",
        "- Its called constructor because it's the **first method that gets executed** as soon as an Object of a Class is Instantiated.\n",
        "- Used to **initialize object attributes**."
      ],
      "metadata": {
        "id": "GftK3I7Z1C8K"
      }
    },
    {
      "cell_type": "markdown",
      "source": [
        "10. **What are class and static methods in Python ?**\n",
        "- **Static methods** are those methods of a class which doesn't need any instances to access them.\n",
        "- They can be access directly using class name.Labelled as  **@staticmethod**\n",
        "- **Class methods** are somewhat similar to static methods in terms of accesibility via class not by instance.\n",
        "- They can also be accessed directly using class name. Labelled as **@classmethod**"
      ],
      "metadata": {
        "id": "Og3mk4AU1j0a"
      }
    },
    {
      "cell_type": "markdown",
      "source": [
        "11. **What is method overloading in Python ?**\n",
        "\n",
        "- **Method Overloading** means defining **multiple methods with the same name** but **different amount of parameters.**\n",
        "- **Python does not support traditional method overloading** like other programming languages.\n",
        "- In python if you define multiple methods with the same name, the last one will overwrite the previous ones.\n",
        "- So we use * args and ** kwargs to acheive method overloading."
      ],
      "metadata": {
        "id": "vUGvbzAi3adL"
      }
    },
    {
      "cell_type": "markdown",
      "source": [
        "12. **What is method overriding in OOP ?**\n",
        "- In python if you define **multiple methods with the same name**, the last one will overwrite the previous ones.\n",
        "- A child class provides its own method that is already defined in the parent class then the child calss method will **override** the parent class method.\n",
        "-  You can call the method on a parent reference, but the child’s version runs."
      ],
      "metadata": {
        "id": "yq0uBwv14sPU"
      }
    },
    {
      "cell_type": "markdown",
      "source": [
        "13. **What is a property decorator in Python ?**\n",
        "-  **property decorator (@property)** is used to define getter methods in classes.\n",
        "- It allow us to access **getter method**s as attributes , no need to call them like usual methods.\n",
        "- It helps in **encapsulation of private attributes** and still lets us access private variables via **getter method.**"
      ],
      "metadata": {
        "id": "bx-3EJqq5cHa"
      }
    },
    {
      "cell_type": "markdown",
      "source": [
        "14. **Why is polymorphism important in OOP?**\n",
        "- **Polymorphism** is important because it allows **objects** of **different classes** to be treated as objects of a common superclass.\n",
        "- Example : The pigeon class which had a method called FLY and also The Parrot class which also had the same method FLY , now an object calling the same method can have 2 different functionalities (**Same name but different Functionalities**) based on the objects class."
      ],
      "metadata": {
        "id": "x6TAOlpkfZvH"
      }
    },
    {
      "cell_type": "markdown",
      "source": [
        "15. **What is an abstract class in Python ?**\n",
        "- An **abstract class** in Python is a class that **cannot be directly instantiated**.\n",
        "-  It acts as **blueprint for other child classes.**\n",
        "- Example : A shape class must have a method to calculate **Area** and we create one Area Method in the Parent class and force sub class to have the same method."
      ],
      "metadata": {
        "id": "3YvsslY8hV-n"
      }
    },
    {
      "cell_type": "markdown",
      "source": [
        "16. What are the advantages of OOP?\n",
        "- OOP helps in keeping code bases **Organised and Well Maintained**.\n",
        "- Increases **modularrity** by taking away **POP** style or programming.\n",
        "- Changes and Modification can be done very easily."
      ],
      "metadata": {
        "id": "QsQlPVbKiiJJ"
      }
    },
    {
      "cell_type": "markdown",
      "source": [
        "17. **What is the difference between a class variable and an instance variable?**\n",
        "- **Instance Variable**\n",
        "  - Belongs to an object (an instance of the class).\n",
        "  - Each object has its own copy of the variable.\n",
        "  - Defined using self.variable_name inside methods.\n",
        "- **Class Variable**\n",
        "  - Belongs to the class itself, not to any one object.\n",
        "  - Shared by all instances of the class."
      ],
      "metadata": {
        "id": "gsJxtH9DjE9w"
      }
    },
    {
      "cell_type": "markdown",
      "source": [
        "18. **What is multiple inheritance in Python?**\n",
        "- **Multiple inheritance** means a class can inherit from more than one parent class.\n",
        "- This allows the child class to access **features from multiple classes.**\n",
        "- Combines functionality from multiple sources"
      ],
      "metadata": {
        "id": "zIwGYA4GjrqQ"
      }
    },
    {
      "cell_type": "markdown",
      "source": [
        "19. **Explain the purpose of \\_\\_str__ and \\_\\_repr__ methods in Python?**\n",
        "-  **\\_\\_str__** is used to return a nice, **readable string version of the objec**t\n",
        "- This is how an object is presented using str **\"Hi, I'm Alex, your guide today\"**\n",
        "- **\\_\\_repr__** is **used by developers** to know  how the object was exactly when it was instantiated.\n",
        "- This is how an object is presented using repr **\"Person(name='Alex', id=1024, age=30)\"**"
      ],
      "metadata": {
        "id": "wdrbPNrVnGN_"
      }
    },
    {
      "cell_type": "markdown",
      "source": [
        "20. **What is the significance of the ‘super()’ function in Python?**\n",
        "\n",
        "- In Python **super( )** is used to call methods of a parent class from a child class.\n",
        "- Its helps in overcoming the problem of **Method Overrifing.**\n",
        "- Mostly seen used when there is **mutiple inheritence**."
      ],
      "metadata": {
        "id": "P0BsuZULpT1X"
      }
    },
    {
      "cell_type": "markdown",
      "source": [
        "21.**What is the significance of the __del__ method in Python?**\n",
        "- The **\\_\\_del__** method is a special method in Python that is called when we want to **delete an object** that is created.\n",
        "- But python uses **Grabage Collection** so you don't have to manually do that.\n",
        "- Usually seen when using **File Handling** ..(The Object used for opening a file will often be deleted using **\\_\\_del__** method)"
      ],
      "metadata": {
        "id": "8q5ckivep88I"
      }
    },
    {
      "cell_type": "markdown",
      "source": [
        "22. **What is the difference between @staticmethod and @classmethod in Python?**\n",
        "- @**staticmethod** beahves just like a regular function but which is inside a class.\n",
        "  - **No need to pass cls or self** as firts argument when calling.\n",
        "  - Cannot access any type of attributes of the class or instance.\n",
        "- @**classmethod** behaves similarly to static methods but can access class variables.\n",
        "  - Cannot access instance variables.\n",
        "  - Takes **cls** as the first argument."
      ],
      "metadata": {
        "id": "8YDepU10rAvB"
      }
    },
    {
      "cell_type": "markdown",
      "source": [
        "23. **How does polymorphism work in Python with inheritance.**\n",
        "\n",
        "- **Subclasses override** methods from the parent class.\n",
        "- This is called** Method Overriding** which show the same functionality like **polymorphic methods.**\n",
        "- Same names but different functionalities with respect to from  where they are getting called."
      ],
      "metadata": {
        "id": "jTpbiW1GsjU6"
      }
    },
    {
      "cell_type": "markdown",
      "source": [
        "24. **What is method chaining in Python OOP?**\n",
        "- **Calling multiple methods** in a single line, one after another.\n",
        "- **obj.method1().method2().method3()**\n",
        "- Helps write more **readable** code."
      ],
      "metadata": {
        "id": "55vegczwuKdJ"
      }
    },
    {
      "cell_type": "markdown",
      "source": [
        "25. **What is the purpose of the \\_\\_call__ method in Python?**\n",
        "- Makes an object **callable** like a function.\n",
        "- We can **add custom behavior** when the object is used like a function.\n",
        "- Useful for creating **function-like objects**"
      ],
      "metadata": {
        "id": "07Y0uE1xuo2N"
      }
    },
    {
      "cell_type": "markdown",
      "source": [
        "# **OOPs Practical Questions**"
      ],
      "metadata": {
        "id": "5Yinyso2ymhd"
      }
    },
    {
      "cell_type": "code",
      "source": [
        "# 1. Create a parent class Animal with a method speak() that prints a generic message. Create a child class Dog\n",
        "#that overrides the speak() method to print \"Bark!\".\n",
        "\n",
        "class Animal:\n",
        "  def speak(self):\n",
        "    print(\"This the Parent Class Methods\")\n",
        "\n",
        "class Dog(Animal):\n",
        "  def speak(self):\n",
        "    print(\"Child Class Method ...Bark!\")\n",
        "\n",
        "\n",
        "obj = Dog()\n",
        "obj.speak()"
      ],
      "metadata": {
        "colab": {
          "base_uri": "https://localhost:8080/"
        },
        "id": "p9ojOaolyltA",
        "outputId": "c06834fc-dabb-446f-87e2-1891d48a8e84"
      },
      "execution_count": null,
      "outputs": [
        {
          "output_type": "stream",
          "name": "stdout",
          "text": [
            "Child Class Method ...Bark!\n"
          ]
        }
      ]
    },
    {
      "cell_type": "code",
      "source": [
        "# 2. Write a program to create an abstract class Shape with a method area(). Derive classes Circle and Rectangle\n",
        "#from it and implement the area() method in both.\n",
        "\n",
        "from abc import ABC, abstractmethod\n",
        "import math\n",
        "\n",
        "class Shape(ABC):\n",
        "    @abstractmethod\n",
        "    def area(self):\n",
        "        pass\n",
        "\n",
        "class Circle(Shape):\n",
        "    def __init__(self, radius):\n",
        "        self.radius = radius\n",
        "\n",
        "    def area(self):\n",
        "        return math.pi * self.radius**2\n",
        "\n",
        "class Rectangle(Shape):\n",
        "    def __init__(self, length, width):\n",
        "        self.length = length\n",
        "        self.width = width\n",
        "\n",
        "    def area(self):\n",
        "        return self.length * self.width\n",
        "\n",
        "\n",
        "circle = Circle(5)\n",
        "rectangle = Rectangle(4, 6)\n",
        "\n",
        "print(circle.area())\n",
        "print(rectangle.area())"
      ],
      "metadata": {
        "colab": {
          "base_uri": "https://localhost:8080/"
        },
        "id": "QsMT4mTPz0zG",
        "outputId": "d8411d10-f50a-4a15-afea-54877ba3f2a5"
      },
      "execution_count": null,
      "outputs": [
        {
          "output_type": "stream",
          "name": "stdout",
          "text": [
            "78.53981633974483\n",
            "24\n"
          ]
        }
      ]
    },
    {
      "cell_type": "code",
      "source": [
        "#3. Implement a multi-level inheritance scenario where a class Vehicle has an attribute type. Derive a class Car\n",
        "#and further derive a class ElectricCar that adds a battery attribute.\n",
        "class Vehicle:\n",
        "\n",
        "  def __init__(self , vehicle_type):\n",
        "    self.vehicle_type = vehicle_type\n",
        "\n",
        "  def display_type(self):\n",
        "\n",
        "    print(self.vehicle_type)\n",
        "\n",
        "class Car(Vehicle):\n",
        "  def __init__(self ,vehicle_type, brand):\n",
        "    super().__init__(vehicle_type)\n",
        "    self.brand = brand\n",
        "\n",
        "  def display(self):\n",
        "    print(f\"Type : {self.vehicle_type} , Brand : {self.brand}\")\n",
        "\n",
        "class ElectricCar(Car):\n",
        "\n",
        "  def __init__(self , vehicle_type , brand , battery):\n",
        "\n",
        "    super().__init__(vehicle_type , brand)\n",
        "    self.battery = battery\n",
        "\n",
        "  def display(self):\n",
        "\n",
        "    print(f\"Type : {self.vehicle_type} , Brand : {self.brand} , Battery : {self.battery}\")\n",
        "\n",
        "\n",
        "\n",
        "obj = ElectricCar(\"4_Wheeler\" , \"Tesla\" , \"Lithium\")\n",
        "\n",
        "obj.display()"
      ],
      "metadata": {
        "id": "iir-NDoy1L4e",
        "colab": {
          "base_uri": "https://localhost:8080/"
        },
        "outputId": "e9c4e7b0-fdcc-42a6-d00b-4dad1022cf50"
      },
      "execution_count": 2,
      "outputs": [
        {
          "output_type": "stream",
          "name": "stdout",
          "text": [
            "Type : 4_Wheeler , Brand : Tesla , Battery : Lithium\n"
          ]
        }
      ]
    },
    {
      "cell_type": "code",
      "source": [
        "# 4. Demonstrate polymorphism by creating a base class Bird with a method fly(). Create two derived classes\n",
        "# Sparrow and Penguin that override the fly() method.\n",
        "\n",
        "class Bird:\n",
        "\n",
        "  def fly(self):\n",
        "    print(\"Bird Class Flying\")\n",
        "\n",
        "class Sparrow(Bird):\n",
        "\n",
        "  def fly(self):\n",
        "    print(\"Sparow Is Flying\")\n",
        "\n",
        "class Penguin(Bird):\n",
        "\n",
        "  def fly(self):\n",
        "\n",
        "    print(\"Penguin Is Flying\")\n",
        "\n",
        "obj1 = Sparrow()\n",
        "\n",
        "obj2 = Penguin()\n",
        "\n",
        "obj1.fly()\n",
        "obj2.fly()\n"
      ],
      "metadata": {
        "colab": {
          "base_uri": "https://localhost:8080/"
        },
        "id": "RVwpCQZaIlKw",
        "outputId": "d6f31f9b-8b4a-4eb5-ce64-efbf1f19bc01"
      },
      "execution_count": 3,
      "outputs": [
        {
          "output_type": "stream",
          "name": "stdout",
          "text": [
            "Sparow Is Flying\n",
            "Penguin Is Flying\n"
          ]
        }
      ]
    },
    {
      "cell_type": "code",
      "source": [
        "#5. Write a program to demonstrate encapsulation by creating a class BankAccount with private attributes\n",
        "# balance and methods to deposit, withdraw, and check balance\n",
        "\n",
        "class BankAccount:\n",
        "\n",
        "  def __init__(self , initial_balance = 0):\n",
        "\n",
        "    self.__balance = initial_balance\n",
        "\n",
        "  def deposit(self , amount):\n",
        "\n",
        "    self.__balance += amount\n",
        "\n",
        "    print(\"Amount Has Been Successfully Deposited\")\n",
        "\n",
        "  def withdraw(self, amount):\n",
        "\n",
        "    if self.__balance >= amount:\n",
        "\n",
        "      self.__balance -= amount\n",
        "\n",
        "      print(\"Successfull Withdrawl\")\n",
        "\n",
        "    else:\n",
        "      print(\"No Sufficient Amount To Withdraw\")\n",
        "\n",
        "  def display_balance(self):\n",
        "\n",
        "    print(f\"Here is Your Balance : {self.__balance}\")\n",
        "\n",
        "\n",
        "\n",
        "user = BankAccount()\n",
        "\n",
        "user.deposit(1000)\n",
        "\n",
        "user.withdraw(1200)\n",
        "user.withdraw(800)\n",
        "\n",
        "user.display_balance()"
      ],
      "metadata": {
        "colab": {
          "base_uri": "https://localhost:8080/"
        },
        "id": "-BuWDOnEJvCr",
        "outputId": "0c47cb16-df77-4340-ad5a-d0b4ee76f8db"
      },
      "execution_count": 5,
      "outputs": [
        {
          "output_type": "stream",
          "name": "stdout",
          "text": [
            "Amount Has Been Successfully Deposited\n",
            "No Sufficient Amount To Withdraw\n",
            "Successfull Withdrawl\n",
            "Here is Your Balance : 200\n"
          ]
        }
      ]
    },
    {
      "cell_type": "code",
      "source": [
        "#6. Demonstrate runtime polymorphism using a method play() in a base class Instrument. Derive classes Guitar\n",
        "# and Piano that implement their own version of play().\n",
        "\n",
        "class Instrument:\n",
        "\n",
        "  def play(self):\n",
        "    print(\"Base Class Playing\")\n",
        "\n",
        "class Guitar(Instrument):\n",
        "\n",
        "  def play(self):\n",
        "\n",
        "    print(\"Playing Guitar\")\n",
        "\n",
        "class Piano(Instrument):\n",
        "\n",
        "  def play(self):\n",
        "\n",
        "    print(\"Playing Piano\")\n",
        "\n",
        "\n",
        "def play(instrument):\n",
        "\n",
        "  return instrument.play()\n",
        "\n",
        "\n",
        "list_of_instruments = [Instrument(), Piano() , Guitar()]\n",
        "\n",
        "for i in list_of_instruments:\n",
        "\n",
        "  play(i)\n"
      ],
      "metadata": {
        "colab": {
          "base_uri": "https://localhost:8080/"
        },
        "id": "f2JYwYoOLouy",
        "outputId": "c195a52c-8d24-4e46-c60a-e70f0b7d474e"
      },
      "execution_count": 7,
      "outputs": [
        {
          "output_type": "stream",
          "name": "stdout",
          "text": [
            "Base Class Playing\n",
            "Playing Piano\n",
            "Playing Guitar\n"
          ]
        }
      ]
    },
    {
      "cell_type": "code",
      "source": [
        "#7. Create a class MathOperations with a class method add_numbers() to add two numbers and a static\n",
        "# method subtract_numbers() to subtract two numbers.\n",
        "\n",
        "class MathOperations:\n",
        "\n",
        "  COUNT = 0\n",
        "\n",
        "  @classmethod\n",
        "  def add_numbers(cls , a ,b):\n",
        "\n",
        "    sum_of_numbers = a+b\n",
        "    cls.COUNT += sum_of_numbers\n",
        "\n",
        "    print(f\"Sum Of These Numbers Is {sum_of_numbers} , Total = {cls.COUNT}\")\n",
        "\n",
        "\n",
        "\n",
        "  @staticmethod\n",
        "  def subtract_numbers(a, b):\n",
        "\n",
        "    print(f\"Difference of numbers : {a-b}\")\n",
        "\n",
        "\n",
        "obj = MathOperations()\n",
        "\n",
        "obj.add_numbers(1,2)    # Can access Class Level Attributes\n",
        "\n",
        "MathOperations.subtract_numbers(10,3)  # Can be called using class method\n",
        "\n",
        "obj.add_numbers(4,5)"
      ],
      "metadata": {
        "colab": {
          "base_uri": "https://localhost:8080/"
        },
        "id": "KbmtV09dNxK0",
        "outputId": "0dea9931-6c5e-47cf-f339-7236f92b0d2f"
      },
      "execution_count": 14,
      "outputs": [
        {
          "output_type": "stream",
          "name": "stdout",
          "text": [
            "Sum Of These Numbers Is 3 , Total = 3\n",
            "Difference of numbers : 7\n",
            "Sum Of These Numbers Is 9 , Total = 12\n"
          ]
        }
      ]
    },
    {
      "cell_type": "code",
      "source": [
        "# 8.  Implement a class Person with a class method to count the total number of persons created.\n",
        "\n",
        "class Person:\n",
        "\n",
        "  people_count = 0\n",
        "\n",
        "  def __init__(self ,name):\n",
        "\n",
        "    self.name = name\n",
        "\n",
        "    self.__class__.increment()\n",
        "\n",
        "  @classmethod\n",
        "\n",
        "  def increment(cls):\n",
        "\n",
        "    cls.people_count+=1\n",
        "\n",
        "    print(f\"These many people were added till now along with you {cls.people_count}\")\n",
        "\n",
        "\n",
        "\n",
        "\n",
        "obj1 = Person(\"Abc\")\n",
        "obj2 = Person(\"Abcd\")\n",
        "obj3 = Person(\"Abcde\")\n",
        "\n",
        "Person.increment()\n",
        "\n"
      ],
      "metadata": {
        "colab": {
          "base_uri": "https://localhost:8080/"
        },
        "id": "wmBdrWlhQCFy",
        "outputId": "26126f64-d931-43a4-b786-4bce4d678a46"
      },
      "execution_count": 18,
      "outputs": [
        {
          "output_type": "stream",
          "name": "stdout",
          "text": [
            "These many people were added till now along with you 1\n",
            "These many people were added till now along with you 2\n",
            "These many people were added till now along with you 3\n",
            "These many people were added till now along with you 4\n"
          ]
        }
      ]
    },
    {
      "cell_type": "code",
      "source": [
        "#9. Write a class Fraction with attributes numerator and denominator. Override the str method to display the\n",
        "# fraction as \"numerator/denominator\".\n",
        "class Fraction:\n",
        "\n",
        "  def __init__(self, numerator , denominator):\n",
        "\n",
        "    self.numerator = numerator\n",
        "\n",
        "    self.denominator = denominator\n",
        "\n",
        "  def __str__(self):\n",
        "\n",
        "    return f\"{self.numerator}/{self.denominator}\"\n",
        "\n",
        "  # def without_str(self):\n",
        "\n",
        "  #   return f\"{self.numerator}/{self.denominator}\"   # Uncomment this and comment the __str__ method to see what happens without __str__\n",
        "\n",
        "\n",
        "\n",
        "obj1 = Fraction(3,4)\n",
        "\n",
        "print(obj1)\n",
        "\n"
      ],
      "metadata": {
        "colab": {
          "base_uri": "https://localhost:8080/"
        },
        "id": "WOp55sjxR2EZ",
        "outputId": "c1ce9878-2b2c-4df9-d91a-573a31414b8e"
      },
      "execution_count": 21,
      "outputs": [
        {
          "output_type": "stream",
          "name": "stdout",
          "text": [
            "<__main__.Fraction object at 0x799069b59ed0>\n"
          ]
        }
      ]
    },
    {
      "cell_type": "code",
      "source": [
        "# 10.  Demonstrate operator overloading by creating a class Vector and overriding the add method to add two\n",
        "#vectors.\n",
        "class Vector:\n",
        "\n",
        "  def __init__(self , x ,y):\n",
        "\n",
        "    self.x = x\n",
        "    self.y = y\n",
        "\n",
        "  def __add__(self , other):\n",
        "\n",
        "    return Vector(self.x + other.x , self.y+other.y)\n",
        "\n",
        "  def __str__(self):\n",
        "\n",
        "    return f\"{self.x} , {self.y}\"\n",
        "\n",
        "\n",
        "v1 = Vector(1,2)\n",
        "v2 = Vector(3,4)\n",
        "\n",
        "v3 = v1+v2\n",
        "\n",
        "print(f\"v1 : {v1}\")\n",
        "print(f\"v2 : {v2}\")\n",
        "print(f\"v3 : {v3}\")"
      ],
      "metadata": {
        "colab": {
          "base_uri": "https://localhost:8080/"
        },
        "id": "FcuhNYSTYlEt",
        "outputId": "fe8f9800-7cd2-436f-ceef-350f243ea4bf"
      },
      "execution_count": 23,
      "outputs": [
        {
          "output_type": "stream",
          "name": "stdout",
          "text": [
            "v1 : 1 , 2\n",
            "v2 : 3 , 4\n",
            "v3 : 4 , 6\n"
          ]
        }
      ]
    },
    {
      "cell_type": "code",
      "source": [
        "#11. Create a class Person with attributes name and age. Add a method greet() that prints \"Hello, my name is\n",
        "#{name} and I am {age} years old.\"\n",
        "\n",
        "class Person:\n",
        "\n",
        "  def __init__(self , name , age):\n",
        "\n",
        "    self.name = name\n",
        "\n",
        "    self.age = age\n",
        "\n",
        "  def greet(self):\n",
        "\n",
        "    print(f\"Hello , my name is {self.name} and I am {self.age} years old\")\n",
        "\n",
        "\n",
        "user = Person(\"Abc\", 20)\n",
        "user.greet()"
      ],
      "metadata": {
        "colab": {
          "base_uri": "https://localhost:8080/"
        },
        "id": "vzWX-5wAaNEE",
        "outputId": "3a68f85c-de64-4689-d345-114b3896d6cc"
      },
      "execution_count": 24,
      "outputs": [
        {
          "output_type": "stream",
          "name": "stdout",
          "text": [
            "Hello , my name is Abc and I am 20 years old\n"
          ]
        }
      ]
    },
    {
      "cell_type": "code",
      "source": [
        "#12. Implement a class Student with attributes name and grades. Create a method average_grade() to compute\n",
        "# the average of the grades.\n",
        "\n",
        "class Student:\n",
        "  def __init__(self, name, grades):\n",
        "\n",
        "    self.name = name\n",
        "\n",
        "    self.grades = grades\n",
        "\n",
        "  def average_grade(self):\n",
        "\n",
        "    if not self.grades:\n",
        "\n",
        "      return 0\n",
        "\n",
        "    return sum(self.grades) / len(self.grades)\n",
        "\n",
        "std1 = Student(\"Abc\" , [90 ,92,85,86])\n",
        "\n",
        "print(std1.average_grade())"
      ],
      "metadata": {
        "colab": {
          "base_uri": "https://localhost:8080/"
        },
        "id": "XbUSiUjsazl7",
        "outputId": "d6f28626-8243-4532-e673-6efed2db463f"
      },
      "execution_count": 26,
      "outputs": [
        {
          "output_type": "stream",
          "name": "stdout",
          "text": [
            "88.25\n"
          ]
        }
      ]
    },
    {
      "cell_type": "code",
      "source": [
        "#13. Create a class Rectangle with methods set_dimensions() to set the dimensions and area() to calculate the\n",
        "# area.\n",
        "\n",
        "class Rectangle:\n",
        "\n",
        "  def __init__(self):\n",
        "\n",
        "    self.__l = 0\n",
        "    self.__b = 0\n",
        "\n",
        "  def set_dimensions(self , x , y):\n",
        "\n",
        "    self.__l = x\n",
        "\n",
        "    self.__b = y\n",
        "\n",
        "  def area(self):\n",
        "\n",
        "    return f\"Area Of The Rectangle : {self.__l * self.__b}\"\n",
        "\n",
        "\n",
        "rect1 = Rectangle()\n",
        "\n",
        "rect1.set_dimensions(2,3)\n",
        "\n",
        "print(rect1.area())"
      ],
      "metadata": {
        "colab": {
          "base_uri": "https://localhost:8080/"
        },
        "id": "u7b-usvWbgHx",
        "outputId": "944816e1-2d14-468c-deb6-6ad559416e53"
      },
      "execution_count": 31,
      "outputs": [
        {
          "output_type": "stream",
          "name": "stdout",
          "text": [
            "Area Of The Rectangle : 6\n"
          ]
        }
      ]
    },
    {
      "cell_type": "code",
      "source": [
        "#14. Create a class Employee with a method calculate_salary() that computes the salary based on hours worked\n",
        "# and hourly rate. Create a derived class Manager that adds a bonus to the salary.\n",
        "\n",
        "class Employee:\n",
        "\n",
        "  Hourly_Rate = 200\n",
        "\n",
        "  def __init__(self, hours_worked):\n",
        "\n",
        "    self.hours_worked = hours_worked\n",
        "\n",
        "    self.salary = 0\n",
        "\n",
        "  def calculate_salary(self):\n",
        "\n",
        "    self.salary = self.hours_worked * self.Hourly_Rate\n",
        "\n",
        "    return self.salary\n",
        "\n",
        "\n",
        "class Manager(Employee):\n",
        "\n",
        "  def __init__(self, hours_worked):\n",
        "\n",
        "    super().__init__(hours_worked)\n",
        "\n",
        "    self.bonus = 1000\n",
        "\n",
        "  def final_salary(self):\n",
        "\n",
        "    base_salary = self.calculate_salary()\n",
        "\n",
        "    return base_salary + self.bonus\n",
        "\n",
        "\n",
        "emp = Manager(20)\n",
        "\n",
        "print(f\"Final Salary (with bonus): {emp.final_salary()}\")\n"
      ],
      "metadata": {
        "colab": {
          "base_uri": "https://localhost:8080/"
        },
        "id": "0iMMOCDKbbie",
        "outputId": "137d1002-3b6e-473c-a199-91242c0908e6"
      },
      "execution_count": 40,
      "outputs": [
        {
          "output_type": "stream",
          "name": "stdout",
          "text": [
            "Final Salary (with bonus): 5000\n"
          ]
        }
      ]
    },
    {
      "cell_type": "code",
      "source": [
        "# 15. Create a class Product with attributes name, price, and quantity. Implement a method total_price() that\n",
        "# calculates the total price of the product.\n",
        "\n",
        "class Product:\n",
        "\n",
        "  def __init__(self, name, price, quantity):\n",
        "\n",
        "    self.name = name\n",
        "\n",
        "    self.price = price\n",
        "\n",
        "    self.quantity = quantity\n",
        "\n",
        "  def total_price(self):\n",
        "\n",
        "    return self.price * self.quantity\n",
        "\n",
        "  def display_price(self):\n",
        "\n",
        "    return f\"Product: {self.name}, Unit Price: {self.price}, Quantity: {self.quantity}, Total Price: {self.total_price()}\"\n",
        "\n",
        "\n",
        "# Example usage\n",
        "p1 = Product(\"Laptop\", 1000, 2)\n",
        "\n",
        "print(p1.display_price())"
      ],
      "metadata": {
        "colab": {
          "base_uri": "https://localhost:8080/"
        },
        "id": "5EMWVRjagetc",
        "outputId": "fb646236-b72a-4604-c73c-14ea561b3eee"
      },
      "execution_count": 41,
      "outputs": [
        {
          "output_type": "stream",
          "name": "stdout",
          "text": [
            "Product: Laptop, Unit Price: 1000, Quantity: 2, Total Price: 2000\n"
          ]
        }
      ]
    },
    {
      "cell_type": "code",
      "source": [
        "# 16. Create a class Animal with an abstract method sound(). Create two derived classes Cow and Sheep that\n",
        "# implement the sound() method.\n",
        "from abc import ABC , abstractmethod\n",
        "\n",
        "class Animal(ABC):\n",
        "\n",
        "  @abstractmethod\n",
        "\n",
        "  def sound(self):\n",
        "\n",
        "    print(\"Abstract Method\")\n",
        "\n",
        "class Cow(Animal):\n",
        "\n",
        "  def sound(self):\n",
        "\n",
        "    print(\"Cow Class\")\n",
        "\n",
        "class Sheep(Animal):\n",
        "\n",
        "  def sound(self):\n",
        "\n",
        "    print(\"Sheep Class\")\n",
        "\n",
        "\n",
        "cow = Cow()\n",
        "sheep = Sheep()\n",
        "\n",
        "cow.sound()   # Overrides Parent Method\n",
        "sheep.sound()"
      ],
      "metadata": {
        "colab": {
          "base_uri": "https://localhost:8080/"
        },
        "id": "64kLA_vuhB6b",
        "outputId": "8048dfbb-98e2-45e3-d950-d7954a11a9b4"
      },
      "execution_count": 46,
      "outputs": [
        {
          "output_type": "stream",
          "name": "stdout",
          "text": [
            "Cow Class\n",
            "Sheep Class\n"
          ]
        }
      ]
    },
    {
      "cell_type": "code",
      "source": [
        "#17. Create a class Book with attributes title, author, and year_published. Add a method get_book_info() that\n",
        "# returns a formatted string with the book's details.\n",
        "\n",
        "class Book:\n",
        "\n",
        "  def __init__(self, title, author, year_published):\n",
        "\n",
        "    self.title = title\n",
        "\n",
        "    self.author = author\n",
        "\n",
        "    self.year_published = year_published\n",
        "\n",
        "  def get_book_info(self):\n",
        "\n",
        "    return f\"{self.title} by {self.author}, published in {self.year_published}.\"\n",
        "\n",
        "\n",
        "book1 = Book(\"XYZ\" , \"Abc\",2025 )\n",
        "\n",
        "\n",
        "print(book1.get_book_info())"
      ],
      "metadata": {
        "colab": {
          "base_uri": "https://localhost:8080/"
        },
        "id": "PGm60IuCiPWP",
        "outputId": "fd68ccd8-931e-4109-b652-5c961a4c4a53"
      },
      "execution_count": 48,
      "outputs": [
        {
          "output_type": "stream",
          "name": "stdout",
          "text": [
            "XYZ by Abc, published in 2025.\n"
          ]
        }
      ]
    },
    {
      "cell_type": "code",
      "source": [
        "#18. Create a class House with attributes address and price. Create a derived class Mansion that adds an\n",
        "# attribute number_of_rooms.\n",
        "class House:\n",
        "  def __init__(self, address, price):\n",
        "\n",
        "    self.address = address\n",
        "\n",
        "    self.price = price\n",
        "\n",
        "  def get_info(self):\n",
        "\n",
        "    return f\"Address: {self.address}, Price: {self.price}\"\n",
        "\n",
        "\n",
        "class Mansion(House):\n",
        "\n",
        "  def __init__(self, address, price, number_of_rooms):\n",
        "\n",
        "    super().__init__(address, price)\n",
        "\n",
        "    self.number_of_rooms = number_of_rooms\n",
        "\n",
        "  def get_info(self):\n",
        "\n",
        "    return f\"{super().get_info()}, Number of Rooms: {self.number_of_rooms}\"\n",
        "\n",
        "\n",
        "house = House(\"123 Main St\", 250000)\n",
        "mansion = Mansion(\"456 Grand Ave\", 2000000, 12)\n",
        "\n",
        "print(house.get_info())\n",
        "print(mansion.get_info())\n"
      ],
      "metadata": {
        "colab": {
          "base_uri": "https://localhost:8080/"
        },
        "id": "1w8iz5RIiZP7",
        "outputId": "6d864488-262c-441a-b461-93a025e35e0b"
      },
      "execution_count": 50,
      "outputs": [
        {
          "output_type": "stream",
          "name": "stdout",
          "text": [
            "Address: 123 Main St, Price: 250000\n",
            "Address: 456 Grand Ave, Price: 2000000, Number of Rooms: 12\n"
          ]
        }
      ]
    }
  ]
}