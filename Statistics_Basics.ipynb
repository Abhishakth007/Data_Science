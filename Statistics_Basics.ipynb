{
  "nbformat": 4,
  "nbformat_minor": 0,
  "metadata": {
    "colab": {
      "provenance": []
    },
    "kernelspec": {
      "name": "python3",
      "display_name": "Python 3"
    },
    "language_info": {
      "name": "python"
    }
  },
  "cells": [
    {
      "cell_type": "markdown",
      "source": [
        "# **Basic Statistics Theoretical Questions**"
      ],
      "metadata": {
        "id": "vR6PZ9_EaM0d"
      }
    },
    {
      "cell_type": "markdown",
      "source": [
        "1.  **What is statistics, and why is it important**\n",
        "- Statics is a branch in mathematics that deal with collecting , organizing , analyzing , interpreting and presenting data\n",
        "- It is helps us to make sense of large amounts of data."
      ],
      "metadata": {
        "id": "-AUhpOigalxa"
      }
    },
    {
      "cell_type": "markdown",
      "source": [
        "2. What are the two main types of statistics\n",
        "- Statistics are divided into types on the basis of Quantative and Qualitative.\n",
        "  -  Inferential Statistics\n",
        "  - Descriptive statistics\n"
      ],
      "metadata": {
        "id": "tWNAjX6sbQyd"
      }
    },
    {
      "cell_type": "markdown",
      "source": [
        "3. What are descriptive statistics\n",
        "- Summarize or Describe characteristics of data using techniques like Mean , Median , Mode etc..\n",
        "- Discriptive statistics give  accurate information about data, no assumption or predictions are made."
      ],
      "metadata": {
        "id": "HwsRsY9Fb3q-"
      }
    },
    {
      "cell_type": "markdown",
      "source": [
        "4. What is inferential statistics\n",
        "- Infeential Statistics mainly involve make predictions on insights of data.\n",
        "- We use Inferential Statitics when the sample space is huge , resources to gather info is very much limited.\n"
      ],
      "metadata": {
        "id": "EBd_hdXFciIW"
      }
    },
    {
      "cell_type": "markdown",
      "source": [
        "5. What is sampling in statistics\n",
        "- Sampling is the process of selecting or choosing a subset of data to perform statistical operations.\n",
        "- Sampling is done when there is huge amount of data and we need Inferential Stats of the data."
      ],
      "metadata": {
        "id": "F9n4aOAudBJt"
      }
    },
    {
      "cell_type": "markdown",
      "source": [
        "6. What are the different types of sampling methods\n",
        "\n",
        "- Sampling types are divided on the basis of 2 Categories:\n",
        "- Probability Sampling\n",
        "  - Simple Random Sampling\n",
        "  - Stratified Sampling\n",
        "  - Cluster Sampling\n",
        "\n",
        "- Non-Probability Sampling\n",
        "  - Quota Sampling\n",
        "  - Convenience Sampling\n",
        "  - Judgemental Sampling"
      ],
      "metadata": {
        "id": "KUwiQFUkde-7"
      }
    },
    {
      "cell_type": "markdown",
      "source": [
        "7. What is the difference between random and non-random sampling?\n",
        "- Random Sampling opens equal oppurtunity for every member of population to be  the sample space\n",
        "- Non-Random sampling usually picks samples  based on a condition where some of the population might not even have a change to be in the sample space.\n"
      ],
      "metadata": {
        "id": "T8r68UOze4n2"
      }
    },
    {
      "cell_type": "markdown",
      "source": [
        "8. Define and give examples of qualitative and quantitative data\n",
        "- Qualitative Data : Data that describes the quality or character of data.\n",
        "  - Example : Colors --> Red , Blue , Green etc..\n",
        "    - Ethnicity\n",
        "    - Race etc..\n",
        "\n",
        "- Qualitaive Data : Data that can be measured or counted.\n",
        "  - Example : Age , Height , Weight etc.."
      ],
      "metadata": {
        "id": "OVp698zif3za"
      }
    },
    {
      "cell_type": "markdown",
      "source": [
        "9. What are the different types of data in statistics\n",
        "- Types of Data is divided into 2 ways :  \n",
        "- Qualitative Data\n",
        "  - Nominal Data\n",
        "  - Ordinal Data\n",
        "- Quantitative Data\n",
        "  - Discrete Data\n",
        "  - Continuous Data\n"
      ],
      "metadata": {
        "id": "j9cXh8Ycg2bk"
      }
    },
    {
      "cell_type": "markdown",
      "source": [
        "10. Explain nominal, ordinal, interval, and ratio levels of measurement\n",
        "- Nominal Data - Categorical data with no order.\n",
        "- Ordinal Data - Categorical data with order.\n",
        "- Interval - Ordered Numeric Data with equal gaps and no true 0 (Example : Temperature)\n",
        "- Ratio - Same as Interval Data but with a true 0 (Example - Height , Weight etc..)"
      ],
      "metadata": {
        "id": "X90EzxLthoaG"
      }
    },
    {
      "cell_type": "markdown",
      "source": [
        "11. What is the measure of central tendency\n",
        "- Measure of central tendency is value or measuring unit that give insights of entire data\n",
        "- It helps summarize a large set of data with a single, representative number.\n",
        "  - Mean - Gives the average value\n",
        "  - Median - Gives the middle values in an ordered dataset\n",
        "  - Mode - Gives the most repeating thing in the entire data."
      ],
      "metadata": {
        "id": "2D1F6CaciyOY"
      }
    },
    {
      "cell_type": "markdown",
      "source": [
        "12. Define mean, median, and mode\n",
        "- Mean (Average) - Add all values and divide by the number of values.\n",
        "\n",
        "  - Example: (10 + 20 + 30) / 3 = 20\n",
        "\n",
        "- Median - The middle value when data is ordered.\n",
        "  - If even number of values, it's the average of the two middle ones.\n",
        "\n",
        "  - Example: For [5, 10, 15], median = 10\n",
        "\n",
        "- Mode\n",
        "\n",
        "  - The value that occurs most frequently.\n",
        "\n",
        "  - Example: In [2, 4, 4, 6], mode = 4"
      ],
      "metadata": {
        "id": "3eBjkwqyjjrw"
      }
    },
    {
      "cell_type": "markdown",
      "source": [
        "13. What is the significance of the measure of central tendency\n",
        "- Measures of central tendency are important because they help us:\n",
        "  - Summarize Data Simply\n",
        "  - Understand the \"Typical\" Value\n",
        "  - Support Decision-Making\n",
        "  - Compare Distributions\n"
      ],
      "metadata": {
        "id": "IGItLaEUj5i9"
      }
    },
    {
      "cell_type": "markdown",
      "source": [
        "14.  What is variance, and how is it calculated\n",
        "- Variance tells us how much the actual data values are deviating from mean.\n",
        "- A high variance means values are widely spread; a low variance means they're close to the mean.\n",
        "\n",
        "\n",
        "![image.png](data:image/png;base64,iVBORw0KGgoAAAANSUhEUgAAAQkAAABrCAYAAABkI3eBAAAAAXNSR0IArs4c6QAAAARnQU1BAACxjwv8YQUAAAAJcEhZcwAAEnQAABJ0Ad5mH3gAABQaSURBVHhe7d1/bBvnfcfxd+cAHByAhtPRSAEd1FhsMptJ63ANvAu8iq5ay8kiut4EdoCgpFBoB46cTI5WmyVSaEQylbHBmpntCbFlobVGLOXUeJKKTFLmWnILs64bWltDC00oNQKFLTCxBSFQYQQabH8cKZEnihKlo6wf3xdAwLk7OxLJ+9zd83yf5/nMAw888H8IIcQ8/kC/QQghcklICCGKkpAQQhQlISGEKEpCQghRlISEEKIoCQkhRFESEkKIoiQkhBBFSUgIIYqSkBBCFCUhseG56Lg2xsTExMyrv03JO8J+cihv/8QHY/S/kneIWMc+IwO8BABNIUa/o2LeBEz20bC3hUjeAW5Co62Y36ynzh/L2yPWN7mTEACo9grSw2Gi00ClyqF6/RFWLPfEGJaA2HAkJAQAB6xbiEc8hH+ZBCyorub8A45ZUabiBPK3ig1AQkIArVjvTxDrgnBXhARgenQ/vsrZI5w7Fe7Ee3P/ktggJCQEPGNHScboBvh5gOHbwCYbjpfUzAEqTzxkYupmfiuF2BgkJATqYxXw4XUSACRoG4ySBpQ/PYQLgL1UmONEf6j7i2JDkJAQmfaIvtkNZ8JEkoBFxfUCcMyO9SNpj9ioJCQ2vNn2iFlhLvwiAZiw1/pwSXvEhiYhsdE12bF+PK61R+SIfL9P6w7deQDvYzB+RdojNioJibtEqfMSuj7G6KVG/a4VpdorSMd/mmmPyDEZyHSHmjHfkyB2WX+A2CgkJFaIotbifKYVf6CLnmujjLzuRr3fBJtM+kNXTqWTp7+4jU8+uqXfA8x2h/JhVNojNjAJiRVSe/Q1gm3NuJ60o0x/Qkp/wIpqpOvaGBNXg9RWmLA2jDBxowu3/rBMd2jiw6v6PWIDkbEbd4WfoQkXViAVaWdXQ6f+ACFWDbmTEEIUJSEhhChKQkIIUZSEhBCiKAkJIURREhJCiKKkC/SuKF8XaHPHEAce0G9dSSminfV4evTbxVolIXFXlC8kvL1juB/RVXFOJ4lPfZK/rQRb7lcw35P5j00mTAsUiaZ/FWCH65x+s1ijVllI2Ghs9+KyWzCRJhkb5kd/H6BvUn/cWle+kKDSTajXi2rO3ZgmemYf9afnjNBYIhuOg3b+5LG9qHvs2D5nxrQpZ/enMbq/Vkfbuvvc1hpjzqdV1CbhwP9OiKPWBANvdDP4WxO2g80EB4bw1+iPFfOa7MTzDxFd2bcJ++GLBr6PMYYvdxPwNlH/lV3s+FoD7ZdjJNOZ3XmzWom7w7jzadWEhNLWiuu+OOHuc5y73E3gyD5a3k6AyYrL40e+couXON9A+5Vk/kaTlQMeP478rcaYjNDZWsfu/S1039biaXZWK3E3GHk+rZqQqH1Qga12mptnZ2kePnVLG4VYZedA7sFiQeFDJwiPZy/tGlOVi9culPHUneyj7ak62q8kSWdntVoEW40TxyP6raKgSpXaJ1Xyl0+ay8jzadWExOBIjOR0isRv47MbJ/+X/K/5GvaIA+dBJ86DTprbbWzLbDYre/Ed0bY7F/HhL94wHn8vcd0baKnxEjps3P9lrgSdh+rpvg32Wt8Cv49C49kRetqf5vHsGyIWYOPpV0L0hJqx6XflMPJ8WmUNlzrHehh7wY7po0FaHj9CziyMa8/JISbqrfqt+VIR2nc1YGAzJsrL/Qw12cjrkJiOcu7P6wmU2IBVkj1+hi7sZeq7u2mapzvUcXKIjvotRI7Pf4wooMbP0FkX26Lt1DV0zp0waD5LPJ9WcUg4CF7twlmZIuKvo+H8ot8KkUfBHerHm9/dQXo8zJGvexjO27qCmkKMvqzyydtNVB+9az/FmqWFv5XEm03s8y5masGln0+r5nFDz3HSS21liuj5lpJ+IaGXoNN7lsjH+VtNVQfwnixLM+YiuOh6TsWcitAtAbEkiVfbGZw0YT3oxZuziNJ8lnM+rcqQUA6HCNZtIXK6gXq/fImWbbKThuODuttSE9b61+ias+Zn+SltjTgskBg5a+ij1cYSoeWtKGmTjQNtxRujl3s+rbqQUA6H6D9mYfh4PU1nYoCK91IHupUpRamuHKGtJ65ruLLg+E4I9yKuRMZRaXXYgDiR7y/mNlnM68xVYtNg+bNGvPp9GUacT6srJGr8XHzOwsDRfbT0Z697e1EfMi+pVVbkGz7eRu/7undyq8rRdvcCvRAGOngItRKYvM25cjacbgjniPwmDZtsqG0FPkGDzqfVExI1XnpOurBuVjjw+hhj72VeY25s6RSy4L0RInieCxDRzcJrVlu52F5Kec3SqTVVWIBkoWn8RckCt7QuTttjuqUZDDyfyhcSlSruti56BoYYKvLqf12bo9nd5MK+FTCZMG3OeZkgnYwjN6YGmads23rQV3K57lIcsCpAmsTthTrgbDQG+rkxOsbExARj7w7R5XFotRWBIUbHJpj4YIzRXh/OFX1cMlBTFzc+mGBsoFAFpEJjoIeh3o7ij4PDU1rYfs5GbkwYeT6VpQvU4Qnhe0ZFWWC0IGhVeg17W0r6ocXyuS7cwF9jyd842UfT3pYydou6CY16Uc1Jhlt30zTvgj8O/AMduLbGCf/gLAPvb+EbHh/OKoj9+g62iiTd3ztL3OHD+6RC6koLuw8tFDqrjzs0qnVNvx9m+35P/s49QUYuOVFY6L3y0v+BG9umOOHt+9D9K4Yw+E5CwRkYouOwinJPinhkkL7LffS9HSGRvXR9HNO2Xe6j781zeF40OiC89I9NMDGxzNdYD636f3odKVS2TaWT4KU5q28YyIrFDPAJd+b90oMj4OOAJUq7qw5PxyDDV8K03NLWJrU98ocMf6+eNvMhWp9UMAHm+76g/yfWACePW7XalWTiun4nOKq0dqJUnOtF3iu4Q+p3ANtQmvT7jGHonYRyOES/R8WcjtN3/NmcxhKgpoMbF2qxECe8dx+eMjZa2WqcVOXXDpUuNU7flVKe3NagTOWeNe+Or/Rim0Xb08HIpVqUopWlzfS814rpn6up883+DM4LNwjWWCA5TMvuJvpe6GHsmB0TKaJn6uYOg6/x0vWclfgbTbRfyd+1KmTfC1JE/LtoOJ+/u/XHYzQ/aoLbnWx/qj1/Zx6VjmshaitSRF7dRUPews/GMDAktA/XvhniPQ3sO66/P8jOoVC+X0aUTjnWw9AL9vyy7VSE9gMNdBod5JkqS3OxkKhsxPviNuKtAcIzGxWCV0dwVkL61jl2/KW26KCtxknF9C0GI3MDzT8wgetBiHVtp+5V/d4CKlVq7Zb896EkaZLRQSKLfc9e7meiyQafxuj8Qh35MdBI6F0f6lZIvN1A9VH9uZTP/84EriqIv7mdffP1hS6DYSGhnBxipN6qjQt4uH7u2pGVQUauOrXkXKchMTExod9kqO3bt+s3GaBQ2XaK6Old1J/J2WSExYREQdnn7sWf9EqDl1YlQcDfvbhelIMdjLzimBl4V7o7DH+3miNFHw1mzdwpjIep/ron/2fMvcvw7aLhh7k755oJiZ7t7Duu37t8hoVENrlzkz5PdnAJCfr2VtOy2MQVK8BBx7UuaisA0sR7jrDveBmaL5caEodDjHpUzOvmu+Ok60YQhwWSBRpdF7zg6mghkSZ6Zgf1p/V7l8+ghks3yv3an+58OHuTmMv9Zat2Kzd5ix+V9UN2E+yd29Va8qs3OHcB3XVrnHczLcupSIBnyxEQAF0J7gDcay7piu18zIoZIDnOT/O+OwpqjW54faWKuy2I/5hz5QrESrXnCaosACniN+f2yriqMj/5f8W1R65HHNSq8/02bhQLQJr00qcxLcqgkMhKMRUrcHNX2cr+L5m1uRb7Agb3ZujF+SB2m9vLfn1Azkj8dc1x8iKtqpn0eJiWUoYelyxF+lNtMt1525Ur3XRdG2VsdIhgPYDKEw9pXbXpqVj+8OZ6H8ELPpqzdQSVbkLhIAcsFtTng/R0OHOPXj0cFZkAu0NC12AJbuxVWstI8sPrJAC3J0jwb4qPz4BPSL2v32YMwx43vD+ZwL2z0C3P7DNvKlLi+HdRdtkeKdPkIO3fOkJ3We/ysrfZ87dLNV4axbdHi5D4m9vZ93a2XkD/zK3Q+uMh3KZu9j3VTiJT+9GcPkH1qf0MXXWhrNJZu2faI5hb26DNsWHFNNPr4aLrhh9L/3xtMZkOgUU+miyFYXcS7W9FSGHC7gzmzKNoo7mrh1bVTOp2d5mvUqJkNX4uHlMxfxwhUPaAAOgjNpUGzFgWmH8nPTVM+A0bzS862JbW6jm2/FH2amqjseMfce9M0OvXAgLs2JU7RE4No76kYiVN7GerLyCgEfvns30oVuyvZOeXUnC+3EPwoAKfZjb9HpRjLtR7owwUDAjgsKI9uiWncnqDjGXYnQSAw9PDa8/asfw+rd1WmkyY0gkibwbwvNq3AQNCxf3KN3l4s27zR9dpOVXoI53neIDku4tvqV+MGh/9gUZspjjho/vwrFAtQbZRbt4G7mztBmnSmDClIgTcF1BOdeB60ER6Og2bTJCM0O1rKFADoRK8GsJpiRJ4uJ5VFxMzPReQTqOVSWd+J1M6Tt+pZ/mXL13U7ibSadL3pImdr6P+VOFPXj07QuhJZVFdpUtlaEiArr95IxQkFeWj/z1tfY28RW3mXZcic7zJlL+ORTpNaryXI095jGnPqXQTesuLurWMhVPzqfTR/2+N2H5XpIdj5juUYvzy8MxgpJkiuWLfq4Nd3Ag4YNjD7qZCQXyXtQ8x8VfWTH3E81x98lEsJiCd5NbbkZmLgKLW8uj9JtIfFa4D0Sj43xnBVZVg8Olqjvxcv98YxoeEKGimTj8jecXD7kPzfYkddFzvonZzjM7vPk97buXqsjnwv9OhdZmdb1nSJCTLo+D9yRDunRA9vcPwWgxX1w38DrTxDg/1M/JgN9WrKCyK1keUKju+YzxMw9cNuoAUYFibhChGq9NPRmavFBbVVWTiDwWzCZI3LxgcEAruUDBTeHM3AgIgQfsPIiQxLWI27VK52G+zwFSUC5cdBGvMjL+9egICnNgq8nsulsPVpGoFV/9UvoBAQmKFVH6VKkuK+BUPw7cz2zbb2V9oohCAPY9TsbVwH/rSKbgvZBqRy1kLMcNNsLef4DP67UBPGxciKdi5H5+h0+eFuf6bFNxnx3ftNXbealtds3Dn1kdElvnZ7vHjVi2kb4fxFOglMpKExEporEKZjhPtStA2GJ2ZFcjmaC0wj0CmH/3TBLE5fehL5zh5kdYaC5S9FkLjCDTirErzQcGS4uzkvBYcL3YYuqpY59O7qPvrvyNwor48VaPLka2PmI4TXdaJreD1HMA6HSHQnO3dKR8JiRXg3qHMVs+dOcvwVGZHpcqhAldS9w4Fpsbp1u9YIuVwiGC9Fcb7OOEu/zT6Sl1Qm+fh3wfm712Y7KTheCfRe2sJhoydPi92pa9IY99d9J9JbcGcnw0sq57BcfIijVUJwsfLMAivAAmJstPaIxK/6c0k/jDtMy3zFlSXvmUi035h0PRuyuEuerK1EO6WkleULpXthS56TjqxmpJELxfsu5h1pZ36bwWIKo34Dut3rkNdTex+eBfVRxZ4X4r5sp/W6jTh48+uWLe1hES5VT5OhSXFVHS2aSnhGyA6rf3Z9Oh+fLnTk2XbL5b7zEq2WMqhzeFR7qvOIy58oRF6jjm0Lr1kjIHFtAf8+hxNX6mmycBHq3XtVx7qdtfRZmiDdnESEuXWaMM65xn0HOFfZlb93mTD8VJOy0RjldYesaxn1kwtxEkXVlOKyOlyXXVsOI746Oq9wdhbfhpVbaYogMTNC2WrABQrS+okyswdGsW7bWBun/jMHIZAchjP7ibCxY4vSbYWwkTyV30Y9Xhuur+Kqs+aYPM2lPu0iVULS9D3dDUtZSruEStLQqKstAFNVTcLlcwq+H4yQuNOtNGxp3dQf0Y73vYfc+cYWDwbzaEQrbq1P1fU7W6qn2pbRsiJ1UQeN8qpQHvErNzu0Exh0Z4nlt0e4b50lwMCiN0sfxerWDlyJ1FOL/cz8QwF5jDM0oYBOyxot+g9KZxPppc15Ddb83/35I+3EGufhEQZLaZ9QX19hFBdTpWAETX9QhhIHjfKJlPvsECNfuT7g8Rylr+YracQYnWQkCiXbPvCQuMvJtvpjmS6Q5mv/UKIu2fT1q1b/1a/USxRpUrtV/fyjUMn8B91oJhMbNn2x9y7aRPmzdOMT+lW6s2I/ffD/MXBh9gyHaPvULisI/qEKJW0SRjJ08/YYVvBBV4KTZ0+K9Mdek+BNSGFuMskJDaKMi17Z3uhA+/n/pUG73wBKNY6aZPYIPzfduP4sgO14Nj00ri+HaQj1M/Iu2P0H6vFVlnKKhpirZGQ2CDOdXfSd76N5+ebdblE6Y+ihN+MUbiVRawn8rghli6zbB+RdnY1LGP4s1jV5E5ivVsLy96JVU1CYj1bK8veiVVNQmIdc718iIqbJ6g7lSC9Ccyfnb2XaA2PMvbe2OJf7/bQmvevi41C2iTWLTv+AR88V0fvSyOE6rYZv86FtElsCHInsW5F8eyvwzOp8s0vKjAd46qRASE2DLmTWO/mWfau9CHlBYaAy53EhiAhsc7Nt+yd4wU/3/j8H+oPLyLB9dZA/ryVEhIbgoTEupaZ1CY9SMNXfsQ33/FhfqPauFWtJCQ2BAmJdc59aRSvPU38f4BfnDBkVavGCyN41W35E+Gm06Q/jRN+uI623IPFmichsQHYapxUTBdbwl6I+UlICCGKki5QIURREhJCiKIkJIQQRUlICCGKkpAQQhQlISGEKEpCQghRlISEEKIoCQkhRFESEkKIoiQkhBBFSUgIIYqSkBBCFCUhIYQoSkJCCFGUhIQQoqj/Bzwjrue2VPuqAAAAAElFTkSuQmCC)"
      ],
      "metadata": {
        "id": "Lh7pUa6NlynA"
      }
    },
    {
      "cell_type": "markdown",
      "source": [
        "15. What is standard deviation, and why is it important\n",
        "- Standard deviation is the measure of how spread out the data values are  around the mean.\n",
        "- It's the square of Variance\n",
        "- **Example Of Importance :** If two classes both have an average test score of 75, but one class has a standard deviation of 5 and the other has 15, the first class is more consistent, while the second has wider performance variation."
      ],
      "metadata": {
        "id": "xezGPisamkCh"
      }
    },
    {
      "cell_type": "markdown",
      "source": [
        "16. Define and explain the term range in statistics\n",
        "- The range is simplest measuring unit that tells how spreadout the data is.\n",
        "- Range = Highest Value - Smallest Value"
      ],
      "metadata": {
        "id": "r6T4tU_qnwn1"
      }
    },
    {
      "cell_type": "markdown",
      "source": [
        "17. What is the difference between variance and standard deviation\n",
        "- Variance = Spread measured in squared units\n",
        "\n",
        "- Standard deviation = Spread measured in original units, easier to interpret\n",
        "\n",
        "- Example  - Variance = 8 , Standard Deviation = √8 ≈ 2.83"
      ],
      "metadata": {
        "id": "k5PM3GBzoMG2"
      }
    },
    {
      "cell_type": "markdown",
      "source": [
        "18. What is skewness in a dataset\n",
        "- Skewness is measure of asymmetry in ditribution of data values around the mean\n",
        "- Skewness helps us understand the amount of outliers in the data , tells which side is data is tilted towards.\n"
      ],
      "metadata": {
        "id": "-JNLtIUTquDE"
      }
    },
    {
      "cell_type": "markdown",
      "source": [
        "19. What does it mean if a dataset is positively or negatively skewed\n",
        "- Positive Skew (Right Skew)\n",
        "  - Tail is stretched to the right (higher values). Mean > Median.\n",
        "- Negative Skew (Left Skew)\n",
        "  - Tail is stretched to the left (lower values). Mean < Median."
      ],
      "metadata": {
        "id": "__ZXzpbwrcf-"
      }
    },
    {
      "cell_type": "markdown",
      "source": [
        "20. Define and explain kurtosis\n",
        "- Kurtosis is a statistical measure that describes the \"tailedness\" or peakness of a data distribution compared to a normal distribution\n",
        "- Tell us how often outliers occur."
      ],
      "metadata": {
        "id": "ctlHod_Dr3rY"
      }
    },
    {
      "cell_type": "markdown",
      "source": [
        "21. What is the purpose of covariance\n",
        "- Covariance is used to measure how two variables change together\n",
        "- Helps us understand the direction of the relationship between them.\n",
        "\n"
      ],
      "metadata": {
        "id": "h_Wp1PAasSfg"
      }
    },
    {
      "cell_type": "markdown",
      "source": [
        "22. What does correlation measure in statistics\n",
        "- Measures how strongly two variables are related, scaled.\n",
        "- Correlation tells you how strongly and consistently the covariance is between any 2 variables.\n",
        "- Returns value between -1 and 1."
      ],
      "metadata": {
        "id": "uGAEeN-ws5qb"
      }
    },
    {
      "cell_type": "markdown",
      "source": [
        "23. What is the difference between covariance and correlation\n",
        "- Covariance tells you whether variables move together (positive/negative).\n",
        "- Correlation tells you how strongly and consistently they move together.\n",
        "- Correlation is basically \"scaled\" covariance."
      ],
      "metadata": {
        "id": "Gvq7RTE8tVYM"
      }
    },
    {
      "cell_type": "markdown",
      "source": [
        "24. What are some real-world applications of statistics?\n",
        "- Business - Analyze customer preferences through surveys\n",
        "-  Healthcare- Conduct clinical trials to test new drugs\n",
        "- Finance - Assess investment risks using variance and standard deviation"
      ],
      "metadata": {
        "id": "BJ7S-nh4tlt-"
      }
    },
    {
      "cell_type": "markdown",
      "source": [
        "# **Basic Statistics Practical Questions**"
      ],
      "metadata": {
        "id": "ofp1da-NeCz0"
      }
    },
    {
      "cell_type": "code",
      "source": [
        "#1. How do you calculate the mean, median, and mode of a dataset?\n",
        "import numpy as np\n",
        "from scipy import stats\n",
        "\n",
        "data = [10, 20, 20, 30, 40]\n",
        "mean = np.mean(data)\n",
        "median = np.median(data)\n",
        "mode = stats.mode(data)\n",
        "\n",
        "print(mean, median, mode.mode)"
      ],
      "metadata": {
        "colab": {
          "base_uri": "https://localhost:8080/"
        },
        "id": "lfyUAi0oeCSu",
        "outputId": "3e89d1ed-1c00-441e-cbf2-aab8f8ccd29d"
      },
      "execution_count": 1,
      "outputs": [
        {
          "output_type": "stream",
          "name": "stdout",
          "text": [
            "24.0 20.0 20\n"
          ]
        }
      ]
    },
    {
      "cell_type": "code",
      "source": [
        "#Q2: Write a Python program to compute the variance and standard deviation of a dataset.\n",
        "\n",
        "data = [10, 20, 20, 30, 40]\n",
        "variance = np.var(data)\n",
        "std_deviation = np.std(data)\n",
        "\n",
        "variance, std_deviation"
      ],
      "metadata": {
        "colab": {
          "base_uri": "https://localhost:8080/"
        },
        "id": "1UnBi_NceVfA",
        "outputId": "8b6daf7d-1584-4801-bd65-669c5c2ea622"
      },
      "execution_count": 2,
      "outputs": [
        {
          "output_type": "execute_result",
          "data": {
            "text/plain": [
              "(np.float64(104.0), np.float64(10.198039027185569))"
            ]
          },
          "metadata": {},
          "execution_count": 2
        }
      ]
    },
    {
      "cell_type": "code",
      "source": [
        "# Q3: Create a dataset and classify it into nominal, ordinal, interval, and ratio types.\n",
        "\n",
        "dataset = {\n",
        "    \"Nominal\": [\"Red\", \"Blue\", \"Green\"],\n",
        "    \"Ordinal\": [\"Small\", \"Medium\", \"Large\"],\n",
        "    \"Interval\": [-10, 0, 10],\n",
        "    \"Ratio\": [5, 10, 15]\n",
        "}\n",
        "dataset"
      ],
      "metadata": {
        "colab": {
          "base_uri": "https://localhost:8080/"
        },
        "id": "TsJYKpageckX",
        "outputId": "66cf5514-6974-4e1f-a6a3-e6028036e9ed"
      },
      "execution_count": 3,
      "outputs": [
        {
          "output_type": "execute_result",
          "data": {
            "text/plain": [
              "{'Nominal': ['Red', 'Blue', 'Green'],\n",
              " 'Ordinal': ['Small', 'Medium', 'Large'],\n",
              " 'Interval': [-10, 0, 10],\n",
              " 'Ratio': [5, 10, 15]}"
            ]
          },
          "metadata": {},
          "execution_count": 3
        }
      ]
    },
    {
      "cell_type": "code",
      "source": [
        "# Q4: Implement sampling techniques like random sampling and stratified sampling.\n",
        "\n",
        "from sklearn.model_selection import train_test_split\n",
        "\n",
        "data = range(1, 101)\n",
        "random_sample = np.random.choice(data, 10, replace=False)\n",
        "\n",
        "labels = ['A', 'B']\n",
        "stratified_sample, _ = train_test_split(data, test_size=0.9, stratify=[labels[i%2] for i in data])\n",
        "\n",
        "random_sample, stratified_sample"
      ],
      "metadata": {
        "colab": {
          "base_uri": "https://localhost:8080/"
        },
        "id": "3CdExPZPeg_b",
        "outputId": "cc9f7ae3-dca1-4c51-e355-408387418bbf"
      },
      "execution_count": 4,
      "outputs": [
        {
          "output_type": "execute_result",
          "data": {
            "text/plain": [
              "(array([28, 63, 32, 31, 86, 33, 84, 25, 68, 88]),\n",
              " [33, 93, 8, 78, 85, 83, 79, 88, 44, 66])"
            ]
          },
          "metadata": {},
          "execution_count": 4
        }
      ]
    },
    {
      "cell_type": "code",
      "source": [
        "# Q5: Write a Python function to calculate the range of a dataset.\n",
        "\n",
        "def calculate_range(data):\n",
        "    return np.max(data) - np.min(data)\n",
        "\n",
        "range_value = calculate_range(data)\n",
        "range_value\n",
        ""
      ],
      "metadata": {
        "colab": {
          "base_uri": "https://localhost:8080/"
        },
        "id": "Z1XY_6VUelhO",
        "outputId": "0b587a1b-e27e-41e2-ce09-913e50980086"
      },
      "execution_count": 5,
      "outputs": [
        {
          "output_type": "execute_result",
          "data": {
            "text/plain": [
              "np.int64(99)"
            ]
          },
          "metadata": {},
          "execution_count": 5
        }
      ]
    },
    {
      "cell_type": "code",
      "source": [
        "#Q6: Create a dataset and plot its histogram to visualize skewness.\n",
        "\n",
        "import matplotlib.pyplot as plt\n",
        "\n",
        "data = np.random.normal(0, 1, 1000)  # Normally distributed\n",
        "plt.hist(data, bins=30)\n",
        "plt.title('Histogram of Data')\n",
        "plt.show()"
      ],
      "metadata": {
        "colab": {
          "base_uri": "https://localhost:8080/",
          "height": 452
        },
        "id": "HRi8Jp-tenFL",
        "outputId": "6df06bdc-2dc9-4f78-931f-8314686961be"
      },
      "execution_count": 6,
      "outputs": [
        {
          "output_type": "display_data",
          "data": {
            "text/plain": [
              "<Figure size 640x480 with 1 Axes>"
            ],
            "image/png": "[encoded data removed]"
          },
          "metadata": {}
        }
      ]
    },
    {
      "cell_type": "code",
      "source": [
        "# Q7: Calculate skewness and kurtosis of a dataset using Python libraries.\n",
        "\n",
        "from scipy.stats import skew, kurtosis\n",
        "\n",
        "skewness = skew(data)\n",
        "kurt = kurtosis(data)\n",
        "\n",
        "skewness, kurt"
      ],
      "metadata": {
        "colab": {
          "base_uri": "https://localhost:8080/"
        },
        "id": "VOoDojt6erhU",
        "outputId": "bb15f401-21de-4a1d-8859-e7250f304226"
      },
      "execution_count": 7,
      "outputs": [
        {
          "output_type": "execute_result",
          "data": {
            "text/plain": [
              "(np.float64(-0.11222322606150366), np.float64(-0.10099414354160263))"
            ]
          },
          "metadata": {},
          "execution_count": 7
        }
      ]
    },
    {
      "cell_type": "code",
      "source": [
        "# Q8: Generate a dataset and demonstrate positive and negative skewness.\n",
        "\n",
        "positive_skewed_data = np.random.exponential(scale=2, size=1000)\n",
        "negative_skewed_data = 1 / (np.random.exponential(scale=1, size=1000) + 1)\n",
        "\n",
        "plt.hist(positive_skewed_data, bins=30)\n",
        "plt.title('Positive Skewness')\n",
        "plt.show()\n",
        "\n",
        "plt.hist(negative_skewed_data, bins=30)\n",
        "plt.title('Negative Skewness')\n",
        "plt.show()\n",
        ""
      ],
      "metadata": {
        "colab": {
          "base_uri": "https://localhost:8080/",
          "height": 887
        },
        "id": "JQf43OhUeurZ",
        "outputId": "997eb3e2-11e2-436f-c656-a84da35de44b"
      },
      "execution_count": 8,
      "outputs": [
        {
          "output_type": "display_data",
          "data": {
            "text/plain": [
              "<Figure size 640x480 with 1 Axes>"
            ],
            "image/png": "[encoded data removed]"
          },
          "metadata": {}
        },
        {
          "output_type": "display_data",
          "data": {
            "text/plain": [
              "<Figure size 640x480 with 1 Axes>"
            ],
            "image/png": "[encoded data removed]"
          },
          "metadata": {}
        }
      ]
    },
    {
      "cell_type": "code",
      "source": [
        "# Q9: Write a Python script to calculate covariance between two datasets.\n",
        "\n",
        "x = [10, 20, 30]\n",
        "y = [12, 24, 36]\n",
        "covariance = np.cov(x, y)[0][1]\n",
        "covariance\n",
        ""
      ],
      "metadata": {
        "colab": {
          "base_uri": "https://localhost:8080/"
        },
        "id": "b041_g3Yexob",
        "outputId": "61f13d98-b27e-4ee3-8b6e-ee9987d26dfb"
      },
      "execution_count": 9,
      "outputs": [
        {
          "output_type": "execute_result",
          "data": {
            "text/plain": [
              "np.float64(120.0)"
            ]
          },
          "metadata": {},
          "execution_count": 9
        }
      ]
    },
    {
      "cell_type": "code",
      "source": [
        "# Q10: Write a Python script to calculate the correlation coefficient between two datasets.\n",
        "\n",
        "correlation = np.corrcoef(x, y)[0][1]\n",
        "correlation"
      ],
      "metadata": {
        "colab": {
          "base_uri": "https://localhost:8080/"
        },
        "id": "kSe6u2pLe0zM",
        "outputId": "47e782eb-b04c-436a-a336-a5c6734e5594"
      },
      "execution_count": 10,
      "outputs": [
        {
          "output_type": "execute_result",
          "data": {
            "text/plain": [
              "np.float64(1.0)"
            ]
          },
          "metadata": {},
          "execution_count": 10
        }
      ]
    },
    {
      "cell_type": "code",
      "source": [
        "#Q11: Create a scatter plot to visualize the relationship between two variables\n",
        "\n",
        "plt.scatter(x, y)\n",
        "plt.title('Scatter Plot')\n",
        "plt.xlabel('X')\n",
        "plt.ylabel('Y')\n",
        "plt.show()"
      ],
      "metadata": {
        "colab": {
          "base_uri": "https://localhost:8080/",
          "height": 472
        },
        "id": "4zKaVwJ1e4Eq",
        "outputId": "02d48e06-0b7e-4fbb-9a51-0a7beb566ef7"
      },
      "execution_count": 11,
      "outputs": [
        {
          "output_type": "display_data",
          "data": {
            "text/plain": [
              "<Figure size 640x480 with 1 Axes>"
            ],
            "image/png": "[encoded data removed]"
          },
          "metadata": {}
        }
      ]
    },
    {
      "cell_type": "code",
      "source": [
        "# Q12: Implement and compare simple random sampling and systematic sampling.\n",
        "\n",
        "simple_random = np.random.choice(data, 10, replace=False)\n",
        "\n",
        "# Systematic sampling\n",
        "interval = len(data) // 10\n",
        "systematic_sample = [data[i] for i in range(0, len(data), interval)]\n",
        "\n",
        "simple_random, systematic_sample"
      ],
      "metadata": {
        "colab": {
          "base_uri": "https://localhost:8080/"
        },
        "id": "J8PKXYyme7Gx",
        "outputId": "fb0019c1-9303-4e5a-a2ed-2acbdbaf2620"
      },
      "execution_count": 12,
      "outputs": [
        {
          "output_type": "execute_result",
          "data": {
            "text/plain": [
              "(array([-0.32492878, -0.33172374, -0.85572272,  0.09523601,  0.45870343,\n",
              "         1.9962762 ,  0.27886344, -0.26534852,  0.91480305,  0.02915315]),\n",
              " [np.float64(-1.377047819873078),\n",
              "  np.float64(-0.6278450657813938),\n",
              "  np.float64(0.19998481225947695),\n",
              "  np.float64(0.17132539820211587),\n",
              "  np.float64(-0.6510145150378936),\n",
              "  np.float64(-0.5565746352675779),\n",
              "  np.float64(1.393812087152837),\n",
              "  np.float64(1.655351563170156),\n",
              "  np.float64(0.27886344430740273),\n",
              "  np.float64(-1.8848784364107776)])"
            ]
          },
          "metadata": {},
          "execution_count": 12
        }
      ]
    },
    {
      "cell_type": "code",
      "source": [
        "# Q13: Calculate the mean, median, and mode of grouped data.\n",
        "\n",
        "grouped_data = [5, 10, 10, 15, 20]\n",
        "mean = np.mean(grouped_data)\n",
        "median = np.median(grouped_data)\n",
        "mode = stats.mode(grouped_data)\n",
        "\n",
        "mean, median, mode.mode"
      ],
      "metadata": {
        "colab": {
          "base_uri": "https://localhost:8080/"
        },
        "id": "eTtvWkF0e9jm",
        "outputId": "45018e37-1bb0-4247-a465-bf4e5737646c"
      },
      "execution_count": 13,
      "outputs": [
        {
          "output_type": "execute_result",
          "data": {
            "text/plain": [
              "(np.float64(12.0), np.float64(10.0), np.int64(10))"
            ]
          },
          "metadata": {},
          "execution_count": 13
        }
      ]
    },
    {
      "cell_type": "code",
      "source": [
        "# Q14: Simulate data using Python and calculate its central tendency and dispersion.\n",
        "\n",
        "sim_data = np.random.normal(0, 1, 1000)\n",
        "mean = np.mean(sim_data)\n",
        "median = np.median(sim_data)\n",
        "std_dev = np.std(sim_data)\n",
        "\n",
        "mean, median, std_dev"
      ],
      "metadata": {
        "colab": {
          "base_uri": "https://localhost:8080/"
        },
        "id": "Wi9RzjHXe_bK",
        "outputId": "aba8563d-2337-4ea9-d063-c5c01715f274"
      },
      "execution_count": 14,
      "outputs": [
        {
          "output_type": "execute_result",
          "data": {
            "text/plain": [
              "(np.float64(0.007199267319158213),\n",
              " np.float64(0.03976511320165892),\n",
              " np.float64(0.9924369084367759))"
            ]
          },
          "metadata": {},
          "execution_count": 14
        }
      ]
    },
    {
      "cell_type": "code",
      "source": [
        "# Q15: Use NumPy or pandas to summarize a dataset’s descriptive statistics.\n",
        "\n",
        "import pandas as pd\n",
        "\n",
        "df = pd.DataFrame(sim_data, columns=['Values'])\n",
        "summary = df.describe()\n",
        "\n",
        "summary"
      ],
      "metadata": {
        "colab": {
          "base_uri": "https://localhost:8080/",
          "height": 300
        },
        "id": "7S2k2zr0fB0D",
        "outputId": "22cc04bb-8cbc-4af2-da33-9b1fcb971dbd"
      },
      "execution_count": 15,
      "outputs": [
        {
          "output_type": "execute_result",
          "data": {
            "text/plain": [
              "            Values\n",
              "count  1000.000000\n",
              "mean      0.007199\n",
              "std       0.992933\n",
              "min      -3.309473\n",
              "25%      -0.672860\n",
              "50%       0.039765\n",
              "75%       0.686160\n",
              "max       2.831240"
            ],
            "text/html": [
              "\n",
              "  <div id=\"df-15b1113a-b7d9-46ab-b9fc-47511d578b71\" class=\"colab-df-container\">\n",
              "    <div>\n",
              "<style scoped>\n",
              "    .dataframe tbody tr th:only-of-type {\n",
              "        vertical-align: middle;\n",
              "    }\n",
              "\n",
              "    .dataframe tbody tr th {\n",
              "        vertical-align: top;\n",
              "    }\n",
              "\n",
              "    .dataframe thead th {\n",
              "        text-align: right;\n",
              "    }\n",
              "</style>\n",
              "<table border=\"1\" class=\"dataframe\">\n",
              "  <thead>\n",
              "    <tr style=\"text-align: right;\">\n",
              "      <th></th>\n",
              "      <th>Values</th>\n",
              "    </tr>\n",
              "  </thead>\n",
              "  <tbody>\n",
              "    <tr>\n",
              "      <th>count</th>\n",
              "      <td>1000.000000</td>\n",
              "    </tr>\n",
              "    <tr>\n",
              "      <th>mean</th>\n",
              "      <td>0.007199</td>\n",
              "    </tr>\n",
              "    <tr>\n",
              "      <th>std</th>\n",
              "      <td>0.992933</td>\n",
              "    </tr>\n",
              "    <tr>\n",
              "      <th>min</th>\n",
              "      <td>-3.309473</td>\n",
              "    </tr>\n",
              "    <tr>\n",
              "      <th>25%</th>\n",
              "      <td>-0.672860</td>\n",
              "    </tr>\n",
              "    <tr>\n",
              "      <th>50%</th>\n",
              "      <td>0.039765</td>\n",
              "    </tr>\n",
              "    <tr>\n",
              "      <th>75%</th>\n",
              "      <td>0.686160</td>\n",
              "    </tr>\n",
              "    <tr>\n",
              "      <th>max</th>\n",
              "      <td>2.831240</td>\n",
              "    </tr>\n",
              "  </tbody>\n",
              "</table>\n",
              "</div>\n",
              "    <div class=\"colab-df-buttons\">\n",
              "\n",
              "  <div class=\"colab-df-container\">\n",
              "    <button class=\"colab-df-convert\" onclick=\"convertToInteractive('df-15b1113a-b7d9-46ab-b9fc-47511d578b71')\"\n",
              "            title=\"Convert this dataframe to an interactive table.\"\n",
              "            style=\"display:none;\">\n",
              "\n",
              "  <svg xmlns=\"http://www.w3.org/2000/svg\" height=\"24px\" viewBox=\"0 -960 960 960\">\n",
              "    <path d=\"M120-120v-720h720v720H120Zm60-500h600v-160H180v160Zm220 220h160v-160H400v160Zm0 220h160v-160H400v160ZM180-400h160v-160H180v160Zm440 0h160v-160H620v160ZM180-180h160v-160H180v160Zm440 0h160v-160H620v160Z\"/>\n",
              "  </svg>\n",
              "    </button>\n",
              "\n",
              "  <style>\n",
              "    .colab-df-container {\n",
              "      display:flex;\n",
              "      gap: 12px;\n",
              "    }\n",
              "\n",
              "    .colab-df-convert {\n",
              "      background-color: #E8F0FE;\n",
              "      border: none;\n",
              "      border-radius: 50%;\n",
              "      cursor: pointer;\n",
              "      display: none;\n",
              "      fill: #1967D2;\n",
              "      height: 32px;\n",
              "      padding: 0 0 0 0;\n",
              "      width: 32px;\n",
              "    }\n",
              "\n",
              "    .colab-df-convert:hover {\n",
              "      background-color: #E2EBFA;\n",
              "      box-shadow: 0px 1px 2px rgba(60, 64, 67, 0.3), 0px 1px 3px 1px rgba(60, 64, 67, 0.15);\n",
              "      fill: #174EA6;\n",
              "    }\n",
              "\n",
              "    .colab-df-buttons div {\n",
              "      margin-bottom: 4px;\n",
              "    }\n",
              "\n",
              "    [theme=dark] .colab-df-convert {\n",
              "      background-color: #3B4455;\n",
              "      fill: #D2E3FC;\n",
              "    }\n",
              "\n",
              "    [theme=dark] .colab-df-convert:hover {\n",
              "      background-color: #434B5C;\n",
              "      box-shadow: 0px 1px 3px 1px rgba(0, 0, 0, 0.15);\n",
              "      filter: drop-shadow(0px 1px 2px rgba(0, 0, 0, 0.3));\n",
              "      fill: #FFFFFF;\n",
              "    }\n",
              "  </style>\n",
              "\n",
              "    <script>\n",
              "      const buttonEl =\n",
              "        document.querySelector('#df-15b1113a-b7d9-46ab-b9fc-47511d578b71 button.colab-df-convert');\n",
              "      buttonEl.style.display =\n",
              "        google.colab.kernel.accessAllowed ? 'block' : 'none';\n",
              "\n",
              "      async function convertToInteractive(key) {\n",
              "        const element = document.querySelector('#df-15b1113a-b7d9-46ab-b9fc-47511d578b71');\n",
              "        const dataTable =\n",
              "          await google.colab.kernel.invokeFunction('convertToInteractive',\n",
              "                                                    [key], {});\n",
              "        if (!dataTable) return;\n",
              "\n",
              "        const docLinkHtml = 'Like what you see? Visit the ' +\n",
              "          '<a target=\"_blank\" href=https://colab.research.google.com/notebooks/data_table.ipynb>data table notebook</a>'\n",
              "          + ' to learn more about interactive tables.';\n",
              "        element.innerHTML = '';\n",
              "        dataTable['output_type'] = 'display_data';\n",
              "        await google.colab.output.renderOutput(dataTable, element);\n",
              "        const docLink = document.createElement('div');\n",
              "        docLink.innerHTML = docLinkHtml;\n",
              "        element.appendChild(docLink);\n",
              "      }\n",
              "    </script>\n",
              "  </div>\n",
              "\n",
              "\n",
              "    <div id=\"df-27efbb1d-a4dd-4b0c-a1f4-63eff962495e\">\n",
              "      <button class=\"colab-df-quickchart\" onclick=\"quickchart('df-27efbb1d-a4dd-4b0c-a1f4-63eff962495e')\"\n",
              "                title=\"Suggest charts\"\n",
              "                style=\"display:none;\">\n",
              "\n",
              "<svg xmlns=\"http://www.w3.org/2000/svg\" height=\"24px\"viewBox=\"0 0 24 24\"\n",
              "     width=\"24px\">\n",
              "    <g>\n",
              "        <path d=\"M19 3H5c-1.1 0-2 .9-2 2v14c0 1.1.9 2 2 2h14c1.1 0 2-.9 2-2V5c0-1.1-.9-2-2-2zM9 17H7v-7h2v7zm4 0h-2V7h2v10zm4 0h-2v-4h2v4z\"/>\n",
              "    </g>\n",
              "</svg>\n",
              "      </button>\n",
              "\n",
              "<style>\n",
              "  .colab-df-quickchart {\n",
              "      --bg-color: #E8F0FE;\n",
              "      --fill-color: #1967D2;\n",
              "      --hover-bg-color: #E2EBFA;\n",
              "      --hover-fill-color: #174EA6;\n",
              "      --disabled-fill-color: #AAA;\n",
              "      --disabled-bg-color: #DDD;\n",
              "  }\n",
              "\n",
              "  [theme=dark] .colab-df-quickchart {\n",
              "      --bg-color: #3B4455;\n",
              "      --fill-color: #D2E3FC;\n",
              "      --hover-bg-color: #434B5C;\n",
              "      --hover-fill-color: #FFFFFF;\n",
              "      --disabled-bg-color: #3B4455;\n",
              "      --disabled-fill-color: #666;\n",
              "  }\n",
              "\n",
              "  .colab-df-quickchart {\n",
              "    background-color: var(--bg-color);\n",
              "    border: none;\n",
              "    border-radius: 50%;\n",
              "    cursor: pointer;\n",
              "    display: none;\n",
              "    fill: var(--fill-color);\n",
              "    height: 32px;\n",
              "    padding: 0;\n",
              "    width: 32px;\n",
              "  }\n",
              "\n",
              "  .colab-df-quickchart:hover {\n",
              "    background-color: var(--hover-bg-color);\n",
              "    box-shadow: 0 1px 2px rgba(60, 64, 67, 0.3), 0 1px 3px 1px rgba(60, 64, 67, 0.15);\n",
              "    fill: var(--button-hover-fill-color);\n",
              "  }\n",
              "\n",
              "  .colab-df-quickchart-complete:disabled,\n",
              "  .colab-df-quickchart-complete:disabled:hover {\n",
              "    background-color: var(--disabled-bg-color);\n",
              "    fill: var(--disabled-fill-color);\n",
              "    box-shadow: none;\n",
              "  }\n",
              "\n",
              "  .colab-df-spinner {\n",
              "    border: 2px solid var(--fill-color);\n",
              "    border-color: transparent;\n",
              "    border-bottom-color: var(--fill-color);\n",
              "    animation:\n",
              "      spin 1s steps(1) infinite;\n",
              "  }\n",
              "\n",
              "  @keyframes spin {\n",
              "    0% {\n",
              "      border-color: transparent;\n",
              "      border-bottom-color: var(--fill-color);\n",
              "      border-left-color: var(--fill-color);\n",
              "    }\n",
              "    20% {\n",
              "      border-color: transparent;\n",
              "      border-left-color: var(--fill-color);\n",
              "      border-top-color: var(--fill-color);\n",
              "    }\n",
              "    30% {\n",
              "      border-color: transparent;\n",
              "      border-left-color: var(--fill-color);\n",
              "      border-top-color: var(--fill-color);\n",
              "      border-right-color: var(--fill-color);\n",
              "    }\n",
              "    40% {\n",
              "      border-color: transparent;\n",
              "      border-right-color: var(--fill-color);\n",
              "      border-top-color: var(--fill-color);\n",
              "    }\n",
              "    60% {\n",
              "      border-color: transparent;\n",
              "      border-right-color: var(--fill-color);\n",
              "    }\n",
              "    80% {\n",
              "      border-color: transparent;\n",
              "      border-right-color: var(--fill-color);\n",
              "      border-bottom-color: var(--fill-color);\n",
              "    }\n",
              "    90% {\n",
              "      border-color: transparent;\n",
              "      border-bottom-color: var(--fill-color);\n",
              "    }\n",
              "  }\n",
              "</style>\n",
              "\n",
              "      <script>\n",
              "        async function quickchart(key) {\n",
              "          const quickchartButtonEl =\n",
              "            document.querySelector('#' + key + ' button');\n",
              "          quickchartButtonEl.disabled = true;  // To prevent multiple clicks.\n",
              "          quickchartButtonEl.classList.add('colab-df-spinner');\n",
              "          try {\n",
              "            const charts = await google.colab.kernel.invokeFunction(\n",
              "                'suggestCharts', [key], {});\n",
              "          } catch (error) {\n",
              "            console.error('Error during call to suggestCharts:', error);\n",
              "          }\n",
              "          quickchartButtonEl.classList.remove('colab-df-spinner');\n",
              "          quickchartButtonEl.classList.add('colab-df-quickchart-complete');\n",
              "        }\n",
              "        (() => {\n",
              "          let quickchartButtonEl =\n",
              "            document.querySelector('#df-27efbb1d-a4dd-4b0c-a1f4-63eff962495e button');\n",
              "          quickchartButtonEl.style.display =\n",
              "            google.colab.kernel.accessAllowed ? 'block' : 'none';\n",
              "        })();\n",
              "      </script>\n",
              "    </div>\n",
              "\n",
              "  <div id=\"id_6a5aec25-1875-4d79-bbb2-946cdc42af51\">\n",
              "    <style>\n",
              "      .colab-df-generate {\n",
              "        background-color: #E8F0FE;\n",
              "        border: none;\n",
              "        border-radius: 50%;\n",
              "        cursor: pointer;\n",
              "        display: none;\n",
              "        fill: #1967D2;\n",
              "        height: 32px;\n",
              "        padding: 0 0 0 0;\n",
              "        width: 32px;\n",
              "      }\n",
              "\n",
              "      .colab-df-generate:hover {\n",
              "        background-color: #E2EBFA;\n",
              "        box-shadow: 0px 1px 2px rgba(60, 64, 67, 0.3), 0px 1px 3px 1px rgba(60, 64, 67, 0.15);\n",
              "        fill: #174EA6;\n",
              "      }\n",
              "\n",
              "      [theme=dark] .colab-df-generate {\n",
              "        background-color: #3B4455;\n",
              "        fill: #D2E3FC;\n",
              "      }\n",
              "\n",
              "      [theme=dark] .colab-df-generate:hover {\n",
              "        background-color: #434B5C;\n",
              "        box-shadow: 0px 1px 3px 1px rgba(0, 0, 0, 0.15);\n",
              "        filter: drop-shadow(0px 1px 2px rgba(0, 0, 0, 0.3));\n",
              "        fill: #FFFFFF;\n",
              "      }\n",
              "    </style>\n",
              "    <button class=\"colab-df-generate\" onclick=\"generateWithVariable('summary')\"\n",
              "            title=\"Generate code using this dataframe.\"\n",
              "            style=\"display:none;\">\n",
              "\n",
              "  <svg xmlns=\"http://www.w3.org/2000/svg\" height=\"24px\"viewBox=\"0 0 24 24\"\n",
              "       width=\"24px\">\n",
              "    <path d=\"M7,19H8.4L18.45,9,17,7.55,7,17.6ZM5,21V16.75L18.45,3.32a2,2,0,0,1,2.83,0l1.4,1.43a1.91,1.91,0,0,1,.58,1.4,1.91,1.91,0,0,1-.58,1.4L9.25,21ZM18.45,9,17,7.55Zm-12,3A5.31,5.31,0,0,0,4.9,8.1,5.31,5.31,0,0,0,1,6.5,5.31,5.31,0,0,0,4.9,4.9,5.31,5.31,0,0,0,6.5,1,5.31,5.31,0,0,0,8.1,4.9,5.31,5.31,0,0,0,12,6.5,5.46,5.46,0,0,0,6.5,12Z\"/>\n",
              "  </svg>\n",
              "    </button>\n",
              "    <script>\n",
              "      (() => {\n",
              "      const buttonEl =\n",
              "        document.querySelector('#id_6a5aec25-1875-4d79-bbb2-946cdc42af51 button.colab-df-generate');\n",
              "      buttonEl.style.display =\n",
              "        google.colab.kernel.accessAllowed ? 'block' : 'none';\n",
              "\n",
              "      buttonEl.onclick = () => {\n",
              "        google.colab.notebook.generateWithVariable('summary');\n",
              "      }\n",
              "      })();\n",
              "    </script>\n",
              "  </div>\n",
              "\n",
              "    </div>\n",
              "  </div>\n"
            ],
            "application/vnd.google.colaboratory.intrinsic+json": {
              "type": "dataframe",
              "variable_name": "summary",
              "summary": "{\n  \"name\": \"summary\",\n  \"rows\": 8,\n  \"fields\": [\n    {\n      \"column\": \"Values\",\n      \"properties\": {\n        \"dtype\": \"number\",\n        \"std\": 353.52855958528374,\n        \"min\": -3.3094730631526184,\n        \"max\": 1000.0,\n        \"num_unique_values\": 8,\n        \"samples\": [\n          0.007199267319158213,\n          0.03976511320165892,\n          1000.0\n        ],\n        \"semantic_type\": \"\",\n        \"description\": \"\"\n      }\n    }\n  ]\n}"
            }
          },
          "metadata": {},
          "execution_count": 15
        }
      ]
    },
    {
      "cell_type": "code",
      "source": [
        "# Q16: Plot a boxplot to understand the spread and identify outliers.\n",
        "\n",
        "plt.boxplot(sim_data)\n",
        "plt.title('Boxplot')\n",
        "plt.show()"
      ],
      "metadata": {
        "colab": {
          "base_uri": "https://localhost:8080/",
          "height": 452
        },
        "id": "5iH8VS_OfEWl",
        "outputId": "958576c8-14e7-41b8-b3b5-8d931b5497be"
      },
      "execution_count": 16,
      "outputs": [
        {
          "output_type": "display_data",
          "data": {
            "text/plain": [
              "<Figure size 640x480 with 1 Axes>"
            ],
            "image/png": "[encoded data removed]"
          },
          "metadata": {}
        }
      ]
    },
    {
      "cell_type": "code",
      "source": [
        "# Q17: Calculate the interquartile range (IQR) of a dataset.\n",
        "\n",
        "Q1 = np.percentile(sim_data, 25)\n",
        "Q3 = np.percentile(sim_data, 75)\n",
        "IQR = Q3 - Q1\n",
        "\n",
        "IQR"
      ],
      "metadata": {
        "colab": {
          "base_uri": "https://localhost:8080/"
        },
        "id": "-5Bcm8YKfG5-",
        "outputId": "3bf94f03-b922-48f4-9bbc-006a5e21a157"
      },
      "execution_count": 17,
      "outputs": [
        {
          "output_type": "execute_result",
          "data": {
            "text/plain": [
              "np.float64(1.3590197243447577)"
            ]
          },
          "metadata": {},
          "execution_count": 17
        }
      ]
    },
    {
      "cell_type": "code",
      "source": [
        "# Q18: Implement Z-score normalization and explain its significance.\n",
        "\n",
        "z_scores = (sim_data - np.mean(sim_data)) / np.std(sim_data)\n",
        "\n",
        "z_scores"
      ],
      "metadata": {
        "colab": {
          "base_uri": "https://localhost:8080/"
        },
        "id": "SmntARszfLVY",
        "outputId": "43df5100-8a70-4dc3-ed42-7c39764a5f4b"
      },
      "execution_count": 18,
      "outputs": [
        {
          "output_type": "execute_result",
          "data": {
            "text/plain": [
              "array([-2.34719102e-01, -1.52985555e+00,  2.63378354e-01,  1.03325639e+00,\n",
              "       -8.04610942e-01, -1.88867290e+00, -9.75089027e-01,  2.29572593e-01,\n",
              "       -1.20059017e+00, -1.16391017e+00,  1.38861311e+00, -8.42291342e-01,\n",
              "       -1.70838945e-01,  2.10600589e-01,  1.62784728e+00, -1.33317199e+00,\n",
              "        1.65476151e+00,  8.76138271e-02, -1.50802866e+00, -1.09530831e+00,\n",
              "        1.24593276e+00, -2.62702146e-01, -1.61668511e+00, -4.53660314e-01,\n",
              "        1.60017651e-01, -9.17801534e-01,  3.56558022e-01, -1.28125797e+00,\n",
              "        3.03893477e-01, -1.35320222e+00,  1.42098761e-01,  4.10602927e-01,\n",
              "       -4.06917327e-01,  1.87976828e+00,  3.42855235e-01,  1.64088848e-01,\n",
              "       -1.62826527e+00,  3.24806089e-01,  1.22039381e+00, -9.84504480e-02,\n",
              "        1.52565708e+00,  8.41034217e-01,  1.78961385e-01,  1.93622109e+00,\n",
              "        4.22564872e-01,  2.09933014e-01,  8.47185146e-01,  8.50240647e-01,\n",
              "       -5.11607517e-01, -3.87098789e-02, -2.44533456e+00, -4.19303403e-01,\n",
              "       -2.09455196e+00,  2.37723413e-01,  8.40422850e-02, -6.67261516e-01,\n",
              "        7.88221140e-01, -9.35935206e-01, -5.82007520e-01,  9.21652568e-01,\n",
              "       -1.52760349e+00,  2.23982560e-01,  1.07313050e+00, -2.41988994e+00,\n",
              "        2.98089077e-01, -3.92139956e-01,  1.34729735e+00,  1.31751532e+00,\n",
              "       -4.91674595e-01, -3.04266761e-01,  1.09421419e+00, -1.62170984e+00,\n",
              "        2.38726979e-01, -1.59919037e-01,  1.35000117e+00,  1.62754639e-01,\n",
              "       -3.93652627e-01,  2.04245402e-01,  6.16565911e-01,  1.78468963e+00,\n",
              "       -2.78029790e+00,  7.00810431e-01, -4.29148903e-01,  1.14138623e+00,\n",
              "       -1.04542523e-02, -6.79919191e-01, -8.82463432e-01, -2.34269392e+00,\n",
              "       -2.88345752e-01, -3.98742732e-02, -3.84705696e-03,  8.14513604e-01,\n",
              "       -6.63862528e-02, -3.07897101e-01,  2.59925917e-01,  6.43570023e-01,\n",
              "        1.98670989e-02, -3.18197336e-01,  5.24040868e-01,  9.98023799e-01,\n",
              "       -3.37416424e-02,  1.01730162e+00,  2.28725654e-01, -6.51542344e-01,\n",
              "        8.25107270e-01,  2.15532084e-01, -1.68155585e+00,  2.18198639e+00,\n",
              "       -6.84780310e-01, -1.00475248e-01, -7.45690038e-01, -3.37054118e-02,\n",
              "       -9.31744065e-01,  4.75777961e-01,  1.53384718e+00, -7.70498987e-01,\n",
              "        2.21321543e+00, -1.01761990e+00,  6.72167640e-01,  3.10066207e-02,\n",
              "       -1.62553548e-01, -1.10030470e+00,  1.88415883e+00, -1.77105672e-02,\n",
              "        2.53545235e-01,  2.69622521e+00,  6.04925726e-01, -7.72086532e-01,\n",
              "        1.67572308e+00,  8.61803358e-01,  7.22047915e-02,  3.43781413e-01,\n",
              "       -3.39185205e-01, -9.24847472e-02, -1.76693980e+00, -1.65015663e+00,\n",
              "       -5.31978106e-01,  6.59681923e-01,  1.27638137e+00,  3.59929009e-01,\n",
              "        1.54816419e+00, -1.73500209e+00,  1.98756195e-01,  1.53137108e+00,\n",
              "        6.83954348e-01,  1.51786629e+00, -2.15025784e+00, -3.07193852e-01,\n",
              "       -5.84143166e-01,  6.35914222e-01,  1.74101394e-01,  1.13224282e+00,\n",
              "       -6.93666670e-01, -1.77147060e+00,  4.42922865e-02, -1.44751069e+00,\n",
              "        3.53501494e-01,  4.04955865e-01, -1.01203814e+00, -1.03701551e+00,\n",
              "        5.59277779e-01, -3.77172166e-01,  9.67297407e-01, -7.98042016e-01,\n",
              "        8.17584785e-01,  2.90958154e-01,  3.56631690e-01, -1.15369566e+00,\n",
              "        1.74441742e+00,  1.30490653e+00,  7.60989655e-01,  2.82017292e-02,\n",
              "       -7.99382457e-01, -1.30822271e+00,  4.21281838e-01,  1.35461827e+00,\n",
              "       -5.51849753e-01, -4.82897063e-01, -1.17931899e+00, -6.55512374e-01,\n",
              "       -5.14796488e-01, -3.02956105e-01, -6.47360306e-01, -5.03897037e-01,\n",
              "        5.59984461e-01, -1.08132155e-01, -2.58790177e-01, -1.13096898e+00,\n",
              "       -1.19383759e+00,  4.68230270e-01,  1.00684604e+00,  9.31846134e-02,\n",
              "        4.06358459e-01, -2.00308305e+00, -1.51902144e+00,  9.91064305e-01,\n",
              "       -6.15826205e-01,  4.17413058e-01, -6.69382841e-01, -1.04138864e-01,\n",
              "        3.98781312e-02,  2.83640388e+00, -4.62412796e-01,  2.84042389e-01,\n",
              "       -1.80973104e+00, -1.32906814e+00, -7.94193489e-01, -5.32295338e-01,\n",
              "       -3.34674929e-01, -2.08682253e+00,  1.02204686e+00,  1.07648916e-01,\n",
              "        8.05166475e-01,  7.23520382e-01,  2.40176923e-01,  1.58264141e-01,\n",
              "       -2.38270327e+00,  5.11240650e-01,  2.03386906e-01, -2.32747509e+00,\n",
              "       -1.77389925e+00,  1.35499757e+00, -6.03340539e-01, -1.39802236e+00,\n",
              "       -1.13740045e+00, -8.13782608e-01,  1.20352119e-01,  7.79895154e-01,\n",
              "       -2.82144449e-01,  1.44710644e+00,  1.28402266e+00,  1.25215620e+00,\n",
              "       -1.06527988e+00,  8.70486595e-02,  9.66697991e-01,  1.90719941e+00,\n",
              "        8.57943762e-01,  1.41395764e-02,  1.81788767e-01,  5.31592809e-01,\n",
              "       -5.05332375e-01,  1.47280028e+00,  1.59528628e+00, -6.85207142e-01,\n",
              "       -8.86157214e-02,  2.06591932e-01,  9.11485031e-01, -4.41589669e-01,\n",
              "        1.25008996e+00, -9.08293164e-01, -1.16328203e+00, -9.40414309e-01,\n",
              "       -5.07140860e-01,  4.00894522e-01, -9.36628046e-01, -1.14635522e+00,\n",
              "        4.35817123e-01,  2.76633695e-01, -8.06630297e-01,  1.01991798e+00,\n",
              "        7.84343073e-01,  3.11631557e-01,  1.48214925e+00, -2.94711628e-01,\n",
              "        1.31859620e+00,  4.81874220e-01, -5.02189352e-01, -3.26437535e-01,\n",
              "       -1.89481317e+00, -1.35670166e+00, -8.40100885e-02, -8.71315138e-01,\n",
              "        6.34858311e-01, -1.32216594e+00,  7.36760520e-01, -2.33034961e+00,\n",
              "        1.79248265e+00,  6.75675251e-01, -8.94818156e-01,  7.07738804e-01,\n",
              "        8.92284841e-01,  9.41532322e-02,  5.72965828e-01,  7.82805357e-01,\n",
              "       -7.14367227e-01, -5.73611005e-01, -6.17835532e-01,  6.97914512e-01,\n",
              "       -1.62700110e-02,  5.44579034e-01,  1.70910406e+00, -1.14365414e-01,\n",
              "        9.59895649e-01, -1.53320331e+00,  5.01354055e-01, -4.68698061e-01,\n",
              "       -1.27325179e+00, -1.33112367e+00, -1.60908665e-02, -7.39793754e-01,\n",
              "        6.35074421e-01, -3.95305137e-01,  1.67885572e-02,  4.17706845e-01,\n",
              "       -4.74685808e-01, -4.12270142e-01,  1.43863866e+00, -5.58946855e-01,\n",
              "        4.84846011e-01, -4.74476121e-01,  2.57817548e-01,  1.69360710e+00,\n",
              "        5.60347877e-01,  2.61133192e-01,  8.87449970e-01, -1.88862916e-01,\n",
              "       -1.12536404e-01, -1.25980382e+00, -1.25199406e+00,  2.48232212e+00,\n",
              "        2.89545699e-01, -4.42156229e-01, -8.41020116e-01,  6.42633680e-01,\n",
              "        3.61919314e-01,  5.29291778e-01, -1.69703176e+00, -9.32317070e-01,\n",
              "        3.23947984e-01, -4.64284652e-01, -1.55222654e-01,  2.82476543e-02,\n",
              "       -1.21741881e+00,  6.42658658e-01,  1.68456167e+00, -3.16516672e-01,\n",
              "        1.44078551e+00,  2.37186175e+00,  6.58394796e-01, -4.31164997e-01,\n",
              "       -7.45098258e-01,  9.99196141e-01, -1.02261339e+00, -6.24871911e-01,\n",
              "        1.15664199e-01,  2.53387144e-01,  7.06088926e-01, -2.52503107e-02,\n",
              "       -1.56594197e+00, -1.91004811e+00, -2.10515794e+00, -1.43891212e+00,\n",
              "        1.10799127e-01, -8.69939172e-02,  4.72024812e-01, -2.56153938e-01,\n",
              "       -7.36186360e-01, -2.69753615e-01,  1.63355384e+00, -1.05487950e-01,\n",
              "       -2.83597862e-01,  4.60483690e-01,  3.63236966e-01, -1.27490492e-01,\n",
              "        1.81451982e-01, -2.46706030e+00,  1.42355341e-01, -2.68997746e-01,\n",
              "        8.07086542e-01, -5.19871839e-01,  6.23661108e-01,  1.26913192e+00,\n",
              "        6.57511177e-01, -1.21192765e+00,  2.74468455e-01, -2.31937681e-01,\n",
              "       -8.25649230e-01, -8.27442950e-01, -1.09443766e+00,  6.34198370e-02,\n",
              "       -5.30952510e-02, -1.03040978e+00,  4.53984089e-01,  1.00379683e+00,\n",
              "        1.25353662e-01,  1.65329581e+00, -8.40467757e-01, -2.02962266e+00,\n",
              "       -5.18764964e-01,  2.45476199e+00, -4.95603572e-01,  1.46587477e+00,\n",
              "       -7.18079205e-01,  3.73170400e-01,  4.70613477e-01, -1.46621760e-01,\n",
              "       -9.10959923e-01,  1.26831650e-01,  2.10260911e+00,  1.27454670e+00,\n",
              "       -1.61872255e-01, -8.01999822e-01, -3.45479226e-01, -4.74551083e-01,\n",
              "        5.35401383e-01,  5.07867686e-01,  4.35865679e-01,  3.76027448e-01,\n",
              "       -1.06858390e+00, -5.30824463e-01,  1.70578866e-01,  2.51156988e-01,\n",
              "       -2.45491487e-01, -9.92312946e-01,  1.41720494e+00,  1.30620205e+00,\n",
              "        7.34373336e-01,  3.46214219e-02, -2.07085656e+00, -9.57355522e-01,\n",
              "        1.28943652e-01,  1.07795395e+00,  1.70296300e+00, -9.27608162e-01,\n",
              "       -3.56534266e-01, -5.10723180e-01, -2.41348506e-01,  9.25835368e-01,\n",
              "       -3.85059883e-01, -1.48794898e+00, -1.05691954e+00,  6.06420624e-01,\n",
              "        3.07243773e-01,  7.15367078e-01, -2.35759281e+00,  1.13050375e+00,\n",
              "       -1.06732258e+00,  1.49088950e+00,  6.97138512e-01, -1.25921971e+00,\n",
              "        1.57984435e+00, -5.51429232e-01,  2.06101838e-01, -5.04569943e-01,\n",
              "       -1.88311187e+00, -2.74073291e-01, -2.56237460e-01, -1.04303861e-01,\n",
              "       -7.19069453e-02, -1.70647169e-01, -5.02403572e-03,  1.25140790e+00,\n",
              "        7.87568722e-01,  9.45612629e-01,  7.55441172e-01,  2.48581372e+00,\n",
              "       -6.26060394e-01,  3.85590956e-01,  6.30172355e-01, -7.49158297e-01,\n",
              "        6.71056481e-01, -1.50988972e+00, -2.01553626e+00, -1.14300836e+00,\n",
              "        7.64522310e-01, -6.86810759e-01,  4.20962872e-01, -2.84660779e-01,\n",
              "       -3.86157134e-01,  1.93261934e+00, -5.91208050e-01, -1.54633298e+00,\n",
              "        1.26940124e+00,  7.01154071e-01, -8.94408779e-02, -6.02741287e-01,\n",
              "        7.17001742e-01, -5.50294877e-01, -1.73194476e-01, -6.46313912e-01,\n",
              "        3.07413628e-01, -1.22151791e+00,  3.58674764e-01, -1.43488406e+00,\n",
              "       -7.16345928e-01,  1.16449430e+00,  1.01623176e+00,  5.52150323e-02,\n",
              "       -2.06094373e+00, -2.19222790e+00, -3.82926704e-01, -1.52489356e+00,\n",
              "        5.41731361e-02, -5.46122639e-01,  6.97777330e-01, -2.39469448e-01,\n",
              "        7.44448883e-01,  2.12503039e-01, -1.92949506e+00, -4.77178198e-01,\n",
              "        1.77948212e+00,  9.10113188e-01, -9.45638139e-01,  1.72961371e-01,\n",
              "        6.97392713e-01, -3.51913668e-01,  5.68008203e-01, -9.50619480e-01,\n",
              "        8.35380815e-01, -9.03011162e-01, -1.00190564e+00,  1.18804404e-01,\n",
              "        6.43729543e-01, -6.85344611e-01,  6.88870202e-01,  1.09385887e+00,\n",
              "        1.26835196e+00, -5.70589851e-01, -1.90204231e+00,  4.31051876e-01,\n",
              "        1.69305143e+00, -1.34137834e-01, -1.12021212e+00,  1.06232834e+00,\n",
              "       -2.11371958e-01,  1.11567530e+00, -2.40821404e-01,  2.28683672e-01,\n",
              "       -1.00913726e+00,  1.39288458e+00,  8.02332871e-01, -2.02277464e-01,\n",
              "        1.20660894e+00,  2.84556169e+00, -1.26530885e+00,  5.30563571e-01,\n",
              "        2.38610668e+00, -9.64178018e-01, -9.27935198e-01,  1.66964155e-01,\n",
              "        1.02000442e-01, -5.10360265e-01,  8.91932539e-01,  3.95477954e-01,\n",
              "       -1.53877477e-01,  2.54965736e+00, -1.47716331e+00,  1.23778584e+00,\n",
              "       -7.74052115e-02,  2.37817892e-01,  3.56861156e-01, -8.96922482e-01,\n",
              "        1.45564679e-01, -4.31603894e-01, -1.14381075e+00, -4.65335103e-01,\n",
              "       -3.87449778e-01, -1.70665921e+00, -1.75343200e+00, -5.44220134e-01,\n",
              "       -2.56102944e-01, -2.07296545e-01,  1.33582195e+00, -2.61634200e-01,\n",
              "        9.40564011e-01,  7.39654469e-01, -6.04818417e-02, -3.85939471e-01,\n",
              "        9.64904775e-02,  1.27332424e+00, -8.36665827e-01,  1.19210459e+00,\n",
              "       -4.89513045e-01, -4.34188209e-01,  1.09669814e+00,  1.26511092e+00,\n",
              "        7.63247197e-01, -2.30267491e-01, -1.67903166e-01,  1.08235853e-01,\n",
              "       -8.10005470e-01,  4.81629919e-01,  4.83393230e-01, -1.41291201e+00,\n",
              "       -3.89723875e-02,  8.15193976e-01, -1.29144716e+00, -6.29404085e-01,\n",
              "        5.68901245e-01,  1.19008022e-01, -1.10520103e+00,  1.76367150e-01,\n",
              "       -3.51227242e-01, -1.32348732e+00,  3.34205631e-01,  6.64578009e-01,\n",
              "       -2.48241390e-01,  5.12600391e-01,  1.05604859e+00,  1.78707051e+00,\n",
              "        1.09123271e+00,  4.19500064e-01,  6.61815764e-01,  5.55276167e-02,\n",
              "       -7.39562318e-01,  4.01412587e-02,  1.46078759e+00,  6.20698911e-01,\n",
              "       -3.86299091e-02,  4.30303162e-03, -1.22076337e+00,  1.78948670e-01,\n",
              "       -1.22786270e+00,  1.15442801e+00, -3.10365575e-03,  1.52476547e+00,\n",
              "       -1.61540875e-01,  2.91576255e-01,  8.46944010e-01, -1.03953526e+00,\n",
              "        9.21209292e-02, -6.63318700e-01, -1.79115577e-01, -2.75704828e-01,\n",
              "        7.05228754e-01,  1.00692798e-02,  7.99154795e-02, -1.23724840e+00,\n",
              "        7.91434058e-01,  7.94685705e-01,  1.24456056e+00, -9.01173042e-01,\n",
              "        2.30520877e-01, -1.49401960e-01, -5.47634998e-01, -5.57231052e-02,\n",
              "        2.15021296e-01, -1.07148646e+00,  2.61927426e-01, -8.61892371e-01,\n",
              "       -1.29187646e+00, -1.00458157e+00, -1.73331717e+00,  1.19025668e+00,\n",
              "       -3.34194779e+00, -2.39898421e-02, -1.26093932e+00,  6.05320716e-02,\n",
              "        2.28793571e+00,  5.01697925e-01,  5.30287057e-01, -7.28773763e-01,\n",
              "        7.67017975e-01,  1.36270783e-01, -1.93322118e+00,  3.78187053e-02,\n",
              "       -1.59930392e+00,  9.74035133e-01,  7.43521037e-01,  4.97959777e-01,\n",
              "       -2.52072428e+00,  9.71644167e-01,  9.60378341e-01,  8.30363690e-01,\n",
              "        3.79235754e-01,  1.03195330e+00,  4.53086789e-01, -4.49657126e-01,\n",
              "       -3.35231256e-01,  3.80922573e-01,  2.08937235e+00, -2.22656560e-01,\n",
              "       -6.80491113e-01,  1.44043558e-01, -7.08999918e-01,  6.51270158e-01,\n",
              "       -1.69777269e+00,  1.83987619e+00,  4.32370971e-02, -1.88364080e-02,\n",
              "       -1.20858068e+00,  6.02685161e-02,  6.45411837e-01, -1.32621884e+00,\n",
              "        6.17558673e-01, -1.30600243e-01,  2.87210828e-01,  1.05048109e+00,\n",
              "        1.50957618e+00, -4.56799540e-01,  1.89103775e-01,  1.80769805e-01,\n",
              "       -7.37532258e-01,  3.70475847e-01,  2.94696968e-01, -3.25587904e-01,\n",
              "        3.12871728e-01,  1.65833258e+00,  3.92184665e-01, -8.38166802e-01,\n",
              "        6.84676694e-01, -8.91239247e-03, -7.77325232e-01, -5.95080868e-01,\n",
              "       -2.34460182e+00, -2.72199033e-01,  2.50821301e-01,  5.60784630e-01,\n",
              "       -1.15398786e-01,  7.96121841e-01, -6.20290753e-01, -8.17348818e-01,\n",
              "        2.27135800e-01, -4.32501467e-03, -3.88565955e-01,  1.55813422e+00,\n",
              "       -7.33589306e-01,  1.78528707e+00, -8.61096226e-01, -8.14985821e-01,\n",
              "       -1.31143741e-02,  9.11214706e-01, -1.96941541e-01, -1.44962741e+00,\n",
              "       -1.17650998e+00,  1.66941556e-01, -9.93117386e-01, -2.09063564e+00,\n",
              "       -3.63169523e-02, -1.62980607e+00,  3.75017632e-01,  5.40642453e-01,\n",
              "        1.39279456e+00,  9.29876785e-01, -3.45227875e-01,  2.61914851e-01,\n",
              "        1.77087548e+00, -1.30456053e+00,  1.62540196e+00, -9.12160078e-02,\n",
              "        1.35753612e-01, -3.64173121e-01, -7.54848597e-02, -2.08959500e+00,\n",
              "        1.48252763e+00,  1.69312928e+00,  9.49858276e-01, -2.43041268e-01,\n",
              "        1.46061074e-01, -1.78330466e+00, -7.57875259e-01, -1.19988517e-01,\n",
              "       -1.01256360e+00, -7.80076375e-02,  1.51464845e+00,  5.88451310e-01,\n",
              "        1.46739915e+00,  1.21389031e+00,  1.67938780e+00, -7.63954739e-01,\n",
              "       -1.75055046e+00,  1.02789004e+00, -7.02863660e-01,  1.83811300e-02,\n",
              "        4.14474358e-01,  1.74073548e+00,  1.39142599e+00, -5.29683369e-01,\n",
              "        6.43916075e-01,  8.70520657e-01,  3.61868668e-01, -6.13267894e-01,\n",
              "        2.61198474e-01, -2.37695308e-01, -7.41238613e-01, -1.32489362e-01,\n",
              "        8.63848635e-01, -6.08751664e-01, -7.28352125e-01,  8.83541837e-01,\n",
              "        3.81392236e-01,  2.70064675e-01,  4.94370403e-01,  5.52646119e-01,\n",
              "       -1.32619946e+00,  9.49519413e-01,  1.07540878e+00, -6.20439439e-01,\n",
              "        1.06736364e+00,  9.25316692e-01,  6.26244280e-01, -1.36663422e+00,\n",
              "       -3.83491631e-01, -2.09503988e+00,  9.28537115e-01,  4.77075881e-01,\n",
              "       -7.69276203e-01,  2.44053375e+00,  1.43561190e-01,  7.01972322e-01,\n",
              "       -1.16791360e+00, -7.58018533e-01,  3.67156915e-01, -2.77176434e-01,\n",
              "       -1.21473870e+00, -3.07758652e-01, -6.93801875e-01, -1.31759101e+00,\n",
              "       -3.02653228e-01, -1.80017341e+00,  5.00866426e-01,  3.42268085e-01,\n",
              "        2.21108925e-01, -2.01974896e+00, -1.27605509e+00,  3.38664679e-01,\n",
              "        1.96276459e-01,  1.02585834e+00,  1.13437206e-01,  1.53229814e+00,\n",
              "        6.42483618e-01,  6.04044032e-02, -1.73408819e+00,  1.60090080e+00,\n",
              "       -6.25542864e-01,  1.09858734e+00,  2.35302734e-01,  5.59569650e-01,\n",
              "        2.15618376e+00,  1.51620935e-01, -6.90455011e-01,  4.06362670e-01,\n",
              "        3.34893126e-01, -1.21246540e+00, -1.16112632e+00, -1.61276929e-01,\n",
              "        6.27389560e-01, -3.94219651e-01, -9.51459662e-01,  7.86619217e-01,\n",
              "       -7.45719638e-02,  1.00496676e+00,  1.25969272e-01,  1.90634066e-01,\n",
              "        1.74117558e+00, -2.75569379e+00, -5.72529004e-01, -7.01306245e-01,\n",
              "       -1.11392849e+00,  1.26659649e+00,  6.55697972e-01,  6.11499444e-01,\n",
              "       -4.14257958e-01, -3.95313851e-01, -8.38277407e-01, -3.77157411e-01,\n",
              "        1.07516094e+00, -3.87306362e-02, -6.80577055e-01,  6.87342095e-01,\n",
              "       -1.99064967e+00, -2.28185668e-03,  1.15948322e+00,  3.61094275e-01,\n",
              "        3.99909690e-01, -2.26332432e-02,  1.61860850e+00, -2.02185133e+00,\n",
              "        4.14918467e-01, -3.14346906e-01, -9.14977698e-01, -1.14536069e+00,\n",
              "       -5.32814030e-02,  1.35428547e+00, -7.86957404e-01,  7.13967725e-01,\n",
              "        2.45474684e+00, -1.09121685e+00,  3.04731110e-01, -9.71708449e-01,\n",
              "        1.04282922e+00,  2.18511138e+00,  1.11910405e+00, -4.59128624e-01,\n",
              "        5.29456180e-01, -1.43110419e-01, -5.88107906e-01, -1.66899364e+00,\n",
              "        8.42652829e-02,  1.28858683e+00, -8.80107928e-01, -3.50992471e-01,\n",
              "       -5.65074628e-01,  1.55442532e-01, -4.39926785e-01,  1.05554434e+00,\n",
              "       -2.45986682e-01,  1.02928539e+00, -1.04164081e+00, -1.06743270e+00,\n",
              "        4.76050846e-01,  1.12304795e+00, -7.54071179e-01, -1.51030929e-01,\n",
              "        4.04538144e-01,  4.18802994e-01,  6.99015304e-01,  6.71908309e-01,\n",
              "        1.18973225e+00, -1.05685770e+00,  8.78361385e-01, -3.81171427e-02,\n",
              "        8.58362341e-01, -1.35251211e+00, -7.08140110e-01,  7.07433920e-01,\n",
              "        8.84688102e-01,  5.98111783e-01,  1.06953088e+00, -8.21771320e-01,\n",
              "       -2.02737317e+00, -1.18599299e+00, -4.14526661e-01,  8.59239038e-01,\n",
              "       -1.11618357e+00,  9.77818167e-01,  1.52144870e+00,  6.06430715e-01,\n",
              "       -1.24739660e+00, -3.79125765e-01,  2.76445525e+00,  4.79587702e-01,\n",
              "       -1.27127737e-01,  5.63669474e-01,  1.46344786e+00,  6.30361341e-01,\n",
              "       -5.39353022e-01, -5.46329799e-01,  8.64420693e-01, -5.93109246e-01,\n",
              "       -3.73264933e-01, -1.50340806e+00,  4.02793727e-01, -6.14875670e-01,\n",
              "       -1.02432731e+00,  2.12511434e+00, -9.68858781e-01, -1.05438345e+00,\n",
              "       -1.66457726e+00, -1.46049012e+00,  6.42929703e-01, -7.36478986e-01,\n",
              "       -1.11087130e+00, -1.75273436e+00,  1.59995578e-01,  1.75026963e-01,\n",
              "        9.45820175e-01, -5.18943793e-01, -6.37145365e-01, -1.04954248e+00,\n",
              "        8.06367042e-02,  1.11887004e+00, -1.52079763e+00,  3.63894225e-03,\n",
              "       -2.02544408e+00, -1.12963358e+00,  1.01733204e+00, -5.91771679e-01,\n",
              "       -2.61694420e-01,  8.45631301e-01,  6.47952485e-01, -1.55172675e-01,\n",
              "        1.03705225e+00,  9.47531128e-01,  1.02745980e-01,  1.14425886e+00,\n",
              "       -1.52654124e+00,  3.08084696e-01,  5.67795069e-01,  1.27663493e+00,\n",
              "        5.44830422e-01,  9.62613492e-01, -7.27666872e-01, -3.88253609e-01,\n",
              "        4.41292798e-01,  3.39362605e-01,  1.31484090e+00, -1.33496141e+00,\n",
              "       -8.99941423e-02,  6.99523647e-01,  1.46175796e+00, -9.13023835e-01,\n",
              "        1.59218457e+00, -5.61855518e-01,  1.58788633e+00, -2.55111467e-01,\n",
              "       -2.86288777e-01,  1.36902107e+00, -3.73144643e-01, -6.86666117e-01])"
            ]
          },
          "metadata": {},
          "execution_count": 18
        }
      ]
    },
    {
      "cell_type": "code",
      "source": [
        "# Q19: Compare two datasets using their standard deviations.\n",
        "\n",
        "data1 = np.random.normal(0, 1, 1000)\n",
        "data2 = np.random.normal(0, 2, 1000)\n",
        "\n",
        "std_dev_data1 = np.std(data1)\n",
        "std_dev_data2 = np.std(data2)\n",
        "\n",
        "std_dev_data1, std_dev_data2"
      ],
      "metadata": {
        "colab": {
          "base_uri": "https://localhost:8080/"
        },
        "id": "aencSK7CfO2Z",
        "outputId": "24bfe28d-fd87-41fe-801d-0e15d40860e9"
      },
      "execution_count": 19,
      "outputs": [
        {
          "output_type": "execute_result",
          "data": {
            "text/plain": [
              "(np.float64(1.05068842403531), np.float64(1.991850578733794))"
            ]
          },
          "metadata": {},
          "execution_count": 19
        }
      ]
    },
    {
      "cell_type": "code",
      "source": [
        "# Q20: Write a Python program to visualize covariance using a heatmap.\n",
        "\n",
        "import seaborn as sns\n",
        "\n",
        "cov_matrix = np.cov(data1, data2)\n",
        "sns.heatmap(cov_matrix, annot=True)\n",
        "plt.title('Covariance Heatmap')\n",
        "plt.show()"
      ],
      "metadata": {
        "colab": {
          "base_uri": "https://localhost:8080/",
          "height": 452
        },
        "id": "BBl2hcozfRHu",
        "outputId": "5ed8535c-7b0a-4bfb-b47e-8bc69c0102af"
      },
      "execution_count": 20,
      "outputs": [
        {
          "output_type": "display_data",
          "data": {
            "text/plain": [
              "<Figure size 640x480 with 2 Axes>"
            ],
            "image/png": "[encoded data removed]"
          },
          "metadata": {}
        }
      ]
    },
    {
      "cell_type": "code",
      "source": [
        "# Q21: Use seaborn to create a correlation matrix for a dataset.\n",
        "\n",
        "corr_matrix = np.corrcoef(data1, data2)\n",
        "sns.heatmap(corr_matrix, annot=True)\n",
        "plt.title('Correlation Matrix')\n",
        "plt.show()\n",
        ""
      ],
      "metadata": {
        "colab": {
          "base_uri": "https://localhost:8080/",
          "height": 452
        },
        "id": "OH-DC7i6fTv3",
        "outputId": "834163f5-1de6-4d48-ac92-0dc29e1d2e49"
      },
      "execution_count": 21,
      "outputs": [
        {
          "output_type": "display_data",
          "data": {
            "text/plain": [
              "<Figure size 640x480 with 2 Axes>"
            ],
            "image/png": "[encoded data removed]"
          },
          "metadata": {}
        }
      ]
    },
    {
      "cell_type": "code",
      "source": [
        "# Q22: Generate a dataset and implement both variance and standard deviation computations.\n",
        "\n",
        "new_data = np.random.normal(0, 1, 1000)\n",
        "variance = np.var(new_data)\n",
        "std_dev = np.std(new_data)\n",
        "\n",
        "variance, std_dev"
      ],
      "metadata": {
        "colab": {
          "base_uri": "https://localhost:8080/"
        },
        "id": "-J9YGyDZfWM4",
        "outputId": "772601f3-34f2-45f4-92ef-1d9642645c42"
      },
      "execution_count": 22,
      "outputs": [
        {
          "output_type": "execute_result",
          "data": {
            "text/plain": [
              "(np.float64(1.0391716626003744), np.float64(1.0193976959952256))"
            ]
          },
          "metadata": {},
          "execution_count": 22
        }
      ]
    },
    {
      "cell_type": "code",
      "source": [
        "# Q23: Visualize skewness and kurtosis using Python libraries.\n",
        "\n",
        "fig, ax = plt.subplots(1, 2, figsize=(12, 6))\n",
        "sns.histplot(new_data, kde=True, ax=ax[0])\n",
        "ax[0].set_title('Histogram')\n",
        "ax[1].set_title('Boxplot')\n",
        "sns.boxplot(x=new_data, ax=ax[1])\n",
        "plt.show()"
      ],
      "metadata": {
        "colab": {
          "base_uri": "https://localhost:8080/",
          "height": 545
        },
        "id": "NvGVChk0fYTs",
        "outputId": "ba420a6b-38b4-4e9b-87d7-35f32bac691d"
      },
      "execution_count": 23,
      "outputs": [
        {
          "output_type": "display_data",
          "data": {
            "text/plain": [
              "<Figure size 1200x600 with 2 Axes>"
            ],
            "image/png": "[encoded data removed]"
          },
          "metadata": {}
        }
      ]
    },
    {
      "cell_type": "code",
      "source": [
        "# Q24: Implement the Pearson and Spearman correlation coefficients\n",
        "\n",
        "pearson_corr = stats.pearsonr(x, y)\n",
        "spearman_corr = stats.spearmanr(x, y)\n",
        "\n",
        "pearson_corr, spearman_corr"
      ],
      "metadata": {
        "colab": {
          "base_uri": "https://localhost:8080/"
        },
        "id": "EruA62Bdfbia",
        "outputId": "e62a7ef3-5aa6-4518-bfb6-738d70dd3374"
      },
      "execution_count": 24,
      "outputs": [
        {
          "output_type": "execute_result",
          "data": {
            "text/plain": [
              "(PearsonRResult(statistic=np.float64(0.9999999999999998), pvalue=np.float64(1.3415758552508146e-08)),\n",
              " SignificanceResult(statistic=np.float64(1.0), pvalue=np.float64(0.0)))"
            ]
          },
          "metadata": {},
          "execution_count": 24
        }
      ]
    }
  ]
}